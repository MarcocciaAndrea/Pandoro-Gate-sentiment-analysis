{
  "cells": [
    {
      "cell_type": "markdown",
      "metadata": {
        "id": "vpFpTMyGHqw0"
      },
      "source": [
        "# DO NOT RUN ON GOOGLE COLAB --> IT WON'T WORK BECAUSE IT REQUIRES MORE GIGA THAN THE GOOGLE COLAB RAM CAN HANDLE"
      ]
    },
    {
      "cell_type": "code",
      "execution_count": null,
      "metadata": {
        "colab": {
          "base_uri": "https://localhost:8080/"
        },
        "id": "KBTU7KWSHENs",
        "outputId": "2789e059-d037-4e88-b8b4-8cfc847271da"
      },
      "outputs": [
        {
          "name": "stdout",
          "output_type": "stream",
          "text": [
            "\u001b[31mERROR: Could not find a version that satisfies the requirement mistralai.client (from versions: none)\u001b[0m\u001b[31m\n",
            "\u001b[0m\u001b[31mERROR: No matching distribution found for mistralai.client\u001b[0m\u001b[31m\n",
            "\u001b[0m"
          ]
        }
      ],
      "source": [
        "pip install mistralai.client"
      ]
    },
    {
      "cell_type": "code",
      "execution_count": 6,
      "metadata": {
        "id": "kxEFOarTIARK"
      },
      "outputs": [
        {
          "name": "stdout",
          "output_type": "stream",
          "text": [
            "Collecting mistralai==0.1.8 (from -r requirements.txt (line 1))\n",
            "  Using cached mistralai-0.1.8-py3-none-any.whl.metadata (1.8 kB)\n",
            "Collecting numpy==1.24.3 (from -r requirements.txt (line 2))\n",
            "  Downloading numpy-1.24.3.tar.gz (10.9 MB)\n",
            "     ---------------------------------------- 0.0/10.9 MB ? eta -:--:--\n",
            "     ---------------------------------------- 0.0/10.9 MB 1.3 MB/s eta 0:00:09\n",
            "     --- ------------------------------------ 0.8/10.9 MB 8.7 MB/s eta 0:00:02\n",
            "     --- ------------------------------------ 1.0/10.9 MB 9.5 MB/s eta 0:00:02\n",
            "     --- ------------------------------------ 1.0/10.9 MB 9.5 MB/s eta 0:00:02\n",
            "     ----- ---------------------------------- 1.6/10.9 MB 6.6 MB/s eta 0:00:02\n",
            "     ------- -------------------------------- 2.1/10.9 MB 8.3 MB/s eta 0:00:02\n",
            "     ------- -------------------------------- 2.1/10.9 MB 8.3 MB/s eta 0:00:02\n",
            "     --------- ------------------------------ 2.5/10.9 MB 6.7 MB/s eta 0:00:02\n",
            "     ----------- ---------------------------- 3.1/10.9 MB 7.7 MB/s eta 0:00:02\n",
            "     ----------- ---------------------------- 3.1/10.9 MB 7.7 MB/s eta 0:00:02\n",
            "     ------------- -------------------------- 3.6/10.9 MB 6.9 MB/s eta 0:00:02\n",
            "     --------------- ------------------------ 4.2/10.9 MB 7.9 MB/s eta 0:00:01\n",
            "     --------------- ------------------------ 4.2/10.9 MB 7.9 MB/s eta 0:00:01\n",
            "     ----------------- ---------------------- 4.9/10.9 MB 7.4 MB/s eta 0:00:01\n",
            "     ------------------- -------------------- 5.2/10.9 MB 8.0 MB/s eta 0:00:01\n",
            "     ------------------- -------------------- 5.2/10.9 MB 8.0 MB/s eta 0:00:01\n",
            "     ---------------------- ----------------- 6.2/10.9 MB 7.7 MB/s eta 0:00:01\n",
            "     ----------------------- ---------------- 6.3/10.9 MB 7.9 MB/s eta 0:00:01\n",
            "     ----------------------- ---------------- 6.3/10.9 MB 7.9 MB/s eta 0:00:01\n",
            "     ------------------------- -------------- 6.9/10.9 MB 7.4 MB/s eta 0:00:01\n",
            "     -------------------------- ------------- 7.3/10.9 MB 7.7 MB/s eta 0:00:01\n",
            "     -------------------------- ------------- 7.3/10.9 MB 7.7 MB/s eta 0:00:01\n",
            "     ------------------------------ --------- 8.4/10.9 MB 7.8 MB/s eta 0:00:01\n",
            "     ------------------------------ --------- 8.4/10.9 MB 7.8 MB/s eta 0:00:01\n",
            "     ------------------------------ --------- 8.4/10.9 MB 7.8 MB/s eta 0:00:01\n",
            "     ------------------------------ --------- 8.4/10.9 MB 7.8 MB/s eta 0:00:01\n",
            "     ------------------------------ --------- 8.4/10.9 MB 7.8 MB/s eta 0:00:01\n",
            "     --------------------------------- ------ 9.1/10.9 MB 7.0 MB/s eta 0:00:01\n",
            "     ---------------------------------- ----- 9.4/10.9 MB 7.2 MB/s eta 0:00:01\n",
            "     ---------------------------------- ----- 9.4/10.9 MB 7.2 MB/s eta 0:00:01\n",
            "     ------------------------------------- -- 10.1/10.9 MB 7.0 MB/s eta 0:00:01\n",
            "     ---------------------------------------- 10.9/10.9 MB 7.3 MB/s eta 0:00:00\n",
            "  Installing build dependencies: started\n",
            "  Installing build dependencies: finished with status 'done'\n",
            "  Getting requirements to build wheel: started\n",
            "  Getting requirements to build wheel: finished with status 'error'\n",
            "Note: you may need to restart the kernel to use updated packages.\n"
          ]
        },
        {
          "name": "stderr",
          "output_type": "stream",
          "text": [
            "  error: subprocess-exited-with-error\n",
            "  \n",
            "  × Getting requirements to build wheel did not run successfully.\n",
            "  │ exit code: 1\n",
            "  ╰─> [33 lines of output]\n",
            "      Traceback (most recent call last):\n",
            "        File \"c:\\Users\\andre\\AppData\\Local\\Programs\\Python\\Python312\\Lib\\site-packages\\pip\\_vendor\\pyproject_hooks\\_in_process\\_in_process.py\", line 353, in <module>\n",
            "          main()\n",
            "        File \"c:\\Users\\andre\\AppData\\Local\\Programs\\Python\\Python312\\Lib\\site-packages\\pip\\_vendor\\pyproject_hooks\\_in_process\\_in_process.py\", line 335, in main\n",
            "          json_out['return_val'] = hook(**hook_input['kwargs'])\n",
            "                                   ^^^^^^^^^^^^^^^^^^^^^^^^^^^^\n",
            "        File \"c:\\Users\\andre\\AppData\\Local\\Programs\\Python\\Python312\\Lib\\site-packages\\pip\\_vendor\\pyproject_hooks\\_in_process\\_in_process.py\", line 112, in get_requires_for_build_wheel\n",
            "          backend = _build_backend()\n",
            "                    ^^^^^^^^^^^^^^^^\n",
            "        File \"c:\\Users\\andre\\AppData\\Local\\Programs\\Python\\Python312\\Lib\\site-packages\\pip\\_vendor\\pyproject_hooks\\_in_process\\_in_process.py\", line 77, in _build_backend\n",
            "          obj = import_module(mod_path)\n",
            "                ^^^^^^^^^^^^^^^^^^^^^^^\n",
            "        File \"c:\\Users\\andre\\AppData\\Local\\Programs\\Python\\Python312\\Lib\\importlib\\__init__.py\", line 90, in import_module\n",
            "          return _bootstrap._gcd_import(name[level:], package, level)\n",
            "                 ^^^^^^^^^^^^^^^^^^^^^^^^^^^^^^^^^^^^^^^^^^^^^^^^^^^^\n",
            "        File \"<frozen importlib._bootstrap>\", line 1381, in _gcd_import\n",
            "        File \"<frozen importlib._bootstrap>\", line 1354, in _find_and_load\n",
            "        File \"<frozen importlib._bootstrap>\", line 1304, in _find_and_load_unlocked\n",
            "        File \"<frozen importlib._bootstrap>\", line 488, in _call_with_frames_removed\n",
            "        File \"<frozen importlib._bootstrap>\", line 1381, in _gcd_import\n",
            "        File \"<frozen importlib._bootstrap>\", line 1354, in _find_and_load\n",
            "        File \"<frozen importlib._bootstrap>\", line 1325, in _find_and_load_unlocked\n",
            "        File \"<frozen importlib._bootstrap>\", line 929, in _load_unlocked\n",
            "        File \"<frozen importlib._bootstrap_external>\", line 994, in exec_module\n",
            "        File \"<frozen importlib._bootstrap>\", line 488, in _call_with_frames_removed\n",
            "        File \"C:\\Users\\andre\\AppData\\Local\\Temp\\pip-build-env-rgd1sg80\\overlay\\Lib\\site-packages\\setuptools\\__init__.py\", line 16, in <module>\n",
            "          import setuptools.version\n",
            "        File \"C:\\Users\\andre\\AppData\\Local\\Temp\\pip-build-env-rgd1sg80\\overlay\\Lib\\site-packages\\setuptools\\version.py\", line 1, in <module>\n",
            "          import pkg_resources\n",
            "        File \"C:\\Users\\andre\\AppData\\Local\\Temp\\pip-build-env-rgd1sg80\\overlay\\Lib\\site-packages\\pkg_resources\\__init__.py\", line 2172, in <module>\n",
            "          register_finder(pkgutil.ImpImporter, find_on_path)\n",
            "                          ^^^^^^^^^^^^^^^^^^^\n",
            "      AttributeError: module 'pkgutil' has no attribute 'ImpImporter'. Did you mean: 'zipimporter'?\n",
            "      [end of output]\n",
            "  \n",
            "  note: This error originates from a subprocess, and is likely not a problem with pip.\n",
            "error: subprocess-exited-with-error\n",
            "\n",
            "× Getting requirements to build wheel did not run successfully.\n",
            "│ exit code: 1\n",
            "╰─> See above for output.\n",
            "\n",
            "note: This error originates from a subprocess, and is likely not a problem with pip.\n",
            "\n",
            "[notice] A new release of pip is available: 23.3.2 -> 24.0\n",
            "[notice] To update, run: python.exe -m pip install --upgrade pip\n"
          ]
        }
      ],
      "source": [
        "pip install -r requirements.txt"
      ]
    },
    {
      "cell_type": "code",
      "execution_count": 4,
      "metadata": {
        "colab": {
          "base_uri": "https://localhost:8080/",
          "height": 440
        },
        "id": "xj5zQ77Z7KGz",
        "outputId": "5dd7b3a3-c0ba-46e3-b1fe-bccc80236ab4"
      },
      "outputs": [],
      "source": [
        "import pandas as pd\n",
        "import matplotlib.pyplot as plt\n",
        "import matplotlib.dates as mdates\n",
        "import seaborn as sns\n",
        "import numpy as np\n",
        "import plotly.graph_objects as go\n",
        "import os\n",
        "from mistralai.client import MistralClient\n",
        "from mistralai.models.chat_completion import ChatMessage\n",
        "from requests_html import HTMLSession, AsyncHTMLSession\n",
        "import asyncio\n",
        "from newspaper import Article"
      ]
    },
    {
      "cell_type": "markdown",
      "metadata": {
        "id": "15Pgnika7KGz"
      },
      "source": [
        "## Read comments data from IG and sentiment them\n",
        "The data is then saved in ig_comments_sentiment.csv you can just start from the next section with the data ready for the analysis."
      ]
    },
    {
      "cell_type": "markdown",
      "metadata": {
        "id": "At8HGZ6N7KG0"
      },
      "source": [
        "Import comments on specific posts. CSV files have been gathered through https://exportcomments.com/"
      ]
    },
    {
      "cell_type": "code",
      "execution_count": 5,
      "metadata": {
        "id": "EU7SO2HiHFu8"
      },
      "outputs": [
        {
          "ename": "FileNotFoundError",
          "evalue": "[Errno 2] No such file or directory: './IG_comments/ferragni 27-09.csv'",
          "output_type": "error",
          "traceback": [
            "\u001b[1;31m---------------------------------------------------------------------------\u001b[0m",
            "\u001b[1;31mFileNotFoundError\u001b[0m                         Traceback (most recent call last)",
            "Cell \u001b[1;32mIn[5], line 1\u001b[0m\n\u001b[1;32m----> 1\u001b[0m ig_comments_27_09_23 \u001b[38;5;241m=\u001b[39m \u001b[43mpd\u001b[49m\u001b[38;5;241;43m.\u001b[39;49m\u001b[43mread_csv\u001b[49m\u001b[43m(\u001b[49m\u001b[38;5;124;43m'\u001b[39;49m\u001b[38;5;124;43m./IG_comments/ferragni 27-09.csv\u001b[39;49m\u001b[38;5;124;43m'\u001b[39;49m\u001b[43m,\u001b[49m\u001b[43m \u001b[49m\u001b[43mdelimiter\u001b[49m\u001b[38;5;241;43m=\u001b[39;49m\u001b[38;5;124;43m'\u001b[39;49m\u001b[38;5;124;43m,\u001b[39;49m\u001b[38;5;124;43m'\u001b[39;49m\u001b[43m)\u001b[49m\n\u001b[0;32m      2\u001b[0m ig_comments_25_10_23 \u001b[38;5;241m=\u001b[39m pd\u001b[38;5;241m.\u001b[39mread_csv(\u001b[38;5;124m'\u001b[39m\u001b[38;5;124m./IG_comments/ferragni 25-10.csv\u001b[39m\u001b[38;5;124m'\u001b[39m, delimiter\u001b[38;5;241m=\u001b[39m\u001b[38;5;124m'\u001b[39m\u001b[38;5;124m,\u001b[39m\u001b[38;5;124m'\u001b[39m)\n\u001b[0;32m      3\u001b[0m ig_comments_18_11_23 \u001b[38;5;241m=\u001b[39m pd\u001b[38;5;241m.\u001b[39mread_csv(\u001b[38;5;124m'\u001b[39m\u001b[38;5;124m./IG_comments/ferragni 18-11.csv\u001b[39m\u001b[38;5;124m'\u001b[39m, delimiter\u001b[38;5;241m=\u001b[39m\u001b[38;5;124m'\u001b[39m\u001b[38;5;124m,\u001b[39m\u001b[38;5;124m'\u001b[39m)\n",
            "File \u001b[1;32m~\\AppData\\Roaming\\Python\\Python312\\site-packages\\pandas\\io\\parsers\\readers.py:1026\u001b[0m, in \u001b[0;36mread_csv\u001b[1;34m(filepath_or_buffer, sep, delimiter, header, names, index_col, usecols, dtype, engine, converters, true_values, false_values, skipinitialspace, skiprows, skipfooter, nrows, na_values, keep_default_na, na_filter, verbose, skip_blank_lines, parse_dates, infer_datetime_format, keep_date_col, date_parser, date_format, dayfirst, cache_dates, iterator, chunksize, compression, thousands, decimal, lineterminator, quotechar, quoting, doublequote, escapechar, comment, encoding, encoding_errors, dialect, on_bad_lines, delim_whitespace, low_memory, memory_map, float_precision, storage_options, dtype_backend)\u001b[0m\n\u001b[0;32m   1013\u001b[0m kwds_defaults \u001b[38;5;241m=\u001b[39m _refine_defaults_read(\n\u001b[0;32m   1014\u001b[0m     dialect,\n\u001b[0;32m   1015\u001b[0m     delimiter,\n\u001b[1;32m   (...)\u001b[0m\n\u001b[0;32m   1022\u001b[0m     dtype_backend\u001b[38;5;241m=\u001b[39mdtype_backend,\n\u001b[0;32m   1023\u001b[0m )\n\u001b[0;32m   1024\u001b[0m kwds\u001b[38;5;241m.\u001b[39mupdate(kwds_defaults)\n\u001b[1;32m-> 1026\u001b[0m \u001b[38;5;28;01mreturn\u001b[39;00m \u001b[43m_read\u001b[49m\u001b[43m(\u001b[49m\u001b[43mfilepath_or_buffer\u001b[49m\u001b[43m,\u001b[49m\u001b[43m \u001b[49m\u001b[43mkwds\u001b[49m\u001b[43m)\u001b[49m\n",
            "File \u001b[1;32m~\\AppData\\Roaming\\Python\\Python312\\site-packages\\pandas\\io\\parsers\\readers.py:620\u001b[0m, in \u001b[0;36m_read\u001b[1;34m(filepath_or_buffer, kwds)\u001b[0m\n\u001b[0;32m    617\u001b[0m _validate_names(kwds\u001b[38;5;241m.\u001b[39mget(\u001b[38;5;124m\"\u001b[39m\u001b[38;5;124mnames\u001b[39m\u001b[38;5;124m\"\u001b[39m, \u001b[38;5;28;01mNone\u001b[39;00m))\n\u001b[0;32m    619\u001b[0m \u001b[38;5;66;03m# Create the parser.\u001b[39;00m\n\u001b[1;32m--> 620\u001b[0m parser \u001b[38;5;241m=\u001b[39m \u001b[43mTextFileReader\u001b[49m\u001b[43m(\u001b[49m\u001b[43mfilepath_or_buffer\u001b[49m\u001b[43m,\u001b[49m\u001b[43m \u001b[49m\u001b[38;5;241;43m*\u001b[39;49m\u001b[38;5;241;43m*\u001b[39;49m\u001b[43mkwds\u001b[49m\u001b[43m)\u001b[49m\n\u001b[0;32m    622\u001b[0m \u001b[38;5;28;01mif\u001b[39;00m chunksize \u001b[38;5;129;01mor\u001b[39;00m iterator:\n\u001b[0;32m    623\u001b[0m     \u001b[38;5;28;01mreturn\u001b[39;00m parser\n",
            "File \u001b[1;32m~\\AppData\\Roaming\\Python\\Python312\\site-packages\\pandas\\io\\parsers\\readers.py:1620\u001b[0m, in \u001b[0;36mTextFileReader.__init__\u001b[1;34m(self, f, engine, **kwds)\u001b[0m\n\u001b[0;32m   1617\u001b[0m     \u001b[38;5;28mself\u001b[39m\u001b[38;5;241m.\u001b[39moptions[\u001b[38;5;124m\"\u001b[39m\u001b[38;5;124mhas_index_names\u001b[39m\u001b[38;5;124m\"\u001b[39m] \u001b[38;5;241m=\u001b[39m kwds[\u001b[38;5;124m\"\u001b[39m\u001b[38;5;124mhas_index_names\u001b[39m\u001b[38;5;124m\"\u001b[39m]\n\u001b[0;32m   1619\u001b[0m \u001b[38;5;28mself\u001b[39m\u001b[38;5;241m.\u001b[39mhandles: IOHandles \u001b[38;5;241m|\u001b[39m \u001b[38;5;28;01mNone\u001b[39;00m \u001b[38;5;241m=\u001b[39m \u001b[38;5;28;01mNone\u001b[39;00m\n\u001b[1;32m-> 1620\u001b[0m \u001b[38;5;28mself\u001b[39m\u001b[38;5;241m.\u001b[39m_engine \u001b[38;5;241m=\u001b[39m \u001b[38;5;28;43mself\u001b[39;49m\u001b[38;5;241;43m.\u001b[39;49m\u001b[43m_make_engine\u001b[49m\u001b[43m(\u001b[49m\u001b[43mf\u001b[49m\u001b[43m,\u001b[49m\u001b[43m \u001b[49m\u001b[38;5;28;43mself\u001b[39;49m\u001b[38;5;241;43m.\u001b[39;49m\u001b[43mengine\u001b[49m\u001b[43m)\u001b[49m\n",
            "File \u001b[1;32m~\\AppData\\Roaming\\Python\\Python312\\site-packages\\pandas\\io\\parsers\\readers.py:1880\u001b[0m, in \u001b[0;36mTextFileReader._make_engine\u001b[1;34m(self, f, engine)\u001b[0m\n\u001b[0;32m   1878\u001b[0m     \u001b[38;5;28;01mif\u001b[39;00m \u001b[38;5;124m\"\u001b[39m\u001b[38;5;124mb\u001b[39m\u001b[38;5;124m\"\u001b[39m \u001b[38;5;129;01mnot\u001b[39;00m \u001b[38;5;129;01min\u001b[39;00m mode:\n\u001b[0;32m   1879\u001b[0m         mode \u001b[38;5;241m+\u001b[39m\u001b[38;5;241m=\u001b[39m \u001b[38;5;124m\"\u001b[39m\u001b[38;5;124mb\u001b[39m\u001b[38;5;124m\"\u001b[39m\n\u001b[1;32m-> 1880\u001b[0m \u001b[38;5;28mself\u001b[39m\u001b[38;5;241m.\u001b[39mhandles \u001b[38;5;241m=\u001b[39m \u001b[43mget_handle\u001b[49m\u001b[43m(\u001b[49m\n\u001b[0;32m   1881\u001b[0m \u001b[43m    \u001b[49m\u001b[43mf\u001b[49m\u001b[43m,\u001b[49m\n\u001b[0;32m   1882\u001b[0m \u001b[43m    \u001b[49m\u001b[43mmode\u001b[49m\u001b[43m,\u001b[49m\n\u001b[0;32m   1883\u001b[0m \u001b[43m    \u001b[49m\u001b[43mencoding\u001b[49m\u001b[38;5;241;43m=\u001b[39;49m\u001b[38;5;28;43mself\u001b[39;49m\u001b[38;5;241;43m.\u001b[39;49m\u001b[43moptions\u001b[49m\u001b[38;5;241;43m.\u001b[39;49m\u001b[43mget\u001b[49m\u001b[43m(\u001b[49m\u001b[38;5;124;43m\"\u001b[39;49m\u001b[38;5;124;43mencoding\u001b[39;49m\u001b[38;5;124;43m\"\u001b[39;49m\u001b[43m,\u001b[49m\u001b[43m \u001b[49m\u001b[38;5;28;43;01mNone\u001b[39;49;00m\u001b[43m)\u001b[49m\u001b[43m,\u001b[49m\n\u001b[0;32m   1884\u001b[0m \u001b[43m    \u001b[49m\u001b[43mcompression\u001b[49m\u001b[38;5;241;43m=\u001b[39;49m\u001b[38;5;28;43mself\u001b[39;49m\u001b[38;5;241;43m.\u001b[39;49m\u001b[43moptions\u001b[49m\u001b[38;5;241;43m.\u001b[39;49m\u001b[43mget\u001b[49m\u001b[43m(\u001b[49m\u001b[38;5;124;43m\"\u001b[39;49m\u001b[38;5;124;43mcompression\u001b[39;49m\u001b[38;5;124;43m\"\u001b[39;49m\u001b[43m,\u001b[49m\u001b[43m \u001b[49m\u001b[38;5;28;43;01mNone\u001b[39;49;00m\u001b[43m)\u001b[49m\u001b[43m,\u001b[49m\n\u001b[0;32m   1885\u001b[0m \u001b[43m    \u001b[49m\u001b[43mmemory_map\u001b[49m\u001b[38;5;241;43m=\u001b[39;49m\u001b[38;5;28;43mself\u001b[39;49m\u001b[38;5;241;43m.\u001b[39;49m\u001b[43moptions\u001b[49m\u001b[38;5;241;43m.\u001b[39;49m\u001b[43mget\u001b[49m\u001b[43m(\u001b[49m\u001b[38;5;124;43m\"\u001b[39;49m\u001b[38;5;124;43mmemory_map\u001b[39;49m\u001b[38;5;124;43m\"\u001b[39;49m\u001b[43m,\u001b[49m\u001b[43m \u001b[49m\u001b[38;5;28;43;01mFalse\u001b[39;49;00m\u001b[43m)\u001b[49m\u001b[43m,\u001b[49m\n\u001b[0;32m   1886\u001b[0m \u001b[43m    \u001b[49m\u001b[43mis_text\u001b[49m\u001b[38;5;241;43m=\u001b[39;49m\u001b[43mis_text\u001b[49m\u001b[43m,\u001b[49m\n\u001b[0;32m   1887\u001b[0m \u001b[43m    \u001b[49m\u001b[43merrors\u001b[49m\u001b[38;5;241;43m=\u001b[39;49m\u001b[38;5;28;43mself\u001b[39;49m\u001b[38;5;241;43m.\u001b[39;49m\u001b[43moptions\u001b[49m\u001b[38;5;241;43m.\u001b[39;49m\u001b[43mget\u001b[49m\u001b[43m(\u001b[49m\u001b[38;5;124;43m\"\u001b[39;49m\u001b[38;5;124;43mencoding_errors\u001b[39;49m\u001b[38;5;124;43m\"\u001b[39;49m\u001b[43m,\u001b[49m\u001b[43m \u001b[49m\u001b[38;5;124;43m\"\u001b[39;49m\u001b[38;5;124;43mstrict\u001b[39;49m\u001b[38;5;124;43m\"\u001b[39;49m\u001b[43m)\u001b[49m\u001b[43m,\u001b[49m\n\u001b[0;32m   1888\u001b[0m \u001b[43m    \u001b[49m\u001b[43mstorage_options\u001b[49m\u001b[38;5;241;43m=\u001b[39;49m\u001b[38;5;28;43mself\u001b[39;49m\u001b[38;5;241;43m.\u001b[39;49m\u001b[43moptions\u001b[49m\u001b[38;5;241;43m.\u001b[39;49m\u001b[43mget\u001b[49m\u001b[43m(\u001b[49m\u001b[38;5;124;43m\"\u001b[39;49m\u001b[38;5;124;43mstorage_options\u001b[39;49m\u001b[38;5;124;43m\"\u001b[39;49m\u001b[43m,\u001b[49m\u001b[43m \u001b[49m\u001b[38;5;28;43;01mNone\u001b[39;49;00m\u001b[43m)\u001b[49m\u001b[43m,\u001b[49m\n\u001b[0;32m   1889\u001b[0m \u001b[43m\u001b[49m\u001b[43m)\u001b[49m\n\u001b[0;32m   1890\u001b[0m \u001b[38;5;28;01massert\u001b[39;00m \u001b[38;5;28mself\u001b[39m\u001b[38;5;241m.\u001b[39mhandles \u001b[38;5;129;01mis\u001b[39;00m \u001b[38;5;129;01mnot\u001b[39;00m \u001b[38;5;28;01mNone\u001b[39;00m\n\u001b[0;32m   1891\u001b[0m f \u001b[38;5;241m=\u001b[39m \u001b[38;5;28mself\u001b[39m\u001b[38;5;241m.\u001b[39mhandles\u001b[38;5;241m.\u001b[39mhandle\n",
            "File \u001b[1;32m~\\AppData\\Roaming\\Python\\Python312\\site-packages\\pandas\\io\\common.py:873\u001b[0m, in \u001b[0;36mget_handle\u001b[1;34m(path_or_buf, mode, encoding, compression, memory_map, is_text, errors, storage_options)\u001b[0m\n\u001b[0;32m    868\u001b[0m \u001b[38;5;28;01melif\u001b[39;00m \u001b[38;5;28misinstance\u001b[39m(handle, \u001b[38;5;28mstr\u001b[39m):\n\u001b[0;32m    869\u001b[0m     \u001b[38;5;66;03m# Check whether the filename is to be opened in binary mode.\u001b[39;00m\n\u001b[0;32m    870\u001b[0m     \u001b[38;5;66;03m# Binary mode does not support 'encoding' and 'newline'.\u001b[39;00m\n\u001b[0;32m    871\u001b[0m     \u001b[38;5;28;01mif\u001b[39;00m ioargs\u001b[38;5;241m.\u001b[39mencoding \u001b[38;5;129;01mand\u001b[39;00m \u001b[38;5;124m\"\u001b[39m\u001b[38;5;124mb\u001b[39m\u001b[38;5;124m\"\u001b[39m \u001b[38;5;129;01mnot\u001b[39;00m \u001b[38;5;129;01min\u001b[39;00m ioargs\u001b[38;5;241m.\u001b[39mmode:\n\u001b[0;32m    872\u001b[0m         \u001b[38;5;66;03m# Encoding\u001b[39;00m\n\u001b[1;32m--> 873\u001b[0m         handle \u001b[38;5;241m=\u001b[39m \u001b[38;5;28;43mopen\u001b[39;49m\u001b[43m(\u001b[49m\n\u001b[0;32m    874\u001b[0m \u001b[43m            \u001b[49m\u001b[43mhandle\u001b[49m\u001b[43m,\u001b[49m\n\u001b[0;32m    875\u001b[0m \u001b[43m            \u001b[49m\u001b[43mioargs\u001b[49m\u001b[38;5;241;43m.\u001b[39;49m\u001b[43mmode\u001b[49m\u001b[43m,\u001b[49m\n\u001b[0;32m    876\u001b[0m \u001b[43m            \u001b[49m\u001b[43mencoding\u001b[49m\u001b[38;5;241;43m=\u001b[39;49m\u001b[43mioargs\u001b[49m\u001b[38;5;241;43m.\u001b[39;49m\u001b[43mencoding\u001b[49m\u001b[43m,\u001b[49m\n\u001b[0;32m    877\u001b[0m \u001b[43m            \u001b[49m\u001b[43merrors\u001b[49m\u001b[38;5;241;43m=\u001b[39;49m\u001b[43merrors\u001b[49m\u001b[43m,\u001b[49m\n\u001b[0;32m    878\u001b[0m \u001b[43m            \u001b[49m\u001b[43mnewline\u001b[49m\u001b[38;5;241;43m=\u001b[39;49m\u001b[38;5;124;43m\"\u001b[39;49m\u001b[38;5;124;43m\"\u001b[39;49m\u001b[43m,\u001b[49m\n\u001b[0;32m    879\u001b[0m \u001b[43m        \u001b[49m\u001b[43m)\u001b[49m\n\u001b[0;32m    880\u001b[0m     \u001b[38;5;28;01melse\u001b[39;00m:\n\u001b[0;32m    881\u001b[0m         \u001b[38;5;66;03m# Binary mode\u001b[39;00m\n\u001b[0;32m    882\u001b[0m         handle \u001b[38;5;241m=\u001b[39m \u001b[38;5;28mopen\u001b[39m(handle, ioargs\u001b[38;5;241m.\u001b[39mmode)\n",
            "\u001b[1;31mFileNotFoundError\u001b[0m: [Errno 2] No such file or directory: './IG_comments/ferragni 27-09.csv'"
          ]
        }
      ],
      "source": [
        "ig_comments_27_09_23 = pd.read_csv('./IG_comments/ferragni 27-09.csv', delimiter=',')\n",
        "ig_comments_25_10_23 = pd.read_csv('./IG_comments/ferragni 25-10.csv', delimiter=',')\n",
        "ig_comments_18_11_23 = pd.read_csv('./IG_comments/ferragni 18-11.csv', delimiter=',')\n",
        "ig_comments_06_12_23 = pd.read_csv('./IG_comments/ferragni 06-12.csv', delimiter=',')\n",
        "ig_comments_14_12_23 = pd.read_csv('./IG_comments/ferragni 14-12.csv', delimiter=',')\n",
        "ig_comments_video_18_12_23 = pd.read_csv('./IG_comments/video_ferragni 18-12.csv', delimiter=',')\n",
        "ig_comments_04_03_24 = pd.read_csv('./IG_comments/ferragni 04-03.csv', delimiter=',')\n",
        "ig_comments_17_03_24 = pd.read_csv('./IG_comments/ferragni 17-03.csv', delimiter=',')\n",
        "ig_comments_23_03_24 = pd.read_csv('./IG_comments/ferragni 23-03.csv', delimiter=',')"
      ]
    },
    {
      "cell_type": "code",
      "execution_count": null,
      "metadata": {
        "id": "vZEfSbfe7KG1",
        "outputId": "58078b9c-0eda-4cdf-a575-7d518b876c1f"
      },
      "outputs": [
        {
          "name": "stdout",
          "output_type": "stream",
          "text": [
            "ig_comments_27_09_23: before = 100, after = 83\n",
            "ig_comments_25_10_23: before = 100, after = 80\n",
            "ig_comments_18_11_23: before = 100, after = 62\n",
            "ig_comments_06_12_23: before = 100, after = 56\n",
            "ig_comments_14_12_23: before = 100, after = 49\n",
            "ig_comments_video_18_12_23: before = 100, after = 63\n",
            "ig_comments_04_03_24: before = 100, after = 81\n",
            "ig_comments_17_03_24: before = 100, after = 69\n",
            "ig_comments_23_03_24: before = 100, after = 84\n"
          ]
        }
      ],
      "source": [
        "dataframes = [ig_comments_27_09_23, ig_comments_25_10_23, ig_comments_18_11_23,\n",
        "              ig_comments_06_12_23, ig_comments_14_12_23, ig_comments_video_18_12_23,\n",
        "              ig_comments_04_03_24, ig_comments_17_03_24, ig_comments_23_03_24]\n",
        "dataframe_names = ['ig_comments_27_09_23', 'ig_comments_25_10_23', 'ig_comments_18_11_23',\n",
        "                   'ig_comments_06_12_23', 'ig_comments_14_12_23', 'ig_comments_video_18_12_23',\n",
        "                   'ig_comments_04_03_24', 'ig_comments_17_03_24', 'ig_comments_23_03_24']\n",
        "\n",
        "# Delete rows with @ in the comment (usually they are nested comments, not relevant for the analysis)\n",
        "for i, df in enumerate(dataframes):\n",
        "    before_count = len(df)\n",
        "    df_filtered = df[~df['Comment'].str.contains('@', na=False)]\n",
        "    after_count = len(df_filtered)\n",
        "    print(f\"{dataframe_names[i]}: before = {before_count}, after = {after_count}\")\n",
        "    dataframes[i] = df_filtered"
      ]
    },
    {
      "cell_type": "code",
      "execution_count": null,
      "metadata": {
        "id": "fPWB502B7KG1",
        "outputId": "d647b947-fb26-4db2-91b2-a70bd865c83b"
      },
      "outputs": [
        {
          "name": "stderr",
          "output_type": "stream",
          "text": [
            "C:\\Users\\andre\\AppData\\Local\\Temp\\ipykernel_11240\\2079996390.py:5: SettingWithCopyWarning: \n",
            "A value is trying to be set on a copy of a slice from a DataFrame.\n",
            "Try using .loc[row_indexer,col_indexer] = value instead\n",
            "\n",
            "See the caveats in the documentation: https://pandas.pydata.org/pandas-docs/stable/user_guide/indexing.html#returning-a-view-versus-a-copy\n",
            "  df['date_of_post'] = pd.to_datetime(date)\n",
            "C:\\Users\\andre\\AppData\\Local\\Temp\\ipykernel_11240\\2079996390.py:5: SettingWithCopyWarning: \n",
            "A value is trying to be set on a copy of a slice from a DataFrame.\n",
            "Try using .loc[row_indexer,col_indexer] = value instead\n",
            "\n",
            "See the caveats in the documentation: https://pandas.pydata.org/pandas-docs/stable/user_guide/indexing.html#returning-a-view-versus-a-copy\n",
            "  df['date_of_post'] = pd.to_datetime(date)\n",
            "C:\\Users\\andre\\AppData\\Local\\Temp\\ipykernel_11240\\2079996390.py:5: SettingWithCopyWarning: \n",
            "A value is trying to be set on a copy of a slice from a DataFrame.\n",
            "Try using .loc[row_indexer,col_indexer] = value instead\n",
            "\n",
            "See the caveats in the documentation: https://pandas.pydata.org/pandas-docs/stable/user_guide/indexing.html#returning-a-view-versus-a-copy\n",
            "  df['date_of_post'] = pd.to_datetime(date)\n",
            "C:\\Users\\andre\\AppData\\Local\\Temp\\ipykernel_11240\\2079996390.py:5: SettingWithCopyWarning: \n",
            "A value is trying to be set on a copy of a slice from a DataFrame.\n",
            "Try using .loc[row_indexer,col_indexer] = value instead\n",
            "\n",
            "See the caveats in the documentation: https://pandas.pydata.org/pandas-docs/stable/user_guide/indexing.html#returning-a-view-versus-a-copy\n",
            "  df['date_of_post'] = pd.to_datetime(date)\n",
            "C:\\Users\\andre\\AppData\\Local\\Temp\\ipykernel_11240\\2079996390.py:5: SettingWithCopyWarning: \n",
            "A value is trying to be set on a copy of a slice from a DataFrame.\n",
            "Try using .loc[row_indexer,col_indexer] = value instead\n",
            "\n",
            "See the caveats in the documentation: https://pandas.pydata.org/pandas-docs/stable/user_guide/indexing.html#returning-a-view-versus-a-copy\n",
            "  df['date_of_post'] = pd.to_datetime(date)\n",
            "C:\\Users\\andre\\AppData\\Local\\Temp\\ipykernel_11240\\2079996390.py:5: SettingWithCopyWarning: \n",
            "A value is trying to be set on a copy of a slice from a DataFrame.\n",
            "Try using .loc[row_indexer,col_indexer] = value instead\n",
            "\n",
            "See the caveats in the documentation: https://pandas.pydata.org/pandas-docs/stable/user_guide/indexing.html#returning-a-view-versus-a-copy\n",
            "  df['date_of_post'] = pd.to_datetime(date)\n",
            "C:\\Users\\andre\\AppData\\Local\\Temp\\ipykernel_11240\\2079996390.py:5: SettingWithCopyWarning: \n",
            "A value is trying to be set on a copy of a slice from a DataFrame.\n",
            "Try using .loc[row_indexer,col_indexer] = value instead\n",
            "\n",
            "See the caveats in the documentation: https://pandas.pydata.org/pandas-docs/stable/user_guide/indexing.html#returning-a-view-versus-a-copy\n",
            "  df['date_of_post'] = pd.to_datetime(date)\n",
            "C:\\Users\\andre\\AppData\\Local\\Temp\\ipykernel_11240\\2079996390.py:5: SettingWithCopyWarning: \n",
            "A value is trying to be set on a copy of a slice from a DataFrame.\n",
            "Try using .loc[row_indexer,col_indexer] = value instead\n",
            "\n",
            "See the caveats in the documentation: https://pandas.pydata.org/pandas-docs/stable/user_guide/indexing.html#returning-a-view-versus-a-copy\n",
            "  df['date_of_post'] = pd.to_datetime(date)\n",
            "C:\\Users\\andre\\AppData\\Local\\Temp\\ipykernel_11240\\2079996390.py:5: SettingWithCopyWarning: \n",
            "A value is trying to be set on a copy of a slice from a DataFrame.\n",
            "Try using .loc[row_indexer,col_indexer] = value instead\n",
            "\n",
            "See the caveats in the documentation: https://pandas.pydata.org/pandas-docs/stable/user_guide/indexing.html#returning-a-view-versus-a-copy\n",
            "  df['date_of_post'] = pd.to_datetime(date)\n"
          ]
        },
        {
          "data": {
            "text/html": [
              "<div>\n",
              "<style scoped>\n",
              "    .dataframe tbody tr th:only-of-type {\n",
              "        vertical-align: middle;\n",
              "    }\n",
              "\n",
              "    .dataframe tbody tr th {\n",
              "        vertical-align: top;\n",
              "    }\n",
              "\n",
              "    .dataframe thead th {\n",
              "        text-align: right;\n",
              "    }\n",
              "</style>\n",
              "<table border=\"1\" class=\"dataframe\">\n",
              "  <thead>\n",
              "    <tr style=\"text-align: right;\">\n",
              "      <th></th>\n",
              "      <th>date_of_post</th>\n",
              "      <th>Comment</th>\n",
              "    </tr>\n",
              "  </thead>\n",
              "  <tbody>\n",
              "    <tr>\n",
              "      <th>8</th>\n",
              "      <td>2024-03-17</td>\n",
              "      <td>Bellissimi  Che Bello Vedervi Felici ..... Nel...</td>\n",
              "    </tr>\n",
              "    <tr>\n",
              "      <th>0</th>\n",
              "      <td>2024-03-17</td>\n",
              "      <td>Senza fedez..nn è la stessa cosa..😂</td>\n",
              "    </tr>\n",
              "    <tr>\n",
              "      <th>57</th>\n",
              "      <td>2024-03-04</td>\n",
              "      <td>Forza Chiara, vai avanti, sei una ragazza in g...</td>\n",
              "    </tr>\n",
              "    <tr>\n",
              "      <th>2</th>\n",
              "      <td>2023-10-25</td>\n",
              "      <td>Have a great day</td>\n",
              "    </tr>\n",
              "    <tr>\n",
              "      <th>42</th>\n",
              "      <td>2024-03-04</td>\n",
              "      <td>Brava chiara , ti Amiamo❤️</td>\n",
              "    </tr>\n",
              "  </tbody>\n",
              "</table>\n",
              "</div>"
            ],
            "text/plain": [
              "   date_of_post                                            Comment\n",
              "8    2024-03-17  Bellissimi  Che Bello Vedervi Felici ..... Nel...\n",
              "0    2024-03-17                Senza fedez..nn è la stessa cosa..😂\n",
              "57   2024-03-04  Forza Chiara, vai avanti, sei una ragazza in g...\n",
              "2    2023-10-25                                   Have a great day\n",
              "42   2024-03-04                         Brava chiara , ti Amiamo❤️"
            ]
          },
          "execution_count": 5,
          "metadata": {},
          "output_type": "execute_result"
        }
      ],
      "source": [
        "dates = ['2023-09-27', '2023-10-25', '2023-11-18', '2023-12-06', '2023-12-14', '2023-12-18', '2024-03-04', '2024-03-17', '2024-03-23']\n",
        "\n",
        "# Add a date_of_post column to each DataFrame based on its corresponding date\n",
        "for df, date in zip(dataframes, dates):\n",
        "    df['date_of_post'] = pd.to_datetime(date)\n",
        "\n",
        "# Concatenate all DataFrames into one, ensuring the new DataFrame has just the 'date_of_post' and 'Comment' columns\n",
        "ig_comments = pd.concat(dataframes)[['date_of_post', 'Comment']]\n",
        "\n",
        "# sample few comments\n",
        "ig_comments.sample(5)"
      ]
    },
    {
      "cell_type": "markdown",
      "metadata": {
        "id": "5unAdXiw7KG1"
      },
      "source": [
        "## Sentiment analysis with Mistral API"
      ]
    },
    {
      "cell_type": "code",
      "execution_count": null,
      "metadata": {
        "id": "fBlpgncP7KG1"
      },
      "outputs": [],
      "source": [
        "# creating a variable with our API key in order to authenticate and access Mistral's services and defining the type of Mistral's model to use\n",
        "\n",
        "api_key = \"XNjiqIP1IeZxKfbtXckwD5duNvCMyfyZ\"\n",
        "model = \"open-mixtral-8x7b\"\n",
        "\n",
        "client = MistralClient(api_key=api_key)\n",
        "\n",
        "# defining a system message as an initial guide to the API outlining the task of sentiment calssification\n",
        "system_message = ChatMessage(role=\"system\", content=\"Classify the sentiment of the following Instagram comments as 'Positive', 'Neutral', or 'Negative'.\")\n",
        "\n",
        "# formulating a unique promt for each comment that directs the model to classify sentiment\n",
        "prompt_format = \"Classify the content of this Instagram comment, replying only with 'Positive', 'Neutral', or 'Negative': {}\"\n",
        "messages = [system_message] + [ChatMessage(role=\"user\", content=prompt_format.format(comment)) for comment in ig_comments['Comment']]\n",
        "\n",
        "# performing sentiment analysis\n",
        "sentiments = []\n",
        "for message in messages:\n",
        "    try:\n",
        "        response = client.chat(model=model, messages=[message])\n",
        "        sentiment = response.choices[0].message.content  # Assuming each response has one sentiment\n",
        "        sentiments.append(sentiment)\n",
        "    except Exception as e:\n",
        "        print(f\"An error occurred with message '{message.content}': {e}\")\n",
        "        sentiments.append(\"Error\")"
      ]
    },
    {
      "cell_type": "markdown",
      "metadata": {
        "id": "jsDg6MX5AjP9"
      },
      "source": [
        "INSTAGRAM CONFIGURATION"
      ]
    },
    {
      "cell_type": "code",
      "execution_count": null,
      "metadata": {
        "id": "30k1GJVi7KG2",
        "outputId": "7f4c3d9b-0f9f-4f2e-9acd-49c615ebf6b5"
      },
      "outputs": [
        {
          "data": {
            "text/plain": [
              "['Positive', 'Positive', 'Positive', 'Positive', 'Positive']"
            ]
          },
          "execution_count": 8,
          "metadata": {},
          "output_type": "execute_result"
        }
      ],
      "source": [
        "simplified_sentiments = []\n",
        "for sentiment in sentiments[1:]: #(skipping the first element because it's the system message)\n",
        "# if the sentiment contains the word \"positive\", the string \"Positive\" will be appended to the \"simplified_sentiments\" variable initiated at the beginning of the code\n",
        "# same thing for \"negative\" and \"neutral\"\n",
        "    if 'positive' in sentiment.lower():\n",
        "        simplified_sentiments.append('Positive')\n",
        "        pass\n",
        "    elif 'negative' in sentiment.lower():\n",
        "        simplified_sentiments.append('Negative')\n",
        "        pass\n",
        "    else:\n",
        "\n",
        "        simplified_sentiments.append('Neutral')\n",
        "\n",
        "simplified_sentiments[:5]"
      ]
    },
    {
      "cell_type": "code",
      "execution_count": null,
      "metadata": {
        "id": "06mHOr3q7KG2"
      },
      "outputs": [],
      "source": [
        "# creating a column with the sentiments related to each comment\n",
        "ig_comments['sentiment'] = simplified_sentiments"
      ]
    },
    {
      "cell_type": "code",
      "execution_count": null,
      "metadata": {
        "id": "H7D2l6zw7KG2"
      },
      "outputs": [],
      "source": [
        "# loading the instagram csv with the sentiment\n",
        "'''ig_comments.to_csv('./IG_comments/ig_comments_sentiment.csv', index=False)'''"
      ]
    },
    {
      "cell_type": "markdown",
      "metadata": {
        "id": "rKKgjCuS7KG2"
      },
      "source": [
        "### Reload data on comments and sentiments on instagram posts"
      ]
    },
    {
      "cell_type": "code",
      "execution_count": null,
      "metadata": {
        "colab": {
          "base_uri": "https://localhost:8080/",
          "height": 461
        },
        "id": "yHLaV3hY7KG2",
        "outputId": "cec0dd2e-c932-4c74-cebb-ca1c9700ae66"
      },
      "outputs": [
        {
          "name": "stdout",
          "output_type": "stream",
          "text": [
            "627\n",
            "623\n"
          ]
        },
        {
          "data": {
            "text/html": [
              "<div>\n",
              "<style scoped>\n",
              "    .dataframe tbody tr th:only-of-type {\n",
              "        vertical-align: middle;\n",
              "    }\n",
              "\n",
              "    .dataframe tbody tr th {\n",
              "        vertical-align: top;\n",
              "    }\n",
              "\n",
              "    .dataframe thead th {\n",
              "        text-align: right;\n",
              "    }\n",
              "</style>\n",
              "<table border=\"1\" class=\"dataframe\">\n",
              "  <thead>\n",
              "    <tr style=\"text-align: right;\">\n",
              "      <th></th>\n",
              "      <th>date_of_post</th>\n",
              "      <th>Comment</th>\n",
              "      <th>sentiment</th>\n",
              "    </tr>\n",
              "  </thead>\n",
              "  <tbody>\n",
              "    <tr>\n",
              "      <th>0</th>\n",
              "      <td>2023-09-27</td>\n",
              "      <td>💙💖</td>\n",
              "      <td>Positive</td>\n",
              "    </tr>\n",
              "    <tr>\n",
              "      <th>1</th>\n",
              "      <td>2023-09-27</td>\n",
              "      <td>❤️</td>\n",
              "      <td>Positive</td>\n",
              "    </tr>\n",
              "    <tr>\n",
              "      <th>2</th>\n",
              "      <td>2023-09-27</td>\n",
              "      <td>💖</td>\n",
              "      <td>Positive</td>\n",
              "    </tr>\n",
              "    <tr>\n",
              "      <th>3</th>\n",
              "      <td>2023-09-27</td>\n",
              "      <td>😍❤️😍❤️ che amori</td>\n",
              "      <td>Positive</td>\n",
              "    </tr>\n",
              "    <tr>\n",
              "      <th>4</th>\n",
              "      <td>2023-09-27</td>\n",
              "      <td>Sono due teneroni😍😍</td>\n",
              "      <td>Positive</td>\n",
              "    </tr>\n",
              "  </tbody>\n",
              "</table>\n",
              "</div>"
            ],
            "text/plain": [
              "  date_of_post              Comment sentiment\n",
              "0   2023-09-27                   💙💖  Positive\n",
              "1   2023-09-27                   ❤️  Positive\n",
              "2   2023-09-27                    💖  Positive\n",
              "3   2023-09-27     😍❤️😍❤️ che amori  Positive\n",
              "4   2023-09-27  Sono due teneroni😍😍  Positive"
            ]
          },
          "execution_count": 10,
          "metadata": {},
          "output_type": "execute_result"
        }
      ],
      "source": [
        "# looking at the dataset and dropping NaNs\n",
        "ig_comments = pd.read_csv('./IG_comments/ig_comments_sentiment.csv')\n",
        "print(len(ig_comments))\n",
        "ig_comments = ig_comments.dropna()\n",
        "print(len(ig_comments))\n",
        "ig_comments.head()"
      ]
    },
    {
      "cell_type": "code",
      "execution_count": null,
      "metadata": {
        "id": "7hD0x9Xj7KG2",
        "outputId": "ffa9bc88-783c-43d4-d05c-aea6067a75e6"
      },
      "outputs": [
        {
          "data": {
            "text/html": [
              "<div>\n",
              "<style scoped>\n",
              "    .dataframe tbody tr th:only-of-type {\n",
              "        vertical-align: middle;\n",
              "    }\n",
              "\n",
              "    .dataframe tbody tr th {\n",
              "        vertical-align: top;\n",
              "    }\n",
              "\n",
              "    .dataframe thead th {\n",
              "        text-align: right;\n",
              "    }\n",
              "</style>\n",
              "<table border=\"1\" class=\"dataframe\">\n",
              "  <thead>\n",
              "    <tr style=\"text-align: right;\">\n",
              "      <th></th>\n",
              "      <th>date_of_post</th>\n",
              "      <th>Comment</th>\n",
              "      <th>sentiment</th>\n",
              "    </tr>\n",
              "  </thead>\n",
              "  <tbody>\n",
              "    <tr>\n",
              "      <th>247</th>\n",
              "      <td>2023-12-06</td>\n",
              "      <td>❤️❤️</td>\n",
              "      <td>Positive</td>\n",
              "    </tr>\n",
              "    <tr>\n",
              "      <th>11</th>\n",
              "      <td>2023-09-27</td>\n",
              "      <td>😍</td>\n",
              "      <td>Positive</td>\n",
              "    </tr>\n",
              "    <tr>\n",
              "      <th>492</th>\n",
              "      <td>2024-03-17</td>\n",
              "      <td>❤️❤️❤️❤️❤️❤️</td>\n",
              "      <td>Positive</td>\n",
              "    </tr>\n",
              "    <tr>\n",
              "      <th>591</th>\n",
              "      <td>2024-03-23</td>\n",
              "      <td>Auguri ❤️</td>\n",
              "      <td>Positive</td>\n",
              "    </tr>\n",
              "    <tr>\n",
              "      <th>53</th>\n",
              "      <td>2023-09-27</td>\n",
              "      <td>E una bella famiglia</td>\n",
              "      <td>Positive</td>\n",
              "    </tr>\n",
              "    <tr>\n",
              "      <th>272</th>\n",
              "      <td>2023-12-06</td>\n",
              "      <td>Certo che l'invidia assurdo la cattiveria che vedo</td>\n",
              "      <td>Negative</td>\n",
              "    </tr>\n",
              "    <tr>\n",
              "      <th>548</th>\n",
              "      <td>2024-03-23</td>\n",
              "      <td>❤️❤️❤️❤️buon compleanno piccola🎂🥳🥳🥳🥳😘</td>\n",
              "      <td>Positive</td>\n",
              "    </tr>\n",
              "    <tr>\n",
              "      <th>277</th>\n",
              "      <td>2023-12-06</td>\n",
              "      <td>giax.photography Buon Natale Fedex Mio figlio quest'anno mi ha fatto un regalo inaspettato: mi ha fatto ascoltare la...</td>\n",
              "      <td>Positive</td>\n",
              "    </tr>\n",
              "    <tr>\n",
              "      <th>144</th>\n",
              "      <td>2023-10-25</td>\n",
              "      <td>😍😍😍😍😍😍😍😍😍</td>\n",
              "      <td>Positive</td>\n",
              "    </tr>\n",
              "    <tr>\n",
              "      <th>342</th>\n",
              "      <td>2023-12-18</td>\n",
              "      <td>Os seguía por los niños, me encantabais como familia. Siento decepción total total y por eso dejo de seguiros, aprov...</td>\n",
              "      <td>Negative</td>\n",
              "    </tr>\n",
              "  </tbody>\n",
              "</table>\n",
              "</div>"
            ],
            "text/plain": [
              "    date_of_post  \\\n",
              "247   2023-12-06   \n",
              "11    2023-09-27   \n",
              "492   2024-03-17   \n",
              "591   2024-03-23   \n",
              "53    2023-09-27   \n",
              "272   2023-12-06   \n",
              "548   2024-03-23   \n",
              "277   2023-12-06   \n",
              "144   2023-10-25   \n",
              "342   2023-12-18   \n",
              "\n",
              "                                                                                                                     Comment  \\\n",
              "247                                                                                                                     ❤️❤️   \n",
              "11                                                                                                                         😍   \n",
              "492                                                                                                             ❤️❤️❤️❤️❤️❤️   \n",
              "591                                                                                                                Auguri ❤️   \n",
              "53                                                                                                      E una bella famiglia   \n",
              "272                                                                       Certo che l'invidia assurdo la cattiveria che vedo   \n",
              "548                                                                                    ❤️❤️❤️❤️buon compleanno piccola🎂🥳🥳🥳🥳😘   \n",
              "277  giax.photography Buon Natale Fedex Mio figlio quest'anno mi ha fatto un regalo inaspettato: mi ha fatto ascoltare la...   \n",
              "144                                                                                                                😍😍😍😍😍😍😍😍😍   \n",
              "342  Os seguía por los niños, me encantabais como familia. Siento decepción total total y por eso dejo de seguiros, aprov...   \n",
              "\n",
              "    sentiment  \n",
              "247  Positive  \n",
              "11   Positive  \n",
              "492  Positive  \n",
              "591  Positive  \n",
              "53   Positive  \n",
              "272  Negative  \n",
              "548  Positive  \n",
              "277  Positive  \n",
              "144  Positive  \n",
              "342  Negative  "
            ]
          },
          "execution_count": 154,
          "metadata": {},
          "output_type": "execute_result"
        }
      ],
      "source": [
        "sample_comments = ig_comments.sample(10)\n",
        "\n",
        "pd.set_option('display.max_colwidth', 120)\n",
        "sample_comments"
      ]
    },
    {
      "cell_type": "code",
      "execution_count": null,
      "metadata": {
        "id": "K0li8EgO7KG3",
        "outputId": "154615fb-4fcb-42fb-c0e1-140390d1c42e"
      },
      "outputs": [
        {
          "name": "stderr",
          "output_type": "stream",
          "text": [
            "C:\\Users\\andre\\AppData\\Local\\Temp\\ipykernel_11240\\3877762156.py:11: FutureWarning: Styler.applymap has been deprecated. Use Styler.map instead.\n",
            "  sample_comments = sample_comments.style.set_properties(**{'text-align': 'center'}).set_table_styles([dict(selector='th', props=[('text-align', 'center')])]).applymap(color_sentiment, subset=['sentiment'])\n"
          ]
        },
        {
          "data": {
            "text/html": [
              "<style type=\"text/css\">\n",
              "#T_9b665 th {\n",
              "  text-align: center;\n",
              "}\n",
              "#T_9b665_row0_col0, #T_9b665_row0_col1, #T_9b665_row1_col0, #T_9b665_row1_col1, #T_9b665_row2_col0, #T_9b665_row2_col1, #T_9b665_row3_col0, #T_9b665_row3_col1, #T_9b665_row4_col0, #T_9b665_row4_col1, #T_9b665_row5_col0, #T_9b665_row5_col1, #T_9b665_row6_col0, #T_9b665_row6_col1, #T_9b665_row7_col0, #T_9b665_row7_col1, #T_9b665_row8_col0, #T_9b665_row8_col1, #T_9b665_row9_col0, #T_9b665_row9_col1 {\n",
              "  text-align: center;\n",
              "}\n",
              "#T_9b665_row0_col2, #T_9b665_row1_col2, #T_9b665_row3_col2, #T_9b665_row5_col2, #T_9b665_row7_col2, #T_9b665_row8_col2 {\n",
              "  text-align: center;\n",
              "  color: green;\n",
              "}\n",
              "#T_9b665_row2_col2, #T_9b665_row6_col2, #T_9b665_row9_col2 {\n",
              "  text-align: center;\n",
              "  color: red;\n",
              "}\n",
              "#T_9b665_row4_col2 {\n",
              "  text-align: center;\n",
              "  color: gray;\n",
              "}\n",
              "</style>\n",
              "<table id=\"T_9b665\">\n",
              "  <thead>\n",
              "    <tr>\n",
              "      <th class=\"blank level0\" >&nbsp;</th>\n",
              "      <th id=\"T_9b665_level0_col0\" class=\"col_heading level0 col0\" >date_of_post</th>\n",
              "      <th id=\"T_9b665_level0_col1\" class=\"col_heading level0 col1\" >Comment</th>\n",
              "      <th id=\"T_9b665_level0_col2\" class=\"col_heading level0 col2\" >sentiment</th>\n",
              "    </tr>\n",
              "  </thead>\n",
              "  <tbody>\n",
              "    <tr>\n",
              "      <th id=\"T_9b665_level0_row0\" class=\"row_heading level0 row0\" >165</th>\n",
              "      <td id=\"T_9b665_row0_col0\" class=\"data row0 col0\" >2023-11-18</td>\n",
              "      <td id=\"T_9b665_row0_col1\" class=\"data row0 col1\" >❤️❤️❤️❤️</td>\n",
              "      <td id=\"T_9b665_row0_col2\" class=\"data row0 col2\" >Positive</td>\n",
              "    </tr>\n",
              "    <tr>\n",
              "      <th id=\"T_9b665_level0_row1\" class=\"row_heading level0 row1\" >43</th>\n",
              "      <td id=\"T_9b665_row1_col0\" class=\"data row1 col0\" >2023-09-27</td>\n",
              "      <td id=\"T_9b665_row1_col1\" class=\"data row1 col1\" >Leo es un niño especial ❤️</td>\n",
              "      <td id=\"T_9b665_row1_col2\" class=\"data row1 col2\" >Positive</td>\n",
              "    </tr>\n",
              "    <tr>\n",
              "      <th id=\"T_9b665_level0_row2\" class=\"row_heading level0 row2\" >288</th>\n",
              "      <td id=\"T_9b665_row2_col0\" class=\"data row2 col0\" >2023-12-14</td>\n",
              "      <td id=\"T_9b665_row2_col1\" class=\"data row2 col1\" >E sti  CA....I  della bambina dolcissima?? Che I suoi non si possono toccare ma lei lucra su quelli degli  altri?? Troppo  comodo .. me ne strafrego della figlia</td>\n",
              "      <td id=\"T_9b665_row2_col2\" class=\"data row2 col2\" >Negative</td>\n",
              "    </tr>\n",
              "    <tr>\n",
              "      <th id=\"T_9b665_level0_row3\" class=\"row_heading level0 row3\" >99</th>\n",
              "      <td id=\"T_9b665_row3_col0\" class=\"data row3 col0\" >2023-10-25</td>\n",
              "      <td id=\"T_9b665_row3_col1\" class=\"data row3 col1\" >Semplicemente  meravigliose</td>\n",
              "      <td id=\"T_9b665_row3_col2\" class=\"data row3 col2\" >Positive</td>\n",
              "    </tr>\n",
              "    <tr>\n",
              "      <th id=\"T_9b665_level0_row4\" class=\"row_heading level0 row4\" >609</th>\n",
              "      <td id=\"T_9b665_row4_col0\" class=\"data row4 col0\" >2024-03-23</td>\n",
              "      <td id=\"T_9b665_row4_col1\" class=\"data row4 col1\" >Io vorrei vedere quanti genitori modello ci sono qui che hanno da insegnare agli altri....mah</td>\n",
              "      <td id=\"T_9b665_row4_col2\" class=\"data row4 col2\" >Neutral</td>\n",
              "    </tr>\n",
              "    <tr>\n",
              "      <th id=\"T_9b665_level0_row5\" class=\"row_heading level0 row5\" >156</th>\n",
              "      <td id=\"T_9b665_row5_col0\" class=\"data row5 col0\" >2023-10-25</td>\n",
              "      <td id=\"T_9b665_row5_col1\" class=\"data row5 col1\" >Quanto siete belle 😍</td>\n",
              "      <td id=\"T_9b665_row5_col2\" class=\"data row5 col2\" >Positive</td>\n",
              "    </tr>\n",
              "    <tr>\n",
              "      <th id=\"T_9b665_level0_row6\" class=\"row_heading level0 row6\" >342</th>\n",
              "      <td id=\"T_9b665_row6_col0\" class=\"data row6 col0\" >2023-12-18</td>\n",
              "      <td id=\"T_9b665_row6_col1\" class=\"data row6 col1\" >Os seguía por los niños, me encantabais como familia. Siento decepción total total y por eso dejo de seguiros, aprovecharos de niños enfermos... Bloqueais los comentarios, no hace falta decir nada más</td>\n",
              "      <td id=\"T_9b665_row6_col2\" class=\"data row6 col2\" >Negative</td>\n",
              "    </tr>\n",
              "    <tr>\n",
              "      <th id=\"T_9b665_level0_row7\" class=\"row_heading level0 row7\" >144</th>\n",
              "      <td id=\"T_9b665_row7_col0\" class=\"data row7 col0\" >2023-10-25</td>\n",
              "      <td id=\"T_9b665_row7_col1\" class=\"data row7 col1\" >😍😍😍😍😍😍😍😍😍</td>\n",
              "      <td id=\"T_9b665_row7_col2\" class=\"data row7 col2\" >Positive</td>\n",
              "    </tr>\n",
              "    <tr>\n",
              "      <th id=\"T_9b665_level0_row8\" class=\"row_heading level0 row8\" >200</th>\n",
              "      <td id=\"T_9b665_row8_col0\" class=\"data row8 col0\" >2023-11-18</td>\n",
              "      <td id=\"T_9b665_row8_col1\" class=\"data row8 col1\" >Wow</td>\n",
              "      <td id=\"T_9b665_row8_col2\" class=\"data row8 col2\" >Positive</td>\n",
              "    </tr>\n",
              "    <tr>\n",
              "      <th id=\"T_9b665_level0_row9\" class=\"row_heading level0 row9\" >412</th>\n",
              "      <td id=\"T_9b665_row9_col0\" class=\"data row9 col0\" >2024-03-04</td>\n",
              "      <td id=\"T_9b665_row9_col1\" class=\"data row9 col1\" >Mi dispiace perché sembravi una brava persona..ora non riesci più a parlare senza i tuoi esperti suggeritori..fraintesa? Chiudiamola qui. Sei figlia dei soldi e il tuo valore sarà sempre in rapporto a quelli.</td>\n",
              "      <td id=\"T_9b665_row9_col2\" class=\"data row9 col2\" >Negative</td>\n",
              "    </tr>\n",
              "  </tbody>\n",
              "</table>\n"
            ],
            "text/plain": [
              "<pandas.io.formats.style.Styler at 0x1aa61d28c80>"
            ]
          },
          "execution_count": 11,
          "metadata": {},
          "output_type": "execute_result"
        }
      ],
      "source": [
        "# aesthetical modifications to the dataset\n",
        "# assigning colors to the \"Positive\", \"Negative\" and \"Neutral\" and restyling the Dataframe\n",
        "def color_sentiment(val):\n",
        "    \"\"\"\n",
        "    Colors 'Positive' green and 'Negative' red.\n",
        "    \"\"\"\n",
        "    color = 'red' if val == 'Negative' else 'green' if val == 'Positive' else 'gray'\n",
        "    return f'color: {color}'\n",
        "\n",
        "sample_comments = ig_comments.loc[[165,43,288,99,609,156,342,144,200,412]]\n",
        "sample_comments = sample_comments.style.set_properties(**{'text-align': 'center'}).set_table_styles([dict(selector='th', props=[('text-align', 'center')])]).applymap(color_sentiment, subset=['sentiment'])\n",
        "\n",
        "sample_comments"
      ]
    },
    {
      "cell_type": "markdown",
      "metadata": {
        "id": "0p8p0A1y7KG3"
      },
      "source": [
        "## Sentiment over time on Instagram posts"
      ]
    },
    {
      "cell_type": "code",
      "execution_count": null,
      "metadata": {
        "id": "NsdC46ou7KG3",
        "outputId": "9865005f-450f-4b1a-9afd-2e32df8a4350"
      },
      "outputs": [
        {
          "data": {
            "text/html": [
              "<div>\n",
              "<style scoped>\n",
              "    .dataframe tbody tr th:only-of-type {\n",
              "        vertical-align: middle;\n",
              "    }\n",
              "\n",
              "    .dataframe tbody tr th {\n",
              "        vertical-align: top;\n",
              "    }\n",
              "\n",
              "    .dataframe thead th {\n",
              "        text-align: right;\n",
              "    }\n",
              "</style>\n",
              "<table border=\"1\" class=\"dataframe\">\n",
              "  <thead>\n",
              "    <tr style=\"text-align: right;\">\n",
              "      <th>sentiment</th>\n",
              "      <th>date_of_post</th>\n",
              "      <th>Negative</th>\n",
              "      <th>Neutral</th>\n",
              "      <th>Positive</th>\n",
              "    </tr>\n",
              "  </thead>\n",
              "  <tbody>\n",
              "    <tr>\n",
              "      <th>0</th>\n",
              "      <td>2023-09-27</td>\n",
              "      <td>4.819277</td>\n",
              "      <td>2.409639</td>\n",
              "      <td>92.771084</td>\n",
              "    </tr>\n",
              "    <tr>\n",
              "      <th>1</th>\n",
              "      <td>2023-10-25</td>\n",
              "      <td>5.063291</td>\n",
              "      <td>7.594937</td>\n",
              "      <td>87.341772</td>\n",
              "    </tr>\n",
              "    <tr>\n",
              "      <th>2</th>\n",
              "      <td>2023-11-18</td>\n",
              "      <td>16.129032</td>\n",
              "      <td>1.612903</td>\n",
              "      <td>82.258065</td>\n",
              "    </tr>\n",
              "    <tr>\n",
              "      <th>4</th>\n",
              "      <td>2023-12-14</td>\n",
              "      <td>44.897959</td>\n",
              "      <td>4.081633</td>\n",
              "      <td>51.020408</td>\n",
              "    </tr>\n",
              "    <tr>\n",
              "      <th>5</th>\n",
              "      <td>2023-12-18</td>\n",
              "      <td>30.645161</td>\n",
              "      <td>6.451613</td>\n",
              "      <td>62.903226</td>\n",
              "    </tr>\n",
              "    <tr>\n",
              "      <th>6</th>\n",
              "      <td>2024-03-04</td>\n",
              "      <td>11.111111</td>\n",
              "      <td>8.641975</td>\n",
              "      <td>80.246914</td>\n",
              "    </tr>\n",
              "    <tr>\n",
              "      <th>7</th>\n",
              "      <td>2024-03-17</td>\n",
              "      <td>20.289855</td>\n",
              "      <td>7.246377</td>\n",
              "      <td>72.463768</td>\n",
              "    </tr>\n",
              "    <tr>\n",
              "      <th>8</th>\n",
              "      <td>2024-03-23</td>\n",
              "      <td>11.904762</td>\n",
              "      <td>4.761905</td>\n",
              "      <td>83.333333</td>\n",
              "    </tr>\n",
              "  </tbody>\n",
              "</table>\n",
              "</div>"
            ],
            "text/plain": [
              "sentiment date_of_post   Negative   Neutral   Positive\n",
              "0           2023-09-27   4.819277  2.409639  92.771084\n",
              "1           2023-10-25   5.063291  7.594937  87.341772\n",
              "2           2023-11-18  16.129032  1.612903  82.258065\n",
              "4           2023-12-14  44.897959  4.081633  51.020408\n",
              "5           2023-12-18  30.645161  6.451613  62.903226\n",
              "6           2024-03-04  11.111111  8.641975  80.246914\n",
              "7           2024-03-17  20.289855  7.246377  72.463768\n",
              "8           2024-03-23  11.904762  4.761905  83.333333"
            ]
          },
          "execution_count": 12,
          "metadata": {},
          "output_type": "execute_result"
        }
      ],
      "source": [
        "# aggregating sentiment on Instagram posts, aggregating them by date (from September 2023 till March 2024) and determining\n",
        "# the percentage distribution of negative, positive and neutral sentiments for each date\n",
        "grouped = ig_comments.groupby(['date_of_post', 'sentiment']).size().reset_index(name='count')\n",
        "\n",
        "posts_sentiment = grouped.pivot(index='date_of_post', columns='sentiment', values='count').reset_index()\n",
        "posts_sentiment = posts_sentiment.astype({'Positive': 'int', 'Neutral': 'int', 'Negative': 'int'})\n",
        "\n",
        "posts_sentiment['Total'] = posts_sentiment[['Negative', 'Neutral', 'Positive']].sum(axis=1)\n",
        "\n",
        "posts_sentiment['Negative'] = (posts_sentiment['Negative'] / posts_sentiment['Total']) * 100\n",
        "posts_sentiment['Neutral'] = (posts_sentiment['Neutral'] / posts_sentiment['Total']) * 100\n",
        "posts_sentiment['Positive'] = (posts_sentiment['Positive'] / posts_sentiment['Total']) * 100\n",
        "\n",
        "posts_sentiment.drop(columns=['Total'], inplace=True)\n",
        "posts_sentiment = posts_sentiment[posts_sentiment['date_of_post'] != '2023-12-06']\n",
        "\n",
        "posts_sentiment"
      ]
    },
    {
      "cell_type": "code",
      "execution_count": null,
      "metadata": {
        "id": "a4Ed1Mdb7KG3",
        "outputId": "689dff44-5298-45d3-c899-8c4f45a5a71a"
      },
      "outputs": [
        {
          "data": {
            "image/png": "[encoded data removed]",
            "text/plain": [
              "<Figure size 1400x700 with 1 Axes>"
            ]
          },
          "metadata": {},
          "output_type": "display_data"
        }
      ],
      "source": [
        "# plotting the sentiment distribution of Instagram posts over time\n",
        "if 'date_of_post' in posts_sentiment.columns:\n",
        "    posts_sentiment.set_index('date_of_post', inplace=True)\n",
        "posts_sentiment.index = pd.to_datetime(posts_sentiment.index)\n",
        "\n",
        "#selecting dates\n",
        "specific_dates = pd.to_datetime(['2023-09-27', '2023-10-25', '2023-11-18', '2023-12-14', '2023-12-18', '2024-03-04', '2024-03-17', '2024-03-23'])\n",
        "\n",
        "# changing background color\n",
        "plt.style.use('seaborn-v0_8-whitegrid')\n",
        "fig, ax = plt.subplots(figsize=(14, 7))\n",
        "fig.set_facecolor('#F8F7EB')\n",
        "ax.set_facecolor('#F8F7EB')\n",
        "\n",
        "# creating lines for each sentiment\n",
        "ax.plot(posts_sentiment.index, posts_sentiment['Positive'], label='Positive', marker='o', linestyle='-', color='#2ca02c', linewidth=2)\n",
        "ax.plot(posts_sentiment.index, posts_sentiment['Neutral'], label='Neutral', marker='s', linestyle='-', color='#7f7f7f', linewidth=2)\n",
        "ax.plot(posts_sentiment.index, posts_sentiment['Negative'], label='Negative', marker='D', linestyle='-', color='#d62728', linewidth=2)\n",
        "\n",
        "# visualizing interenting dates\n",
        "ax.set_xticks(specific_dates)\n",
        "ax.set_xticklabels([date.strftime('%Y-%m-%d') for date in specific_dates])\n",
        "\n",
        "scandal_date = pd.to_datetime('2023-12-15')\n",
        "fazio_interview = pd.to_datetime('2024-03-03')\n",
        "ax.axvline(x=scandal_date, color='blue', linestyle='--', linewidth=1.5, label='Day of the Scandal')\n",
        "ax.axvline(x=fazio_interview, color='royalblue', linestyle='--', linewidth=1.5, label='Fazio Interview')\n",
        "\n",
        "ax.set_title('Comments Sentiment on IG Posts', fontsize=16, fontweight='bold')\n",
        "ax.set_xlabel('Date', fontsize=12, labelpad=15)\n",
        "ax.set_ylabel('Sentiment Percentage', fontsize=12, labelpad=15)\n",
        "plt.xticks(rotation=90)\n",
        "\n",
        "ax.legend(frameon=True, facecolor='#F8F7EB', loc='upper left', fontsize=10, bbox_to_anchor=(1,1))\n",
        "\n",
        "plt.tight_layout()\n",
        "plt.show()"
      ]
    },
    {
      "cell_type": "markdown",
      "metadata": {
        "id": "-LpG5-yy7KG3"
      },
      "source": [
        "## Facebook\n",
        "### Read and classify sentiment on data"
      ]
    },
    {
      "cell_type": "markdown",
      "metadata": {
        "id": "wzzp7O5qNv3J"
      },
      "source": [
        "We have analyzed comments under articles about the scandal. Therefore, here the classifications are: \"Contro Chiara Ferragni\", \"Felice della notizia\", \"A favore di Chiara Ferragni\", \"Neutrale\"."
      ]
    },
    {
      "cell_type": "markdown",
      "metadata": {
        "id": "icWhTaPa7KG4"
      },
      "source": [
        "### Comments on repubblica post of 15/12"
      ]
    },
    {
      "cell_type": "code",
      "execution_count": null,
      "metadata": {
        "id": "JBZjJea87KG4",
        "outputId": "40e3ef4b-aa9c-4d8a-c135-6aee84b05fe5"
      },
      "outputs": [
        {
          "name": "stdout",
          "output_type": "stream",
          "text": [
            "365\n",
            "365\n"
          ]
        },
        {
          "data": {
            "text/plain": [
              "0                   Finalmente una buona notizia 🎉 🎉🎉🎉\n",
              "1                                                GODO!\n",
              "2                                      Finalmente !!!!\n",
              "3                                               Spicci\n",
              "4    La multa la dovrebbero pagare tutti quei ML di...\n",
              "5    Ammiro la coppia per la loro generosità , e gl...\n",
              "6    Mandiamoli anche a Sanremo...mi raccomando.......\n",
              "7    Mi fa tristezza la quantità di tutti gli adept...\n",
              "8                                       Complimenti...\n",
              "9                                  Finalmente!!!!!!!!!\n",
              "Name: text, dtype: object"
            ]
          },
          "execution_count": 14,
          "metadata": {},
          "output_type": "execute_result"
        }
      ],
      "source": [
        "repubblica_comments = pd.read_csv('./FB_comments/repubblica_facebook.csv')\n",
        "repubblica_comments['text'] = np.where(repubblica_comments['text'].str.contains('https'), np.nan, repubblica_comments['text'])\n",
        "print(len(repubblica_comments))\n",
        "repubblica_comments.dropna(subset=['text'], inplace=True)\n",
        "print(len(repubblica_comments))\n",
        "repubblica_comments['text'].head(10)"
      ]
    },
    {
      "cell_type": "markdown",
      "metadata": {
        "id": "Il555BidPJvD"
      },
      "source": [
        "Given the complexity of discerning semtiments from text, we have employed the \"Mistral-small\" model, which is better suited for handling context-heavy tasks."
      ]
    },
    {
      "cell_type": "code",
      "execution_count": null,
      "metadata": {
        "id": "XsfdOwJp7KG4",
        "outputId": "196707fd-5a64-475e-d0f4-6664d236a141"
      },
      "outputs": [],
      "source": [
        "api_key = \"XNjiqIP1IeZxKfbtXckwD5duNvCMyfyZ\"\n",
        "model = \"mistral-small-latest\"\n",
        "client = MistralClient(api_key=api_key)\n",
        "\n",
        "# message to contextualize the analysis based on the article's content, telling the model to classify the comments into one of the four categories\n",
        "titolo = \"Chiara Ferragni multata dall'antitrust per oltre 1 milione di euro per il caso del pandoro Balocco\"\n",
        "contesto_prompt = \"Un commento che esprime gioia o felecità va classificato come 'Felice della notizia'. Un commento neutrale va classificato come 'Neutrale'. Un commento che esprime supporto a Chiara Ferragni va classificato come 'A favore di Chiara Ferragni'. Un commento che critica Chiara Ferragni va classificato come 'Contro Chiara Ferragni'.\"\n",
        "system_message = ChatMessage(role=\"system\", content=f\"L'articolo è il seguente: '{titolo}'. Classifica il sentimento dei seguenti commenti all'articolo su facebook in una delle 4 categorie: 'Felice della notizia', 'Neutrale', 'A favore di Chiara Ferragni' o 'Contro Chiara Ferragni'. /n {contesto_prompt}\")\n",
        "\n",
        "# aligning with the defined categories\n",
        "prompt_format = \"Classifica il sentimento di questo commento, rispondendo solo con 'Felice della notizia', 'Neutrale', 'A favore di Chiara Ferragni' o 'Contro Chiara Ferragni':\"\n",
        "messages = [system_message] + [ChatMessage(role=\"user\", content = f\"{prompt_format} {comment}\") for comment in repubblica_comments['text']]\n",
        "\n",
        "# performing sentiment analysis\n",
        "sentiments = []\n",
        "for message in messages:\n",
        "    try:\n",
        "        response = client.chat(model=model, messages=[message])\n",
        "        sentiment = response.choices[0].message.content  # Assuming each response has one sentiment\n",
        "        sentiments.append(sentiment)\n",
        "    except Exception as e:\n",
        "        print(f\"An error occurred with message '{message.content}': {e}\")\n",
        "        sentiments.append(\"Error\")"
      ]
    },
    {
      "cell_type": "code",
      "execution_count": null,
      "metadata": {
        "colab": {
          "base_uri": "https://localhost:8080/",
          "height": 273
        },
        "id": "D7ORXysZ7KG4",
        "outputId": "39dd615a-aae4-4cdc-b20f-6bb07d696466"
      },
      "outputs": [],
      "source": [
        "# Since when classifying the model will find ot only the indeces that we need but also parts of the sentences\n",
        "# that are not useful four our classificatio (e.g. Contro Chiara Ferragni because...; we do not need the because part),\n",
        "# this code will extract only the initial part of the indeces.\n",
        "# Moreover, in some sentiments two different classifications may appear, one after the other. To solve this problem and classifying\n",
        "# the comment under only one sentiment, the code compares the index position of these sentences. In order to do so the code assigns a very high value\n",
        "# to the index position of a phrase when it's not found, ensuring that if the phrase is not present, its index become higher than any valid index position in the sentiment\n",
        "# In this way it is possible to see which phrase comes first and to define it as the sentiment.\n",
        "\n",
        "simplified_sentiments = []\n",
        "\n",
        "for sentiment in sentiments[1:]:\n",
        "\n",
        "    idx_felice = sentiment.lower().find('felice della notizia')\n",
        "    idx_neutrale = sentiment.lower().find('neutrale')\n",
        "    idx_supporto = sentiment.lower().find('a favore di chiara ferragni')\n",
        "    idx_critica = sentiment.lower().find('contro chiara ferragni')\n",
        "\n",
        "    idx_felice = idx_felice if idx_felice != -1 else float('inf')\n",
        "    idx_neutrale = idx_neutrale if idx_neutrale != -1 else float('inf')\n",
        "    idx_supporto = idx_supporto if idx_supporto != -1 else float('inf')\n",
        "    idx_critica = idx_critica if idx_critica != -1 else float('inf')\n",
        "\n",
        "    if idx_felice == float('inf') and idx_neutrale == float('inf') and idx_supporto == float('inf') and idx_critica == float('inf'):\n",
        "        min_idx = 1000000\n",
        "    else:\n",
        "        min_idx = min(idx_felice, idx_critica, idx_supporto, idx_neutrale)\n",
        "\n",
        "    if min_idx == idx_felice:\n",
        "        simplified_sentiments.append('Felice')\n",
        "    elif min_idx == idx_neutrale:\n",
        "        simplified_sentiments.append('Neutrale')\n",
        "    elif min_idx == idx_critica:\n",
        "        simplified_sentiments.append('Contro Chiara Ferragni')\n",
        "    elif min_idx == idx_supporto:\n",
        "        simplified_sentiments.append('Pro Chiara Ferragni')\n",
        "    else:\n",
        "\n",
        "        simplified_sentiments.append('Non Classificato')\n",
        "\n",
        "# Now, 'simplified_sentiments' contains the simplified classification based on the appearence order"
      ]
    },
    {
      "cell_type": "code",
      "execution_count": null,
      "metadata": {
        "id": "UVYS-mwj7KG4",
        "outputId": "c97f27f2-ffd6-49cd-c09c-47ae7979883d"
      },
      "outputs": [
        {
          "data": {
            "text/plain": [
              "['Felice', 'Felice', 'Felice', 'Neutrale', 'Contro Chiara Ferragni']"
            ]
          },
          "execution_count": 17,
          "metadata": {},
          "output_type": "execute_result"
        }
      ],
      "source": [
        "simplified_sentiments[:5]"
      ]
    },
    {
      "cell_type": "code",
      "execution_count": null,
      "metadata": {
        "id": "n-STXZHB7KG5",
        "outputId": "670e87bb-5395-4e67-b199-38b71a945d9d"
      },
      "outputs": [
        {
          "data": {
            "text/html": [
              "<div>\n",
              "<style scoped>\n",
              "    .dataframe tbody tr th:only-of-type {\n",
              "        vertical-align: middle;\n",
              "    }\n",
              "\n",
              "    .dataframe tbody tr th {\n",
              "        vertical-align: top;\n",
              "    }\n",
              "\n",
              "    .dataframe thead th {\n",
              "        text-align: right;\n",
              "    }\n",
              "</style>\n",
              "<table border=\"1\" class=\"dataframe\">\n",
              "  <thead>\n",
              "    <tr style=\"text-align: right;\">\n",
              "      <th></th>\n",
              "      <th>sentiment</th>\n",
              "      <th>text</th>\n",
              "    </tr>\n",
              "  </thead>\n",
              "  <tbody>\n",
              "    <tr>\n",
              "      <th>0</th>\n",
              "      <td>Felice</td>\n",
              "      <td>Finalmente una buona notizia 🎉 🎉🎉🎉</td>\n",
              "    </tr>\n",
              "    <tr>\n",
              "      <th>1</th>\n",
              "      <td>Felice</td>\n",
              "      <td>GODO!</td>\n",
              "    </tr>\n",
              "    <tr>\n",
              "      <th>2</th>\n",
              "      <td>Felice</td>\n",
              "      <td>Finalmente !!!!</td>\n",
              "    </tr>\n",
              "    <tr>\n",
              "      <th>3</th>\n",
              "      <td>Neutrale</td>\n",
              "      <td>Spicci</td>\n",
              "    </tr>\n",
              "    <tr>\n",
              "      <th>4</th>\n",
              "      <td>Contro Chiara Ferragni</td>\n",
              "      <td>La multa la dovrebbero pagare tutti quei ML di...</td>\n",
              "    </tr>\n",
              "    <tr>\n",
              "      <th>5</th>\n",
              "      <td>Felice</td>\n",
              "      <td>Ammiro la coppia per la loro generosità , e gl...</td>\n",
              "    </tr>\n",
              "    <tr>\n",
              "      <th>6</th>\n",
              "      <td>Neutrale</td>\n",
              "      <td>Mandiamoli anche a Sanremo...mi raccomando.......</td>\n",
              "    </tr>\n",
              "    <tr>\n",
              "      <th>7</th>\n",
              "      <td>Neutrale</td>\n",
              "      <td>Mi fa tristezza la quantità di tutti gli adept...</td>\n",
              "    </tr>\n",
              "    <tr>\n",
              "      <th>8</th>\n",
              "      <td>Felice</td>\n",
              "      <td>Complimenti...</td>\n",
              "    </tr>\n",
              "    <tr>\n",
              "      <th>9</th>\n",
              "      <td>Felice</td>\n",
              "      <td>Finalmente!!!!!!!!!</td>\n",
              "    </tr>\n",
              "  </tbody>\n",
              "</table>\n",
              "</div>"
            ],
            "text/plain": [
              "                sentiment                                               text\n",
              "0                  Felice                 Finalmente una buona notizia 🎉 🎉🎉🎉\n",
              "1                  Felice                                              GODO!\n",
              "2                  Felice                                    Finalmente !!!!\n",
              "3                Neutrale                                             Spicci\n",
              "4  Contro Chiara Ferragni  La multa la dovrebbero pagare tutti quei ML di...\n",
              "5                  Felice  Ammiro la coppia per la loro generosità , e gl...\n",
              "6                Neutrale  Mandiamoli anche a Sanremo...mi raccomando.......\n",
              "7                Neutrale  Mi fa tristezza la quantità di tutti gli adept...\n",
              "8                  Felice                                     Complimenti...\n",
              "9                  Felice                                Finalmente!!!!!!!!!"
            ]
          },
          "execution_count": 18,
          "metadata": {},
          "output_type": "execute_result"
        }
      ],
      "source": [
        "# adding a column with the sentiments associated with the text of the comments\n",
        "repubblica_comments['sentiment'] = simplified_sentiments\n",
        "repubblica_comments = repubblica_comments[['sentiment', 'text']]\n",
        "repubblica_comments[:10]"
      ]
    },
    {
      "cell_type": "code",
      "execution_count": null,
      "metadata": {
        "id": "3wQsECai7KG5"
      },
      "outputs": [],
      "source": [
        "# saving the dataset to avoid re-doing all the sentiment each time\n",
        "'''repubblica_comments.to_csv('./FB_comments/repubblica_comments_sentiment.csv', index=False)'''"
      ]
    },
    {
      "cell_type": "markdown",
      "metadata": {
        "id": "FlsSjql97KG5"
      },
      "source": [
        "### Comments on corriere post of 15/12"
      ]
    },
    {
      "cell_type": "markdown",
      "metadata": {
        "id": "D9XnNw4NTBYw"
      },
      "source": [
        "Everyhting that has been made for the Repubblica's comments will be done also for the comments related to the Corriere's article."
      ]
    },
    {
      "cell_type": "code",
      "execution_count": null,
      "metadata": {
        "id": "qYX9n4tl7KG5",
        "outputId": "129724c1-6e02-46d0-aa00-832340491e02"
      },
      "outputs": [
        {
          "name": "stdout",
          "output_type": "stream",
          "text": [
            "269\n",
            "269\n"
          ]
        },
        {
          "data": {
            "text/plain": [
              "0               A questo punto spero la multa raddoppi.\n",
              "1                La vera beneficenza si fa in silenzio.\n",
              "2     La Ferragni è l'autrice del libro \"ogni giorno...\n",
              "3     E voi applaudite quando compra l’ennesimo atti...\n",
              "4                        È stato fatto in buona Fedez 😂\n",
              "5                  Continuate a seguirli, mi raccomando\n",
              "6                       Complimenti ai boccaloni 👏🏻👏🏻👏🏻\n",
              "7     Mi rivolgo a chi segue questa signora e il suo...\n",
              "8     Certo che continuerà la beneficenza...frutta m...\n",
              "9                                    I’m buona fede…😂😂😂\n",
              "10                             In buona fede Certo!🤑🤑🤑🤑\n",
              "11                                       In buona Fedez\n",
              "12          MI auguro che la multa vada in beneficenza!\n",
              "13                            Buona fede e bella frode🤥\n",
              "14                         ogni tanto una buona notizia\n",
              "15                                           Pink Fedez\n",
              "16                                  CHE BELLA GENTE....\n",
              "17                          Beneficenza agli avvocati 🍾\n",
              "18                               Ci crediamo tutti!!!!!\n",
              "19                      La beneficenza è una cosa seria\n",
              "Name: text, dtype: object"
            ]
          },
          "execution_count": 19,
          "metadata": {},
          "output_type": "execute_result"
        }
      ],
      "source": [
        "corriere_comments = pd.read_csv('./FB_comments/corriere_facebook.csv', sep=',')\n",
        "corriere_comments['text'] = np.where(corriere_comments['text'].str.contains('https'), np.nan, corriere_comments['text'])\n",
        "print(len(corriere_comments))\n",
        "corriere_comments.dropna(subset=['text'], inplace=True)\n",
        "print(len(corriere_comments))\n",
        "corriere_comments['text'].head(20)"
      ]
    },
    {
      "cell_type": "code",
      "execution_count": null,
      "metadata": {
        "id": "y-K0vok97KG5"
      },
      "outputs": [],
      "source": [
        "api_key = \"XNjiqIP1IeZxKfbtXckwD5duNvCMyfyZ\"\n",
        "model = \"mistral-small-latest\"\n",
        "client = MistralClient(api_key=api_key)\n",
        "\n",
        "titolo = \"Iconsumatori pagavano oltre 9 euro per il pandoro Pink Christmas di Balocco e Chiara Ferragni, più del doppio rispetto ai 3,70 euro del pandoro non griffato, credendo che una parte del ricavato sarebbe andato in beneficenza all’Ospedale Regina Margherita di Torino. In realtà, una donazione in cifra fissa era già stata effettuata dall’azienda e il sovrapprezzo è andato soltanto a beneficio di Balocco e della sua celebre testimonial. Per questo motivo, l’Anitrust ha comminato una multa di oltre un milione di euro alle società Fenice e Tbs Crew, riconducibili a Chiara Ferragni, e di 420 mila euro a Balocco per pratica commerciale scorretta. «Le suddette società hanno fatto intendere ai consumatori che acquistando il pandoro «griffato» Ferragni avrebbero contribuito a una donazione all’Ospedale Regina Margherita di Torino. La donazione, di 50 mila euro, era stata invece già effettuata dalla sola Balocco mesi prima. Le società riconducibili a Chiara Ferragni hanno incassato dall’iniziativa oltre un milione di euro», sottolinea l’autorità.\"\n",
        "contesto_prompt = \"Un commento che esprime gioia o felecità va classificato come 'Felice della notizia'. Un commento neutrale va classificato come 'Neutrale'. Un commento che esprime supporto a Chiara Ferragni va classificato come 'A favore di Chiara Ferragni'. Un commento che critica Chiara Ferragni va classificato come 'Contro Chiara Ferragni'.\"\n",
        "system_message = ChatMessage(role=\"system\", content=f\"L'articolo è il seguente: '{titolo}'. Classifica il sentimento dei seguenti commenti all'articolo su facebook in una delle 4 categorie: 'Felice della notizia', 'Neutrale', 'A favore di Chiara Ferragni' o 'Contro Chiara Ferragni'. /n {contesto_prompt}\")\n",
        "\n",
        "prompt_format = \"Classifica il sentimento di questo commento, rispondendo solo con 'Felice della notizia', 'Neutrale', 'A favore di Chiara Ferragni' o 'Contro Chiara Ferragni':\"\n",
        "messages = [system_message] + [ChatMessage(role=\"user\", content = f\"{prompt_format} {comment}\") for comment in corriere_comments['text']]\n",
        "\n",
        "sentiments = []\n",
        "for message in messages:\n",
        "    try:\n",
        "        response = client.chat(model=model, messages=[message])\n",
        "        sentiment = response.choices[0].message.content  # Assuming each response has one sentiment\n",
        "        sentiments.append(sentiment)\n",
        "    except Exception as e:\n",
        "        print(f\"An error occurred with message '{message.content}': {e}\")\n",
        "        sentiments.append(\"Error\")"
      ]
    },
    {
      "cell_type": "code",
      "execution_count": null,
      "metadata": {
        "id": "93GwwXQN7KG5"
      },
      "outputs": [],
      "source": [
        "simplified_sentiments = []\n",
        "\n",
        "for sentiment in sentiments[1:]:\n",
        "\n",
        "    idx_felice = sentiment.lower().find('felice della notizia')\n",
        "    idx_neutrale = sentiment.lower().find('neutrale')\n",
        "    idx_supporto = sentiment.lower().find('a favore di chiara ferragni')\n",
        "    idx_critica = sentiment.lower().find('contro chiara ferragni')\n",
        "\n",
        "    idx_felice = idx_felice if idx_felice != -1 else float('inf')\n",
        "    idx_neutrale = idx_neutrale if idx_neutrale != -1 else float('inf')\n",
        "    idx_supporto = idx_supporto if idx_supporto != -1 else float('inf')\n",
        "    idx_critica = idx_critica if idx_critica != -1 else float('inf')\n",
        "\n",
        "    if idx_felice == float('inf') and idx_neutrale == float('inf') and idx_supporto == float('inf') and idx_critica == float('inf'):\n",
        "        min_idx = 1000000\n",
        "    else:\n",
        "        min_idx = min(idx_felice, idx_critica, idx_supporto, idx_neutrale)\n",
        "\n",
        "    if min_idx == idx_felice:\n",
        "        simplified_sentiments.append('Felice')\n",
        "    elif min_idx == idx_neutrale:\n",
        "        simplified_sentiments.append('Neutrale')\n",
        "    elif min_idx == idx_critica:\n",
        "        simplified_sentiments.append('Contro Chiara Ferragni')\n",
        "    elif min_idx == idx_supporto:\n",
        "        simplified_sentiments.append('Pro Chiara Ferragni')\n",
        "    else:\n",
        "\n",
        "        simplified_sentiments.append('Non Classificato')\n",
        "\n"
      ]
    },
    {
      "cell_type": "code",
      "execution_count": null,
      "metadata": {
        "id": "sXedCe247KG5",
        "outputId": "7ce94f12-9a10-4b1f-89d2-e6f2e184bc2a"
      },
      "outputs": [
        {
          "data": {
            "text/html": [
              "<div>\n",
              "<style scoped>\n",
              "    .dataframe tbody tr th:only-of-type {\n",
              "        vertical-align: middle;\n",
              "    }\n",
              "\n",
              "    .dataframe tbody tr th {\n",
              "        vertical-align: top;\n",
              "    }\n",
              "\n",
              "    .dataframe thead th {\n",
              "        text-align: right;\n",
              "    }\n",
              "</style>\n",
              "<table border=\"1\" class=\"dataframe\">\n",
              "  <thead>\n",
              "    <tr style=\"text-align: right;\">\n",
              "      <th></th>\n",
              "      <th>sentiment</th>\n",
              "      <th>text</th>\n",
              "    </tr>\n",
              "  </thead>\n",
              "  <tbody>\n",
              "    <tr>\n",
              "      <th>0</th>\n",
              "      <td>Contro Chiara Ferragni</td>\n",
              "      <td>A questo punto spero la multa raddoppi.</td>\n",
              "    </tr>\n",
              "    <tr>\n",
              "      <th>1</th>\n",
              "      <td>Neutrale</td>\n",
              "      <td>La vera beneficenza si fa in silenzio.</td>\n",
              "    </tr>\n",
              "    <tr>\n",
              "      <th>2</th>\n",
              "      <td>Felice</td>\n",
              "      <td>La Ferragni è l'autrice del libro \"ogni giorno...</td>\n",
              "    </tr>\n",
              "    <tr>\n",
              "      <th>3</th>\n",
              "      <td>Neutrale</td>\n",
              "      <td>E voi applaudite quando compra l’ennesimo atti...</td>\n",
              "    </tr>\n",
              "    <tr>\n",
              "      <th>4</th>\n",
              "      <td>Felice</td>\n",
              "      <td>È stato fatto in buona Fedez 😂</td>\n",
              "    </tr>\n",
              "    <tr>\n",
              "      <th>5</th>\n",
              "      <td>Neutrale</td>\n",
              "      <td>Continuate a seguirli, mi raccomando</td>\n",
              "    </tr>\n",
              "    <tr>\n",
              "      <th>6</th>\n",
              "      <td>Neutrale</td>\n",
              "      <td>Complimenti ai boccaloni 👏🏻👏🏻👏🏻</td>\n",
              "    </tr>\n",
              "    <tr>\n",
              "      <th>7</th>\n",
              "      <td>Contro Chiara Ferragni</td>\n",
              "      <td>Mi rivolgo a chi segue questa signora e il suo...</td>\n",
              "    </tr>\n",
              "    <tr>\n",
              "      <th>8</th>\n",
              "      <td>Neutrale</td>\n",
              "      <td>Certo che continuerà la beneficenza...frutta m...</td>\n",
              "    </tr>\n",
              "    <tr>\n",
              "      <th>9</th>\n",
              "      <td>Neutrale</td>\n",
              "      <td>I’m buona fede…😂😂😂</td>\n",
              "    </tr>\n",
              "  </tbody>\n",
              "</table>\n",
              "</div>"
            ],
            "text/plain": [
              "                sentiment                                               text\n",
              "0  Contro Chiara Ferragni            A questo punto spero la multa raddoppi.\n",
              "1                Neutrale             La vera beneficenza si fa in silenzio.\n",
              "2                  Felice  La Ferragni è l'autrice del libro \"ogni giorno...\n",
              "3                Neutrale  E voi applaudite quando compra l’ennesimo atti...\n",
              "4                  Felice                     È stato fatto in buona Fedez 😂\n",
              "5                Neutrale               Continuate a seguirli, mi raccomando\n",
              "6                Neutrale                    Complimenti ai boccaloni 👏🏻👏🏻👏🏻\n",
              "7  Contro Chiara Ferragni  Mi rivolgo a chi segue questa signora e il suo...\n",
              "8                Neutrale  Certo che continuerà la beneficenza...frutta m...\n",
              "9                Neutrale                                 I’m buona fede…😂😂😂"
            ]
          },
          "execution_count": 22,
          "metadata": {},
          "output_type": "execute_result"
        }
      ],
      "source": [
        "corriere_comments['sentiment'] = simplified_sentiments\n",
        "corriere_comments = corriere_comments[['sentiment', 'text']]\n",
        "corriere_comments[:10]"
      ]
    },
    {
      "cell_type": "code",
      "execution_count": null,
      "metadata": {
        "id": "MDoxdAem7KG6"
      },
      "outputs": [],
      "source": [
        "'''corriere_comments.to_csv('./FB_comments/corriere_comments_sentiment.csv', index=False)'''"
      ]
    },
    {
      "cell_type": "markdown",
      "metadata": {
        "id": "44byJ1n97KG6"
      },
      "source": [
        "### Comments on IL Giornale post of 15/12"
      ]
    },
    {
      "cell_type": "markdown",
      "metadata": {
        "id": "xAWtzjA3TVfE"
      },
      "source": [
        "Everyhting that has been made for the Repubblica's and Corriere's comments will be done also for the comments related to the IlGiornale's article."
      ]
    },
    {
      "cell_type": "code",
      "execution_count": null,
      "metadata": {
        "id": "b8laI38G7KG6",
        "outputId": "20c035f5-9fe7-4c63-8cc6-05d2f686af1a"
      },
      "outputs": [
        {
          "name": "stdout",
          "output_type": "stream",
          "text": [
            "181\n",
            "170\n"
          ]
        },
        {
          "data": {
            "text/plain": [
              "1     Su queste cose occorre essere spietati..la san...\n",
              "2     La beneficenza fatela al vostro vicino.....bre...\n",
              "3           Spero che  la sanzione vada in beneficenza…\n",
              "4                            Brava furbetta gesto basso\n",
              "5                                          Finalmente!!\n",
              "6             Alla faccia della solidarietà,  la sua...\n",
              "7     Alla faccia della beneficenza.  Complementoni ...\n",
              "8                   Brava Chiara e tutti i suoi seguaci\n",
              "9     Sarà  sicuramente riassunta per i prossimi spo...\n",
              "10                  Pessimo esempio...l'ho sempre detto\n",
              "Name: text, dtype: object"
            ]
          },
          "execution_count": 23,
          "metadata": {},
          "output_type": "execute_result"
        }
      ],
      "source": [
        "ilgiornale_comments = pd.read_csv('./FB_comments/ilgiornale_facebook.csv')\n",
        "ilgiornale_comments['text'] = np.where(ilgiornale_comments['text'].str.contains('https'), np.nan, ilgiornale_comments['text'])\n",
        "print(len(ilgiornale_comments))\n",
        "ilgiornale_comments.dropna(subset=['text'], inplace=True)\n",
        "print(len(ilgiornale_comments))\n",
        "ilgiornale_comments['text'].head(10)"
      ]
    },
    {
      "cell_type": "code",
      "execution_count": null,
      "metadata": {
        "id": "hSoSbDVZ7KG6"
      },
      "outputs": [],
      "source": [
        "api_key = \"XNjiqIP1IeZxKfbtXckwD5duNvCMyfyZ\"\n",
        "model = \"mistral-small-latest\"\n",
        "client = MistralClient(api_key=api_key)\n",
        "\n",
        "titolo = \"Chiara Ferragni e le sue società hanno ricevuto una sanzione complessiva di oltre un milione di euro dall'Antitrust in relazione all'affare Balocco. Le società Fenice e TBS Crew, gestori dei marchi dell'influencer, sono state multate rispettivamente per 400 mila euro e 675 mila euro, mentre Balocco Industria Dolciaria ha ricevuto una multa di 420 mila euro. L'accusa riguarda una pratica commerciale scorretta legata alla pubblicità del Pandoro Pink Christmas, associato a Chiara Ferragni, che ha erroneamente suggerito ai consumatori che l'acquisto avrebbe contribuito a una donazione all'Ospedale Regina Margherita di Torino, quando in realtà la donazione era stata effettuata\"\n",
        "contesto_prompt = \"Un commento che esprime gioia o felecità va classificato come 'Felice della notizia'. Un commento neutrale va classificato come 'Neutrale'. Un commento che esprime supporto a Chiara Ferragni va classificato come 'A favore di Chiara Ferragni'. Un commento che critica Chiara Ferragni va classificato come 'Contro Chiara Ferragni'.\"\n",
        "system_message = ChatMessage(role=\"system\", content=f\"L'articolo è il seguente: '{titolo}'. Classifica il sentimento dei seguenti commenti all'articolo su facebook in una delle 4 categorie: 'Felice della notizia', 'Neutrale', 'A favore di Chiara Ferragni' o 'Contro Chiara Ferragni'. /n {contesto_prompt}\")\n",
        "\n",
        "prompt_format = \"Classifica il sentimento di questo commento, rispondendo solo con 'Felice della notizia', 'Neutrale', 'A favore di Chiara Ferragni' o 'Contro Chiara Ferragni':\"\n",
        "messages = [system_message] + [ChatMessage(role=\"user\", content = f\"{prompt_format} {comment}\") for comment in ilgiornale_comments['text']]\n",
        "\n",
        "sentiments = []\n",
        "for message in messages:\n",
        "    try:\n",
        "        response = client.chat(model=model, messages=[message])\n",
        "        sentiment = response.choices[0].message.content\n",
        "        sentiments.append(sentiment)\n",
        "    except Exception as e:\n",
        "        print(f\"An error occurred with message '{message.content}': {e}\")\n",
        "        sentiments.append(\"Error\")"
      ]
    },
    {
      "cell_type": "code",
      "execution_count": null,
      "metadata": {
        "id": "z7_nbbkr7KG6"
      },
      "outputs": [],
      "source": [
        "simplified_sentiments = []\n",
        "\n",
        "for sentiment in sentiments[1:]:\n",
        "\n",
        "    idx_felice = sentiment.lower().find('felice della notizia')\n",
        "    idx_neutrale = sentiment.lower().find('neutrale')\n",
        "    idx_supporto = sentiment.lower().find('a favore di chiara ferragni')\n",
        "    idx_critica = sentiment.lower().find('contro chiara ferragni')\n",
        "\n",
        "    idx_felice = idx_felice if idx_felice != -1 else float('inf')\n",
        "    idx_neutrale = idx_neutrale if idx_neutrale != -1 else float('inf')\n",
        "    idx_supporto = idx_supporto if idx_supporto != -1 else float('inf')\n",
        "    idx_critica = idx_critica if idx_critica != -1 else float('inf')\n",
        "\n",
        "    if idx_felice == float('inf') and idx_neutrale == float('inf') and idx_supporto == float('inf') and idx_critica == float('inf'):\n",
        "        min_idx = 1000000\n",
        "    else:\n",
        "        min_idx = min(idx_felice, idx_critica, idx_supporto, idx_neutrale)\n",
        "\n",
        "    if min_idx == idx_felice:\n",
        "        simplified_sentiments.append('Felice')\n",
        "    elif min_idx == idx_neutrale:\n",
        "        simplified_sentiments.append('Neutrale')\n",
        "    elif min_idx == idx_critica:\n",
        "        simplified_sentiments.append('Contro Chiara Ferragni')\n",
        "    elif min_idx == idx_supporto:\n",
        "        simplified_sentiments.append('Pro Chiara Ferragni')\n",
        "    else:\n",
        "\n",
        "        simplified_sentiments.append('Non Classificato')\n"
      ]
    },
    {
      "cell_type": "code",
      "execution_count": null,
      "metadata": {
        "id": "p125GDSj7KG6",
        "outputId": "e75d7c7d-544b-449d-9da1-ffb0dcd94bfb"
      },
      "outputs": [
        {
          "data": {
            "text/html": [
              "<div>\n",
              "<style scoped>\n",
              "    .dataframe tbody tr th:only-of-type {\n",
              "        vertical-align: middle;\n",
              "    }\n",
              "\n",
              "    .dataframe tbody tr th {\n",
              "        vertical-align: top;\n",
              "    }\n",
              "\n",
              "    .dataframe thead th {\n",
              "        text-align: right;\n",
              "    }\n",
              "</style>\n",
              "<table border=\"1\" class=\"dataframe\">\n",
              "  <thead>\n",
              "    <tr style=\"text-align: right;\">\n",
              "      <th></th>\n",
              "      <th>sentiment</th>\n",
              "      <th>text</th>\n",
              "    </tr>\n",
              "  </thead>\n",
              "  <tbody>\n",
              "    <tr>\n",
              "      <th>1</th>\n",
              "      <td>Neutrale</td>\n",
              "      <td>Su queste cose occorre essere spietati..la san...</td>\n",
              "    </tr>\n",
              "    <tr>\n",
              "      <th>2</th>\n",
              "      <td>Neutrale</td>\n",
              "      <td>La beneficenza fatela al vostro vicino.....bre...</td>\n",
              "    </tr>\n",
              "    <tr>\n",
              "      <th>3</th>\n",
              "      <td>Neutrale</td>\n",
              "      <td>Spero che  la sanzione vada in beneficenza…</td>\n",
              "    </tr>\n",
              "    <tr>\n",
              "      <th>4</th>\n",
              "      <td>Contro Chiara Ferragni</td>\n",
              "      <td>Brava furbetta gesto basso</td>\n",
              "    </tr>\n",
              "    <tr>\n",
              "      <th>5</th>\n",
              "      <td>Neutrale</td>\n",
              "      <td>Finalmente!!</td>\n",
              "    </tr>\n",
              "    <tr>\n",
              "      <th>6</th>\n",
              "      <td>Contro Chiara Ferragni</td>\n",
              "      <td>Alla faccia della solidarietà,  la sua...</td>\n",
              "    </tr>\n",
              "    <tr>\n",
              "      <th>7</th>\n",
              "      <td>Contro Chiara Ferragni</td>\n",
              "      <td>Alla faccia della beneficenza.  Complementoni ...</td>\n",
              "    </tr>\n",
              "    <tr>\n",
              "      <th>8</th>\n",
              "      <td>Felice</td>\n",
              "      <td>Brava Chiara e tutti i suoi seguaci</td>\n",
              "    </tr>\n",
              "    <tr>\n",
              "      <th>9</th>\n",
              "      <td>Felice</td>\n",
              "      <td>Sarà  sicuramente riassunta per i prossimi spo...</td>\n",
              "    </tr>\n",
              "    <tr>\n",
              "      <th>10</th>\n",
              "      <td>Contro Chiara Ferragni</td>\n",
              "      <td>Pessimo esempio...l'ho sempre detto</td>\n",
              "    </tr>\n",
              "  </tbody>\n",
              "</table>\n",
              "</div>"
            ],
            "text/plain": [
              "                 sentiment                                               text\n",
              "1                 Neutrale  Su queste cose occorre essere spietati..la san...\n",
              "2                 Neutrale  La beneficenza fatela al vostro vicino.....bre...\n",
              "3                 Neutrale        Spero che  la sanzione vada in beneficenza…\n",
              "4   Contro Chiara Ferragni                         Brava furbetta gesto basso\n",
              "5                 Neutrale                                       Finalmente!!\n",
              "6   Contro Chiara Ferragni          Alla faccia della solidarietà,  la sua...\n",
              "7   Contro Chiara Ferragni  Alla faccia della beneficenza.  Complementoni ...\n",
              "8                   Felice                Brava Chiara e tutti i suoi seguaci\n",
              "9                   Felice  Sarà  sicuramente riassunta per i prossimi spo...\n",
              "10  Contro Chiara Ferragni                Pessimo esempio...l'ho sempre detto"
            ]
          },
          "execution_count": 26,
          "metadata": {},
          "output_type": "execute_result"
        }
      ],
      "source": [
        "ilgiornale_comments['sentiment'] = simplified_sentiments\n",
        "ilgiornale_comments = ilgiornale_comments[['sentiment', 'text']]\n",
        "ilgiornale_comments[:10]"
      ]
    },
    {
      "cell_type": "code",
      "execution_count": null,
      "metadata": {
        "id": "wjFTQ1lc7KG6"
      },
      "outputs": [],
      "source": [
        "'''ilgiornale_comments.to_csv('./FB_comments/ilgiornale_comments_sentiment.csv', index=False)'''"
      ]
    },
    {
      "cell_type": "markdown",
      "metadata": {
        "id": "JnmLO6WR7KG6"
      },
      "source": [
        "## Re-load data"
      ]
    },
    {
      "cell_type": "markdown",
      "metadata": {
        "id": "2B2AVd_J7KG6"
      },
      "source": [
        "Read facebook sentiment data without compute the sentiment again"
      ]
    },
    {
      "cell_type": "code",
      "execution_count": null,
      "metadata": {
        "id": "9FegR4eq7KG7"
      },
      "outputs": [],
      "source": [
        "# reading facebook sentiment data\n",
        "repubblica_comments = pd.read_csv('./FB_comments/repubblica_comments_sentiment.csv')\n",
        "corriere_comments = pd.read_csv('./FB_comments/corriere_comments_sentiment.csv')\n",
        "ilgiornale_comments = pd.read_csv('./FB_comments/ilgiornale_comments_sentiment.csv')"
      ]
    },
    {
      "cell_type": "markdown",
      "metadata": {
        "id": "7qfkNiJj7KG7"
      },
      "source": [
        "On facebook our model fails to classify perfectly; turns out to be too moderate, and sometimes classifies comments critical of Clare as neutral."
      ]
    },
    {
      "cell_type": "code",
      "execution_count": null,
      "metadata": {
        "id": "_L_UXc197KG7",
        "outputId": "ccc3fe10-29a5-4d79-bc70-5856fc1c957f"
      },
      "outputs": [
        {
          "data": {
            "text/html": [
              "<div>\n",
              "<style scoped>\n",
              "    .dataframe tbody tr th:only-of-type {\n",
              "        vertical-align: middle;\n",
              "    }\n",
              "\n",
              "    .dataframe tbody tr th {\n",
              "        vertical-align: top;\n",
              "    }\n",
              "\n",
              "    .dataframe thead th {\n",
              "        text-align: right;\n",
              "    }\n",
              "</style>\n",
              "<table border=\"1\" class=\"dataframe\">\n",
              "  <thead>\n",
              "    <tr style=\"text-align: right;\">\n",
              "      <th></th>\n",
              "      <th>Articolo</th>\n",
              "      <th>Contro Chiara Ferragni</th>\n",
              "      <th>Pro Chiara Ferragni</th>\n",
              "      <th>Felici</th>\n",
              "      <th>Neutri</th>\n",
              "    </tr>\n",
              "  </thead>\n",
              "  <tbody>\n",
              "    <tr>\n",
              "      <th>0</th>\n",
              "      <td>Il Giornale</td>\n",
              "      <td>31</td>\n",
              "      <td>4</td>\n",
              "      <td>20</td>\n",
              "      <td>112</td>\n",
              "    </tr>\n",
              "    <tr>\n",
              "      <th>1</th>\n",
              "      <td>Corriere della Sera</td>\n",
              "      <td>30</td>\n",
              "      <td>4</td>\n",
              "      <td>25</td>\n",
              "      <td>209</td>\n",
              "    </tr>\n",
              "    <tr>\n",
              "      <th>2</th>\n",
              "      <td>La Repubblica</td>\n",
              "      <td>47</td>\n",
              "      <td>11</td>\n",
              "      <td>52</td>\n",
              "      <td>249</td>\n",
              "    </tr>\n",
              "  </tbody>\n",
              "</table>\n",
              "</div>"
            ],
            "text/plain": [
              "              Articolo  Contro Chiara Ferragni  Pro Chiara Ferragni  Felici  \\\n",
              "0          Il Giornale                      31                    4      20   \n",
              "1  Corriere della Sera                      30                    4      25   \n",
              "2        La Repubblica                      47                   11      52   \n",
              "\n",
              "   Neutri  \n",
              "0     112  \n",
              "1     209  \n",
              "2     249  "
            ]
          },
          "execution_count": 28,
          "metadata": {},
          "output_type": "execute_result"
        }
      ],
      "source": [
        "# we combine the sentiments of the comments of the various articles into one dataframe where we have article, count comments against chiara ferragni, count comments in favor of chiara ferragni, count happy comments, count neutral comments\n",
        "\n",
        "def count_sentiments(df, source_name):\n",
        "    counts = df.groupby('sentiment')['text'].count()\n",
        "    return pd.DataFrame({\n",
        "        'Articolo': source_name,\n",
        "        'Contro Chiara Ferragni': counts.get('Contro Chiara Ferragni', 0),\n",
        "        'Pro Chiara Ferragni': counts.get('Pro Chiara Ferragni', 0),\n",
        "        'Felici': counts.get('Felice', 0),\n",
        "        'Neutri': counts.get('Neutrale', 0)\n",
        "    }, index=[0])\n",
        "\n",
        "ilgiornale_counts = count_sentiments(ilgiornale_comments, 'Il Giornale')\n",
        "corriere_counts = count_sentiments(corriere_comments, 'Corriere della Sera')\n",
        "repubblica_counts = count_sentiments(repubblica_comments, 'La Repubblica')\n",
        "\n",
        "all_counts = pd.concat([ilgiornale_counts, corriere_counts, repubblica_counts], ignore_index=True)\n",
        "all_counts"
      ]
    },
    {
      "cell_type": "code",
      "execution_count": null,
      "metadata": {
        "id": "w-Qjl1xo7KG7",
        "outputId": "1d54ec69-30f8-43aa-b05d-337131bc53bb"
      },
      "outputs": [
        {
          "data": {
            "image/png": "[encoded data removed]",
            "text/plain": [
              "<Figure size 1000x600 with 1 Axes>"
            ]
          },
          "metadata": {},
          "output_type": "display_data"
        }
      ],
      "source": [
        "# plotting an histogram to see, for each article, how sentiment is distributed\n",
        "all_counts['Total'] = all_counts['Contro Chiara Ferragni'] + all_counts['Pro Chiara Ferragni'] + all_counts['Felici'] + all_counts['Neutri']\n",
        "all_counts['Perc_Contro'] = (all_counts['Contro Chiara Ferragni'] / all_counts['Total']) * 100\n",
        "all_counts['Perc_Favore'] = (all_counts['Pro Chiara Ferragni'] / all_counts['Total']) * 100\n",
        "all_counts['Perc_Felici'] = (all_counts['Felici'] / all_counts['Total']) * 100\n",
        "all_counts['Perc_Neutri'] = (all_counts['Neutri'] / all_counts['Total']) * 100\n",
        "\n",
        "# plot background\n",
        "fig, ax = plt.subplots(figsize=(10, 6))\n",
        "fig.set_facecolor('#F8F7EB')\n",
        "ax.set_facecolor('#F8F7EB')\n",
        "\n",
        "\n",
        "bar_width = 0.2\n",
        "index = all_counts.index\n",
        "r1 = index\n",
        "r2 = [x + bar_width for x in r1]\n",
        "r3 = [x + bar_width for x in r2]\n",
        "r4 = [x + bar_width for x in r3]\n",
        "\n",
        "\n",
        "ax.bar(r1, all_counts['Perc_Contro'], width=bar_width, label='Contro Chiara Ferragni', color='r')\n",
        "ax.bar(r2, all_counts['Perc_Favore'], width=bar_width, label='Pro Chiara Ferragni', color='g')\n",
        "ax.bar(r3, all_counts['Perc_Felici'], width=bar_width, label='Felici della multa', color='b')\n",
        "ax.bar(r4, all_counts['Perc_Neutri'], width=bar_width, label='Neutri', color='grey')\n",
        "\n",
        "\n",
        "ax.set_xlabel('Articolo')\n",
        "ax.set_ylabel('Percentuale di Commenti')\n",
        "ax.set_title('Distribuzione dei Sentimenti per Articolo in Percentuale')\n",
        "ax.set_xticks([r + bar_width * 1.5 for r in range(len(all_counts))])  # Adjust the x-ticks to center\n",
        "ax.set_xticklabels(all_counts['Articolo'])\n",
        "ax.legend()\n",
        "\n",
        "\n",
        "sns.set(style=\"whitegrid\", rc={\"axes.facecolor\": \"#F8F7EB\", \"figure.facecolor\": \"#F8F7EB\"})\n",
        "\n",
        "plt.tight_layout()\n",
        "plt.show()"
      ]
    },
    {
      "cell_type": "code",
      "execution_count": null,
      "metadata": {
        "id": "rhTJJ7Ea7KG7",
        "outputId": "e665abb7-6bce-4bd4-e96e-1550072d64f7"
      },
      "outputs": [
        {
          "data": {
            "image/png": "[encoded data removed]",
            "text/plain": [
              "<Figure size 1000x600 with 1 Axes>"
            ]
          },
          "metadata": {},
          "output_type": "display_data"
        }
      ],
      "source": [
        "# ploting again the sentiment distribution for each article but with all_counts['Contro Chiara Ferragni'] and all_counts['Felici'] in the same bar\n",
        "# since they are expressing the same sentiment\n",
        "\n",
        "fig, ax = plt.subplots(figsize=(10, 6))\n",
        "fig.set_facecolor('#F8F7EB')\n",
        "ax.set_facecolor('#F8F7EB')\n",
        "\n",
        "\n",
        "all_counts['Total'] = all_counts['Contro Chiara Ferragni'] + all_counts['Pro Chiara Ferragni'] + all_counts['Felici'] + all_counts['Neutri']\n",
        "\n",
        "all_counts['Perc_Contro'] = ((all_counts['Contro Chiara Ferragni'] / all_counts['Total']) + (all_counts['Felici'] / all_counts['Total'])) * 100\n",
        "all_counts['Perc_Favore'] = (all_counts['Pro Chiara Ferragni'] / all_counts['Total']) * 100\n",
        "all_counts['Perc_Neutri'] = (all_counts['Neutri'] / all_counts['Total']) * 100\n",
        "\n",
        "\n",
        "bar_width = 0.2\n",
        "index = all_counts.index\n",
        "r1 = index\n",
        "r2 = [x + bar_width for x in r1]\n",
        "r3 = [x + bar_width for x in r2]\n",
        "\n",
        "bar1 = ax.bar(r1, all_counts['Perc_Contro'], width=bar_width, label='Against Chiara Ferragni or Happy for the Fine', color='r')\n",
        "bar2 = ax.bar(r2, all_counts['Perc_Favore'], width=bar_width, label='Pro Chiara Ferragni', color='g')\n",
        "bar3 = ax.bar(r3, all_counts['Perc_Neutri'], width=bar_width, label='Neutral', color='b')\n",
        "\n",
        "ax.set_xlabel('Articole')\n",
        "ax.set_ylabel('Comments Percentage')\n",
        "ax.set_title('Sentiment Distribution per Article in Percentage')\n",
        "ax.set_xticks([r + bar_width/2 for r in range(len(all_counts))])\n",
        "ax.set_xticklabels(all_counts['Articolo'])\n",
        "ax.legend()\n",
        "\n",
        "sns.set(style=\"whitegrid\")\n",
        "plt.tight_layout()\n",
        "plt.show()"
      ]
    },
    {
      "cell_type": "code",
      "execution_count": null,
      "metadata": {
        "id": "0w6ym9r77KG7",
        "outputId": "98415197-5a9d-4596-f0fb-08dfcbf15070"
      },
      "outputs": [
        {
          "data": {
            "text/html": [
              "<div>\n",
              "<style scoped>\n",
              "    .dataframe tbody tr th:only-of-type {\n",
              "        vertical-align: middle;\n",
              "    }\n",
              "\n",
              "    .dataframe tbody tr th {\n",
              "        vertical-align: top;\n",
              "    }\n",
              "\n",
              "    .dataframe thead th {\n",
              "        text-align: right;\n",
              "    }\n",
              "</style>\n",
              "<table border=\"1\" class=\"dataframe\">\n",
              "  <thead>\n",
              "    <tr style=\"text-align: right;\">\n",
              "      <th></th>\n",
              "      <th>sentiment</th>\n",
              "      <th>text</th>\n",
              "    </tr>\n",
              "  </thead>\n",
              "  <tbody>\n",
              "    <tr>\n",
              "      <th>244</th>\n",
              "      <td>Contro Chiara Ferragni</td>\n",
              "      <td>Aspettiamo con ansia le chiacchiere che userà per giustificarsi.</td>\n",
              "    </tr>\n",
              "    <tr>\n",
              "      <th>129</th>\n",
              "      <td>Neutrale</td>\n",
              "      <td>Una piccola soddisfazione. La loro beneficenza? Questa: basata sull inganno</td>\n",
              "    </tr>\n",
              "    <tr>\n",
              "      <th>684</th>\n",
              "      <td>Neutrale</td>\n",
              "      <td>Tanti auguri di natale</td>\n",
              "    </tr>\n",
              "    <tr>\n",
              "      <th>472</th>\n",
              "      <td>Neutrale</td>\n",
              "      <td>Sicuroooo 😂</td>\n",
              "    </tr>\n",
              "    <tr>\n",
              "      <th>645</th>\n",
              "      <td>Felice</td>\n",
              "      <td>👏👏👏👏👏👏bravi!!</td>\n",
              "    </tr>\n",
              "    <tr>\n",
              "      <th>772</th>\n",
              "      <td>Neutrale</td>\n",
              "      <td>Che sia da organizzare una colletta ? 🤣</td>\n",
              "    </tr>\n",
              "    <tr>\n",
              "      <th>141</th>\n",
              "      <td>Felice</td>\n",
              "      <td>Per Natale lancerà polpette e braciole griffate</td>\n",
              "    </tr>\n",
              "    <tr>\n",
              "      <th>474</th>\n",
              "      <td>Contro Chiara Ferragni</td>\n",
              "      <td>Se impugnano spero che il tribunale raddoppi la multa!!!</td>\n",
              "    </tr>\n",
              "    <tr>\n",
              "      <th>586</th>\n",
              "      <td>Neutrale</td>\n",
              "      <td>Chiara Fregagni</td>\n",
              "    </tr>\n",
              "    <tr>\n",
              "      <th>22</th>\n",
              "      <td>Neutrale</td>\n",
              "      <td>I primi….</td>\n",
              "    </tr>\n",
              "  </tbody>\n",
              "</table>\n",
              "</div>"
            ],
            "text/plain": [
              "                  sentiment  \\\n",
              "244  Contro Chiara Ferragni   \n",
              "129                Neutrale   \n",
              "684                Neutrale   \n",
              "472                Neutrale   \n",
              "645                  Felice   \n",
              "772                Neutrale   \n",
              "141                  Felice   \n",
              "474  Contro Chiara Ferragni   \n",
              "586                Neutrale   \n",
              "22                 Neutrale   \n",
              "\n",
              "                                                                            text  \n",
              "244             Aspettiamo con ansia le chiacchiere che userà per giustificarsi.  \n",
              "129  Una piccola soddisfazione. La loro beneficenza? Questa: basata sull inganno  \n",
              "684                                                       Tanti auguri di natale  \n",
              "472                                                                  Sicuroooo 😂  \n",
              "645                                                                👏👏👏👏👏👏bravi!!  \n",
              "772                                      Che sia da organizzare una colletta ? 🤣  \n",
              "141                              Per Natale lancerà polpette e braciole griffate  \n",
              "474                     Se impugnano spero che il tribunale raddoppi la multa!!!  \n",
              "586                                                              Chiara Fregagni  \n",
              "22                                                                     I primi….  "
            ]
          },
          "execution_count": 31,
          "metadata": {},
          "output_type": "execute_result"
        }
      ],
      "source": [
        "all_comments = pd.concat([repubblica_comments, corriere_comments, ilgiornale_comments]).reset_index(drop=True)\n",
        "pd.set_option('display.max_colwidth', 500)\n",
        "all_comments.sample(10)"
      ]
    },
    {
      "cell_type": "code",
      "execution_count": null,
      "metadata": {
        "id": "YJ5mrSu27KG7",
        "outputId": "131105a5-5e16-406e-a0cc-c32b995df1d2"
      },
      "outputs": [
        {
          "name": "stderr",
          "output_type": "stream",
          "text": [
            "C:\\Users\\andre\\AppData\\Local\\Temp\\ipykernel_11240\\2595531568.py:11: FutureWarning: Styler.applymap has been deprecated. Use Styler.map instead.\n",
            "  sample_comments = sample_comments.style.set_properties(**{'text-align': 'center'}).set_table_styles([dict(selector='th', props=[('text-align', 'center')])]).applymap(color_sentiment, subset=['sentiment'])\n"
          ]
        },
        {
          "data": {
            "text/html": [
              "<style type=\"text/css\">\n",
              "#T_36a9f th {\n",
              "  text-align: center;\n",
              "}\n",
              "#T_36a9f_row0_col0 {\n",
              "  text-align: center;\n",
              "  color: green;\n",
              "}\n",
              "#T_36a9f_row0_col1, #T_36a9f_row1_col1, #T_36a9f_row2_col1, #T_36a9f_row3_col1, #T_36a9f_row4_col1, #T_36a9f_row5_col1, #T_36a9f_row6_col1, #T_36a9f_row7_col1, #T_36a9f_row8_col1, #T_36a9f_row9_col1 {\n",
              "  text-align: center;\n",
              "}\n",
              "#T_36a9f_row1_col0, #T_36a9f_row4_col0, #T_36a9f_row5_col0, #T_36a9f_row6_col0, #T_36a9f_row9_col0 {\n",
              "  text-align: center;\n",
              "  color: gray;\n",
              "}\n",
              "#T_36a9f_row2_col0, #T_36a9f_row3_col0, #T_36a9f_row7_col0, #T_36a9f_row8_col0 {\n",
              "  text-align: center;\n",
              "  color: red;\n",
              "}\n",
              "</style>\n",
              "<table id=\"T_36a9f\">\n",
              "  <thead>\n",
              "    <tr>\n",
              "      <th class=\"blank level0\" >&nbsp;</th>\n",
              "      <th id=\"T_36a9f_level0_col0\" class=\"col_heading level0 col0\" >sentiment</th>\n",
              "      <th id=\"T_36a9f_level0_col1\" class=\"col_heading level0 col1\" >text</th>\n",
              "    </tr>\n",
              "  </thead>\n",
              "  <tbody>\n",
              "    <tr>\n",
              "      <th id=\"T_36a9f_level0_row0\" class=\"row_heading level0 row0\" >131</th>\n",
              "      <td id=\"T_36a9f_row0_col0\" class=\"data row0 col0\" >Pro Chiara Ferragni</td>\n",
              "      <td id=\"T_36a9f_row0_col1\" class=\"data row0 col1\" >L\"eroina delle donne!</td>\n",
              "    </tr>\n",
              "    <tr>\n",
              "      <th id=\"T_36a9f_level0_row1\" class=\"row_heading level0 row1\" >606</th>\n",
              "      <td id=\"T_36a9f_row1_col0\" class=\"data row1 col0\" >Neutrale</td>\n",
              "      <td id=\"T_36a9f_row1_col1\" class=\"data row1 col1\" >Si in buona fedez</td>\n",
              "    </tr>\n",
              "    <tr>\n",
              "      <th id=\"T_36a9f_level0_row2\" class=\"row_heading level0 row2\" >1</th>\n",
              "      <td id=\"T_36a9f_row2_col0\" class=\"data row2 col0\" >Felice</td>\n",
              "      <td id=\"T_36a9f_row2_col1\" class=\"data row2 col1\" >GODO!</td>\n",
              "    </tr>\n",
              "    <tr>\n",
              "      <th id=\"T_36a9f_level0_row3\" class=\"row_heading level0 row3\" >152</th>\n",
              "      <td id=\"T_36a9f_row3_col0\" class=\"data row3 col0\" >Contro Chiara Ferragni</td>\n",
              "      <td id=\"T_36a9f_row3_col1\" class=\"data row3 col1\" >È l'inzio della sua parabola discendente</td>\n",
              "    </tr>\n",
              "    <tr>\n",
              "      <th id=\"T_36a9f_level0_row4\" class=\"row_heading level0 row4\" >213</th>\n",
              "      <td id=\"T_36a9f_row4_col0\" class=\"data row4 col0\" >Neutrale</td>\n",
              "      <td id=\"T_36a9f_row4_col1\" class=\"data row4 col1\" >Ora aspettiamoci la predica moralista...</td>\n",
              "    </tr>\n",
              "    <tr>\n",
              "      <th id=\"T_36a9f_level0_row5\" class=\"row_heading level0 row5\" >228</th>\n",
              "      <td id=\"T_36a9f_row5_col0\" class=\"data row5 col0\" >Neutrale</td>\n",
              "      <td id=\"T_36a9f_row5_col1\" class=\"data row5 col1\" >Non è mica sempre festa.</td>\n",
              "    </tr>\n",
              "    <tr>\n",
              "      <th id=\"T_36a9f_level0_row6\" class=\"row_heading level0 row6\" >159</th>\n",
              "      <td id=\"T_36a9f_row6_col0\" class=\"data row6 col0\" >Neutrale</td>\n",
              "      <td id=\"T_36a9f_row6_col1\" class=\"data row6 col1\" >Pochi!!</td>\n",
              "    </tr>\n",
              "    <tr>\n",
              "      <th id=\"T_36a9f_level0_row7\" class=\"row_heading level0 row7\" >547</th>\n",
              "      <td id=\"T_36a9f_row7_col0\" class=\"data row7 col0\" >Contro Chiara Ferragni</td>\n",
              "      <td id=\"T_36a9f_row7_col1\" class=\"data row7 col1\" >Una vergogna…</td>\n",
              "    </tr>\n",
              "    <tr>\n",
              "      <th id=\"T_36a9f_level0_row8\" class=\"row_heading level0 row8\" >220</th>\n",
              "      <td id=\"T_36a9f_row8_col0\" class=\"data row8 col0\" >Contro Chiara Ferragni</td>\n",
              "      <td id=\"T_36a9f_row8_col1\" class=\"data row8 col1\" >Fosse per me farebbe la fame.</td>\n",
              "    </tr>\n",
              "    <tr>\n",
              "      <th id=\"T_36a9f_level0_row9\" class=\"row_heading level0 row9\" >544</th>\n",
              "      <td id=\"T_36a9f_row9_col0\" class=\"data row9 col0\" >Neutrale</td>\n",
              "      <td id=\"T_36a9f_row9_col1\" class=\"data row9 col1\" >Tutto in buona fede per le tue tasche carina</td>\n",
              "    </tr>\n",
              "  </tbody>\n",
              "</table>\n"
            ],
            "text/plain": [
              "<pandas.io.formats.style.Styler at 0x1aa63d4dbb0>"
            ]
          },
          "execution_count": 32,
          "metadata": {},
          "output_type": "execute_result"
        }
      ],
      "source": [
        "# restyling the dataframe with colors and position of the texts\n",
        "\n",
        "def color_sentiment(val):\n",
        "    \"\"\"\n",
        "    Colors 'Positive' red and 'Negative' green.\n",
        "    \"\"\"\n",
        "    color = 'red' if val == 'Contro Chiara Ferragni' or val == 'Felice' else 'green' if val == 'Pro Chiara Ferragni' else 'gray'\n",
        "    return f'color: {color}'\n",
        "\n",
        "sample_comments = all_comments.loc[[131,606,1,152,213,228,159,547,220,544]]\n",
        "sample_comments = sample_comments.style.set_properties(**{'text-align': 'center'}).set_table_styles([dict(selector='th', props=[('text-align', 'center')])]).applymap(color_sentiment, subset=['sentiment'])\n",
        "\n",
        "sample_comments"
      ]
    },
    {
      "cell_type": "markdown",
      "metadata": {
        "id": "kX5wSXiO7KG7"
      },
      "source": [
        "# Reddit"
      ]
    },
    {
      "cell_type": "markdown",
      "metadata": {
        "id": "-zMx8kJQZw_B"
      },
      "source": [
        "The configuration for Reddit is equal to the one used for Facebook, to capture sentiments in comments discussing Chiara Ferragni's scandal.\n",
        "The only 2 differences are that the context is the one of the title of Reddit posts, and the comments given as input are the ones of reddit posts.\n",
        "Specifically we have gathered the comments referred to 3 Reddit posts."
      ]
    },
    {
      "cell_type": "markdown",
      "metadata": {
        "id": "pQN8krPA7KG7"
      },
      "source": [
        "Post 1, 144 comments"
      ]
    },
    {
      "cell_type": "code",
      "execution_count": null,
      "metadata": {
        "id": "HVzxenR87KG7"
      },
      "outputs": [],
      "source": [
        "import praw\n",
        "\n",
        "# accessing to Reddit servers with our credentials\n",
        "reddit = praw.Reddit(client_id='OEgL2uPmYoDu61qnK_piSg',\n",
        "                     client_secret='j7E3FBf5rGzy5vvVoQYuelBgVUlDLg',\n",
        "                     user_agent='Massive_Advantage255')\n",
        "\n",
        "# post ID\n",
        "post_id = '18lwj4j'\n",
        "submission = reddit.submission(id=post_id)\n",
        "submission.comments.replace_more(limit=0)\n",
        "\n",
        "# text of the original post\n",
        "post_text = submission.selftext\n",
        "\n",
        "comment_data = []\n",
        "\n",
        "# iterating only through the top-level comments directly attached to the post, not considering \"subcomments\"\n",
        "for top_level_comment in submission.comments:\n",
        "    if isinstance(top_level_comment, praw.models.Comment):\n",
        "        comment_info = {\n",
        "            'Post Text': post_text,\n",
        "            'Comment': top_level_comment.body,\n",
        "        }\n",
        "        comment_data.append(comment_info)\n",
        "\n",
        "# DataFrame from the collected data\n",
        "reddit_1 = pd.DataFrame(comment_data)"
      ]
    },
    {
      "cell_type": "code",
      "execution_count": null,
      "metadata": {
        "id": "MOGlar-q7KG7",
        "outputId": "96c8514e-d635-4c38-8938-d105dd1259d1"
      },
      "outputs": [
        {
          "name": "stdout",
          "output_type": "stream",
          "text": [
            "143\n"
          ]
        },
        {
          "data": {
            "text/plain": [
              "'buongiorno,\\n\\nanche se le ascolto letteralmente TUTTE (ascoltando radio 24 dalla mattina alle 6, fino alla sera), cerco di stare il più lontano possibile dal commentare le notizie della realtà.\\n\\nOggi però ho le balle piene di queste pagliacciate e di questa ipocrisia che porta persone come Chiara Ferragni ad essere idolatrate come esempi di successo (che probabilmente sono, ma non per i meriti ed i valori che dovrebbero invece essere perseguiti).\\n\\nnel video non riesce neanche a piangere, recita un discorso imparato a memoria, con un finto strucco impeccabile.\\n\\ndicevano che in seguito alla vicenda Balocco, l’influencer perde oltre 16mila follower, ma il mio “problema” è che comunque 30 milioni di sprechi di ossigeno continuano a seguirla (e a venerarla, nei casi peggiori).\\n\\nnon so, ditemi la vostra perche io mi sento stanco di questa realtà finta.'"
            ]
          },
          "execution_count": 34,
          "metadata": {},
          "output_type": "execute_result"
        }
      ],
      "source": [
        "print(len(reddit_1))\n",
        "reddit_1['Post Text'][0]"
      ]
    },
    {
      "cell_type": "code",
      "execution_count": null,
      "metadata": {
        "id": "uWNcHPr_7KG8"
      },
      "outputs": [],
      "source": [
        "# apllying Mistral small model to do sentiment exaclty like we have done for Facebook and using the same cassifications\n",
        "api_key = \"XNjiqIP1IeZxKfbtXckwD5duNvCMyfyZ\"\n",
        "model = \"mistral-small-latest\"\n",
        "client = MistralClient(api_key=api_key)\n",
        "\n",
        "titolo = 'buongiorno,\\n\\nanche se le ascolto letteralmente TUTTE (ascoltando radio 24 dalla mattina alle 6, fino alla sera), cerco di stare il più lontano possibile dal commentare le notizie della realtà.\\n\\nOggi però ho le balle piene di queste pagliacciate e di questa ipocrisia che porta persone come Chiara Ferragni ad essere idolatrate come esempi di successo (che probabilmente sono, ma non per i meriti ed i valori che dovrebbero invece essere perseguiti).\\n\\nnel video non riesce neanche a piangere, recita un discorso imparato a memoria, con un finto strucco impeccabile.\\n\\ndicevano che in seguito alla vicenda Balocco, l’influencer perde oltre 16mila follower, ma il mio “problema” è che comunque 30 milioni di sprechi di ossigeno continuano a seguirla (e a venerarla, nei casi peggiori).\\n\\nnon so, ditemi la vostra perche io mi sento stanco di questa realtà finta.'\n",
        "contesto_prompt = \"Un commento che esprime gioia o felecità va classificato come 'Felice della notizia'. Un commento neutrale va classificato come 'Neutrale'. Un commento che esprime supporto a Chiara Ferragni va classificato come 'A favore di Chiara Ferragni'. Un commento che critica Chiara Ferragni va classificato come 'Contro Chiara Ferragni'.\"\n",
        "system_message = ChatMessage(role=\"system\", content=f\"Il post su reddit è il seguente: '{titolo}'. Classifica il sentimento dei seguenti commenti al post su Reddit in una delle 4 categorie: 'Felice della notizia', 'Neutrale', 'A favore di Chiara Ferragni' o 'Contro Chiara Ferragni'. /n {contesto_prompt}\")\n",
        "\n",
        "prompt_format = \"Classifica il sentimento di questo commento, rispondendo solo con 'Felice della notizia', 'Neutrale', 'A favore di Chiara Ferragni' o 'Contro Chiara Ferragni':\"\n",
        "messages = [system_message] + [ChatMessage(role=\"user\", content = f\"{prompt_format} {comment}\") for comment in reddit_1['Comment']]\n",
        "\n",
        "# performingm sentiment analysis\n",
        "sentiments = []\n",
        "for message in messages:\n",
        "    try:\n",
        "        response = client.chat(model=model, messages=[message])\n",
        "        sentiment = response.choices[0].message.content\n",
        "        sentiments.append(sentiment)\n",
        "    except Exception as e:\n",
        "        print(f\"An error occurred with message '{message.content}': {e}\")\n",
        "        sentiments.append(\"Error\")\n",
        "simplified_sentiments = []\n",
        "\n",
        "for sentiment in sentiments[1:]:\n",
        "\n",
        "    idx_felice = sentiment.lower().find('felice della notizia')\n",
        "    idx_neutrale = sentiment.lower().find('neutrale')\n",
        "    idx_supporto = sentiment.lower().find('a favore di chiara ferragni')\n",
        "    idx_critica = sentiment.lower().find('contro chiara ferragni')\n",
        "\n",
        "\n",
        "    idx_felice = idx_felice if idx_felice != -1 else float('inf')\n",
        "    idx_neutrale = idx_neutrale if idx_neutrale != -1 else float('inf')\n",
        "    idx_supporto = idx_supporto if idx_supporto != -1 else float('inf')\n",
        "    idx_critica = idx_critica if idx_critica != -1 else float('inf')\n",
        "\n",
        "\n",
        "    if idx_felice == float('inf') and idx_neutrale == float('inf') and idx_supporto == float('inf') and idx_critica == float('inf'):\n",
        "        min_idx = 1000000\n",
        "    else:\n",
        "        min_idx = min(idx_felice, idx_critica, idx_supporto, idx_neutrale)\n",
        "\n",
        "\n",
        "    if min_idx == idx_felice:\n",
        "        simplified_sentiments.append('Felice')\n",
        "    elif min_idx == idx_neutrale:\n",
        "        simplified_sentiments.append('Neutrale')\n",
        "    elif min_idx == idx_critica:\n",
        "        simplified_sentiments.append('Contro Chiara Ferragni')\n",
        "    elif min_idx == idx_supporto:\n",
        "        simplified_sentiments.append('Pro Chiara Ferragni')\n",
        "    else:\n",
        "\n",
        "        simplified_sentiments.append('Non Classificato')\n",
        "\n",
        "# adding a column with the sentiment classifications\n",
        "reddit_1['sentiment'] = simplified_sentiments\n",
        "reddit_1 = reddit_1[['Comment', 'sentiment']]"
      ]
    },
    {
      "cell_type": "markdown",
      "metadata": {
        "id": "3uWmAb8t7KG8"
      },
      "source": [
        "Post 2, 98 comments"
      ]
    },
    {
      "cell_type": "code",
      "execution_count": null,
      "metadata": {
        "id": "WBId9alf7KG8"
      },
      "outputs": [],
      "source": [
        "post_id = '18l9u3b'\n",
        "\n",
        "submission = reddit.submission(id=post_id)\n",
        "\n",
        "comment_data = []\n",
        "\n",
        "submission.comments.replace_more(limit=0)\n",
        "\n",
        "post_text = submission.selftext\n",
        "\n",
        "for top_level_comment in submission.comments:\n",
        "    if isinstance(top_level_comment, praw.models.Comment):\n",
        "        comment_info = {\n",
        "            'Comment': top_level_comment.body,\n",
        "        }\n",
        "        comment_data.append(comment_info)\n",
        "\n",
        "\n",
        "reddit_2 = pd.DataFrame(comment_data)"
      ]
    },
    {
      "cell_type": "code",
      "execution_count": null,
      "metadata": {
        "id": "GnpqGqft7KG8",
        "outputId": "12bc1846-2aaf-49e6-8a9e-cad67dc8d153"
      },
      "outputs": [
        {
          "name": "stdout",
          "output_type": "stream",
          "text": [
            "98\n"
          ]
        }
      ],
      "source": [
        "print(len(reddit_2))"
      ]
    },
    {
      "cell_type": "code",
      "execution_count": null,
      "metadata": {
        "id": "ac2gMYNN7KG8"
      },
      "outputs": [],
      "source": [
        "api_key = \"XNjiqIP1IeZxKfbtXckwD5duNvCMyfyZ\"\n",
        "model = \"mistral-small-latest\"\n",
        "client = MistralClient(api_key=api_key)\n",
        "\n",
        "titolo = 'Chiara Ferragni e il caso Balocco: «Chiedo scusa e dono 1 milione di euro al Regina Margherita»'\n",
        "contesto_prompt = \"Un commento che esprime gioia o felecità va classificato come 'Felice della notizia'. Un commento neutrale va classificato come 'Neutrale'. Un commento che esprime supporto a Chiara Ferragni va classificato come 'A favore di Chiara Ferragni'. Un commento che critica Chiara Ferragni va classificato come 'Contro Chiara Ferragni'.\"\n",
        "system_message = ChatMessage(role=\"system\", content=f\"Il post su reddit è il seguente: '{titolo}'. Classifica il sentimento dei seguenti commenti al post su Reddit in una delle 4 categorie: 'Felice della notizia', 'Neutrale', 'A favore di Chiara Ferragni' o 'Contro Chiara Ferragni'. /n {contesto_prompt}\")\n",
        "\n",
        "prompt_format = \"Classifica il sentimento di questo commento, rispondendo solo con 'Felice della notizia', 'Neutrale', 'A favore di Chiara Ferragni' o 'Contro Chiara Ferragni':\"\n",
        "messages = [system_message] + [ChatMessage(role=\"user\", content = f\"{prompt_format} {comment}\") for comment in reddit_2['Comment']]\n",
        "\n",
        "sentiments = []\n",
        "for message in messages:\n",
        "    try:\n",
        "        response = client.chat(model=model, messages=[message])\n",
        "        sentiment = response.choices[0].message.content\n",
        "        sentiments.append(sentiment)\n",
        "    except Exception as e:\n",
        "        print(f\"An error occurred with message '{message.content}': {e}\")\n",
        "        sentiments.append(\"Error\")\n",
        "simplified_sentiments = []\n",
        "\n",
        "for sentiment in sentiments[1:]:\n",
        "\n",
        "    idx_felice = sentiment.lower().find('felice della notizia')\n",
        "    idx_neutrale = sentiment.lower().find('neutrale')\n",
        "    idx_supporto = sentiment.lower().find('a favore di chiara ferragni')\n",
        "    idx_critica = sentiment.lower().find('contro chiara ferragni')\n",
        "\n",
        "    idx_felice = idx_felice if idx_felice != -1 else float('inf')\n",
        "    idx_neutrale = idx_neutrale if idx_neutrale != -1 else float('inf')\n",
        "    idx_supporto = idx_supporto if idx_supporto != -1 else float('inf')\n",
        "    idx_critica = idx_critica if idx_critica != -1 else float('inf')\n",
        "\n",
        "    if idx_felice == float('inf') and idx_neutrale == float('inf') and idx_supporto == float('inf') and idx_critica == float('inf'):\n",
        "        min_idx = 1000000\n",
        "    else:\n",
        "        min_idx = min(idx_felice, idx_critica, idx_supporto, idx_neutrale)\n",
        "\n",
        "    if min_idx == idx_felice:\n",
        "        simplified_sentiments.append('Felice')\n",
        "    elif min_idx == idx_neutrale:\n",
        "        simplified_sentiments.append('Neutrale')\n",
        "    elif min_idx == idx_critica:\n",
        "        simplified_sentiments.append('Contro Chiara Ferragni')\n",
        "    elif min_idx == idx_supporto:\n",
        "        simplified_sentiments.append('Pro Chiara Ferragni')\n",
        "    else:\n",
        "\n",
        "        simplified_sentiments.append('Non Classificato')\n",
        "\n",
        "reddit_2['sentiment'] = simplified_sentiments"
      ]
    },
    {
      "cell_type": "markdown",
      "metadata": {
        "id": "iZv3ki6N7KG8"
      },
      "source": [
        "Post 3, 62 comments"
      ]
    },
    {
      "cell_type": "code",
      "execution_count": null,
      "metadata": {
        "id": "VFydWp3k7KG8"
      },
      "outputs": [],
      "source": [
        "post_id = '18ix1x6'\n",
        "\n",
        "submission = reddit.submission(id=post_id)\n",
        "\n",
        "comment_data = []\n",
        "\n",
        "submission.comments.replace_more(limit=0)\n",
        "\n",
        "post_text = submission.selftext\n",
        "\n",
        "for top_level_comment in submission.comments:\n",
        "    if isinstance(top_level_comment, praw.models.Comment):\n",
        "        comment_info = {\n",
        "            'Comment': top_level_comment.body,\n",
        "        }\n",
        "        comment_data.append(comment_info)\n",
        "\n",
        "reddit_3 = pd.DataFrame(comment_data)"
      ]
    },
    {
      "cell_type": "code",
      "execution_count": null,
      "metadata": {
        "id": "92wvOykB7KG8",
        "outputId": "42dc9ac6-4ab0-45a0-9fc5-fbb0fb05589c"
      },
      "outputs": [
        {
          "name": "stdout",
          "output_type": "stream",
          "text": [
            "62\n"
          ]
        }
      ],
      "source": [
        "print(len(reddit_3))"
      ]
    },
    {
      "cell_type": "code",
      "execution_count": null,
      "metadata": {
        "id": "Tt6xlaNA7KG8"
      },
      "outputs": [],
      "source": [
        "api_key = \"XNjiqIP1IeZxKfbtXckwD5duNvCMyfyZ\"\n",
        "model = \"mistral-small-latest\"\n",
        "client = MistralClient(api_key=api_key)\n",
        "\n",
        "titolo = \"Antitrust, maxi multa a Chiara Ferragni e Balocco per pandoro... ma dico certe personalità così socialmente esposte non hanno il dovere di prestare un po' più attenzione alle cose che fanno?\"\n",
        "contesto_prompt = \"Un commento che esprime gioia o felecità va classificato come 'Felice della notizia'. Un commento neutrale va classificato come 'Neutrale'. Un commento che esprime supporto a Chiara Ferragni va classificato come 'A favore di Chiara Ferragni'. Un commento che critica Chiara Ferragni va classificato come 'Contro Chiara Ferragni'.\"\n",
        "system_message = ChatMessage(role=\"system\", content=f\"Il post su reddit è il seguente: '{titolo}'. Classifica il sentimento dei seguenti commenti al post su Reddit in una delle 4 categorie: 'Felice della notizia', 'Neutrale', 'A favore di Chiara Ferragni' o 'Contro Chiara Ferragni'. /n {contesto_prompt}\")\n",
        "\n",
        "prompt_format = \"Classifica il sentimento di questo commento, rispondendo solo con 'Felice della notizia', 'Neutrale', 'A favore di Chiara Ferragni' o 'Contro Chiara Ferragni':\"\n",
        "messages = [system_message] + [ChatMessage(role=\"user\", content = f\"{prompt_format} {comment}\") for comment in reddit_3['Comment']]\n",
        "\n",
        "sentiments = []\n",
        "for message in messages:\n",
        "    try:\n",
        "        response = client.chat(model=model, messages=[message])\n",
        "        sentiment = response.choices[0].message.content\n",
        "        sentiments.append(sentiment)\n",
        "    except Exception as e:\n",
        "        print(f\"An error occurred with message '{message.content}': {e}\")\n",
        "        sentiments.append(\"Error\")\n",
        "simplified_sentiments = []\n",
        "\n",
        "for sentiment in sentiments[1:]:\n",
        "\n",
        "    idx_felice = sentiment.lower().find('felice della notizia')\n",
        "    idx_neutrale = sentiment.lower().find('neutrale')\n",
        "    idx_supporto = sentiment.lower().find('a favore di chiara ferragni')\n",
        "    idx_critica = sentiment.lower().find('contro chiara ferragni')\n",
        "\n",
        "    idx_felice = idx_felice if idx_felice != -1 else float('inf')\n",
        "    idx_neutrale = idx_neutrale if idx_neutrale != -1 else float('inf')\n",
        "    idx_supporto = idx_supporto if idx_supporto != -1 else float('inf')\n",
        "    idx_critica = idx_critica if idx_critica != -1 else float('inf')\n",
        "\n",
        "    if idx_felice == float('inf') and idx_neutrale == float('inf') and idx_supporto == float('inf') and idx_critica == float('inf'):\n",
        "        min_idx = 1000000\n",
        "    else:\n",
        "        min_idx = min(idx_felice, idx_critica, idx_supporto, idx_neutrale)\n",
        "\n",
        "    if min_idx == idx_felice:\n",
        "        simplified_sentiments.append('Felice')\n",
        "    elif min_idx == idx_neutrale:\n",
        "        simplified_sentiments.append('Neutrale')\n",
        "    elif min_idx == idx_critica:\n",
        "        simplified_sentiments.append('Contro Chiara Ferragni')\n",
        "    elif min_idx == idx_supporto:\n",
        "        simplified_sentiments.append('Pro Chiara Ferragni')\n",
        "    else:\n",
        "\n",
        "        simplified_sentiments.append('Non Classificato')\n",
        "\n",
        "reddit_3['sentiment'] = simplified_sentiments"
      ]
    },
    {
      "cell_type": "code",
      "execution_count": null,
      "metadata": {
        "id": "zOpK6NeB7KG8"
      },
      "outputs": [],
      "source": [
        "'''# we merge the 3 dataframes of comments on reddit into a single dataframe and add a column for indicating the post number\n",
        "reddit_1['Post'] = 1\n",
        "reddit_2['Post'] = 2\n",
        "reddit_3['Post'] = 3\n",
        "\n",
        "reddit_comments = pd.concat([reddit_1, reddit_2, reddit_3], ignore_index=True)\n",
        "\n",
        "# saving the df to avoid to re-run the sentiment analysis each time\n",
        "reddit_comments.to_csv('./Reddit_comments/reddit_comments_sentiment.csv', index=False)'''"
      ]
    },
    {
      "cell_type": "markdown",
      "metadata": {
        "id": "a04f_bHx7KG9"
      },
      "source": [
        "## Re-load reddit sentiment data"
      ]
    },
    {
      "cell_type": "code",
      "execution_count": null,
      "metadata": {
        "id": "lkDT2dFj7KG9"
      },
      "outputs": [],
      "source": [
        "reddit_comments = pd.read_csv('./Reddit_comments/reddit_comments_sentiment.csv')"
      ]
    },
    {
      "cell_type": "code",
      "execution_count": null,
      "metadata": {
        "id": "bYYCJxvy7KG9",
        "outputId": "c5634965-cf53-4fbb-808e-1eabdec0fd74"
      },
      "outputs": [
        {
          "data": {
            "text/html": [
              "<div>\n",
              "<style scoped>\n",
              "    .dataframe tbody tr th:only-of-type {\n",
              "        vertical-align: middle;\n",
              "    }\n",
              "\n",
              "    .dataframe tbody tr th {\n",
              "        vertical-align: top;\n",
              "    }\n",
              "\n",
              "    .dataframe thead th {\n",
              "        text-align: right;\n",
              "    }\n",
              "</style>\n",
              "<table border=\"1\" class=\"dataframe\">\n",
              "  <thead>\n",
              "    <tr style=\"text-align: right;\">\n",
              "      <th>sentiment</th>\n",
              "      <th>Post</th>\n",
              "      <th>Contro Chiara Ferragni</th>\n",
              "      <th>Pro Chiara Ferragni</th>\n",
              "      <th>Felice</th>\n",
              "      <th>Neutrale</th>\n",
              "    </tr>\n",
              "  </thead>\n",
              "  <tbody>\n",
              "    <tr>\n",
              "      <th>0</th>\n",
              "      <td>1</td>\n",
              "      <td>26</td>\n",
              "      <td>4</td>\n",
              "      <td>4</td>\n",
              "      <td>110</td>\n",
              "    </tr>\n",
              "    <tr>\n",
              "      <th>1</th>\n",
              "      <td>2</td>\n",
              "      <td>19</td>\n",
              "      <td>1</td>\n",
              "      <td>5</td>\n",
              "      <td>73</td>\n",
              "    </tr>\n",
              "    <tr>\n",
              "      <th>2</th>\n",
              "      <td>3</td>\n",
              "      <td>13</td>\n",
              "      <td>0</td>\n",
              "      <td>2</td>\n",
              "      <td>47</td>\n",
              "    </tr>\n",
              "  </tbody>\n",
              "</table>\n",
              "</div>"
            ],
            "text/plain": [
              "sentiment  Post  Contro Chiara Ferragni  Pro Chiara Ferragni  Felice  Neutrale\n",
              "0             1                      26                    4       4       110\n",
              "1             2                      19                    1       5        73\n",
              "2             3                      13                    0       2        47"
            ]
          },
          "execution_count": 43,
          "metadata": {},
          "output_type": "execute_result"
        }
      ],
      "source": [
        "# create a dataframe with the sentiment counts for each post\n",
        "reddit_counts = reddit_comments.groupby(['Post', 'sentiment']).size().unstack(fill_value=0)\n",
        "reddit_counts.columns = reddit_counts.columns.get_level_values(0)  # This flattens the columns if they are MultiIndex\n",
        "reddit_counts.reset_index(inplace=True)\n",
        "reddit_counts = reddit_counts[['Post', 'Contro Chiara Ferragni', 'Pro Chiara Ferragni', 'Felice', 'Neutrale']]\n",
        "\n",
        "reddit_counts.head()"
      ]
    },
    {
      "cell_type": "code",
      "execution_count": null,
      "metadata": {
        "id": "CqHg-8k27KG9",
        "outputId": "abf24421-4996-4b79-9069-108f3c30c86d"
      },
      "outputs": [
        {
          "data": {
            "image/png": "[encoded data removed]",
            "text/plain": [
              "<Figure size 1000x600 with 1 Axes>"
            ]
          },
          "metadata": {},
          "output_type": "display_data"
        }
      ],
      "source": [
        "# plotting the distribution of sentiment\n",
        "\n",
        "# plot background\n",
        "fig, ax = plt.subplots(figsize=(10, 6))\n",
        "fig.set_facecolor('#F8F7EB')\n",
        "ax.set_facecolor('#F8F7EB')\n",
        "\n",
        "reddit_counts['Total'] = reddit_counts['Contro Chiara Ferragni'] + reddit_counts['Pro Chiara Ferragni'] + reddit_counts['Felice'] + reddit_counts['Neutrale']\n",
        "\n",
        "reddit_counts['Perc_Contro'] = ((reddit_counts['Contro Chiara Ferragni'] / reddit_counts['Total']) + (reddit_counts['Felice'] / reddit_counts['Total'])) * 100\n",
        "reddit_counts['Perc_Favore'] = (reddit_counts['Pro Chiara Ferragni'] / reddit_counts['Total']) * 100\n",
        "reddit_counts['Perc_Neutri'] = (reddit_counts['Neutrale'] / reddit_counts['Total']) * 100\n",
        "\n",
        "bar_width = 0.2\n",
        "index = range(len(reddit_counts))\n",
        "r1 = index\n",
        "r2 = [x + bar_width for x in r1]\n",
        "r3 = [x + bar_width for x in r2]\n",
        "\n",
        "ax.bar(r1, reddit_counts['Perc_Contro'], width=bar_width, label='Against Chiara Ferragni\\nor Happy for the Fine', color='r')\n",
        "ax.bar(r2, reddit_counts['Perc_Favore'], width=bar_width, label='Pro Chiara Ferragni', color='g')\n",
        "ax.bar(r3, reddit_counts['Perc_Neutri'], width=bar_width, label='Neutral', color='b')\n",
        "\n",
        "ax.set_xlabel('Post')\n",
        "ax.set_ylabel('Comments Percentage')\n",
        "ax.set_title('Sentiment Distribution per Post in Percentage')\n",
        "ax.set_xticks([r + bar_width/2 for r in index])\n",
        "ax.set_xticklabels(reddit_counts['Post'])\n",
        "\n",
        "ax.legend(loc='upper left', bbox_to_anchor=(1, 1))\n",
        "\n",
        "sns.set(style=\"whitegrid\")\n",
        "plt.tight_layout()\n",
        "plt.show()"
      ]
    },
    {
      "cell_type": "code",
      "execution_count": null,
      "metadata": {
        "id": "ZxqThW1K7KG9",
        "outputId": "c380b5f6-b1f8-4b53-e5b1-97bbafb8fbcb"
      },
      "outputs": [
        {
          "data": {
            "text/html": [
              "<div>\n",
              "<style scoped>\n",
              "    .dataframe tbody tr th:only-of-type {\n",
              "        vertical-align: middle;\n",
              "    }\n",
              "\n",
              "    .dataframe tbody tr th {\n",
              "        vertical-align: top;\n",
              "    }\n",
              "\n",
              "    .dataframe thead th {\n",
              "        text-align: right;\n",
              "    }\n",
              "</style>\n",
              "<table border=\"1\" class=\"dataframe\">\n",
              "  <thead>\n",
              "    <tr style=\"text-align: right;\">\n",
              "      <th></th>\n",
              "      <th>Comment</th>\n",
              "      <th>sentiment</th>\n",
              "      <th>Post</th>\n",
              "    </tr>\n",
              "  </thead>\n",
              "  <tbody>\n",
              "    <tr>\n",
              "      <th>116</th>\n",
              "      <td>Il tuo è un commento un po' fine a se stesso, Ferragni è prima di tutto imprenditrice, e in questo non si può dire non ci abbia messo del suo per fare carriera, il problema nasce quando un imprenditore ha anche una vita pubblica documentata 24h su 24h, prendi un qualsiasi dirigente di azienda e mettilo sotto la lente d'ingrandimento e vedrai quante magagne, il punto è che secondo me non doveva scusarsi, mi sarei limitato ad un \"siamo al corrente del problema e stiamo facendo di tutto per ris...</td>\n",
              "      <td>Neutrale</td>\n",
              "      <td>1</td>\n",
              "    </tr>\n",
              "    <tr>\n",
              "      <th>242</th>\n",
              "      <td>Trovo aberrante sfruttare la beneficenza per vendere un prodotto, anche fosse genuina. \\n\\nSe poi è pure farlocca sei proprio una merda</td>\n",
              "      <td>Neutrale</td>\n",
              "      <td>3</td>\n",
              "    </tr>\n",
              "    <tr>\n",
              "      <th>240</th>\n",
              "      <td>Non c'è speranza, siamo un popolo di rincoglioniti.\\n\\n\\n&gt; **La tuta che indossa Chiara Ferragni nel video di scuse è sold out** - https://www.open.online/2023/12/20/chiara-ferragni-tuta-scuse-video-capo-sold-out/</td>\n",
              "      <td>Neutrale</td>\n",
              "      <td>2</td>\n",
              "    </tr>\n",
              "    <tr>\n",
              "      <th>166</th>\n",
              "      <td>Nel mulino che vorrei, basterebbe sta storia per sotterrarla definitivamente come influencer di qualunquecosa\\n\\nE invece tra una settimana nessuno si ricorderà più niente, come il compleanno all'Esselunga\\n\\nChe amarezza</td>\n",
              "      <td>Neutrale</td>\n",
              "      <td>2</td>\n",
              "    </tr>\n",
              "    <tr>\n",
              "      <th>60</th>\n",
              "      <td>Da quando si è iniziato a stigmatizzare una persona per un suo errore? A me di Chiara Ferragni non frega proprio nulla ma non è che dopo questo “scandalo” con la Balocco allora mi aspetto che venga ostracizzata dal mondo intero, vediamo di mettere le cose sul giusto piano. \\n\\nNon si è mica scoperto che rapisce i bambini per bere il loro sangue, non ha fatto del male nè molestato nessuno, nè tantomeno ha arrecato un danno economico a qualcuno, chi voleva comprava il Pandoro e chi non lo vole...</td>\n",
              "      <td>Neutrale</td>\n",
              "      <td>1</td>\n",
              "    </tr>\n",
              "    <tr>\n",
              "      <th>279</th>\n",
              "      <td>Se scrivessi davvero cosa penso di questi \"influencer\" probabilmente verrei bannato.\\n\\nDico solo che siamo ai limiti della circonvenzione di incapace.</td>\n",
              "      <td>Neutrale</td>\n",
              "      <td>3</td>\n",
              "    </tr>\n",
              "    <tr>\n",
              "      <th>259</th>\n",
              "      <td>Non vedo l'ora dell'ascesa degli influencer IA e mandare nell'oblio figure come queste. Non ho mai seguito/letto un post di questa donna ma il narcisismo e il finto buonismo che mostra nei media è aberrante, è vero che a volte i soldi rendono mostri le persone...\\n\\nLa domanda sorge spontanea: la Balocco aveva già fatto la donazione, quanto è responsabile per la società di Ferragni che si è messa i soldi in tasca?</td>\n",
              "      <td>Contro Chiara Ferragni</td>\n",
              "      <td>3</td>\n",
              "    </tr>\n",
              "    <tr>\n",
              "      <th>113</th>\n",
              "      <td>Ho scoperto che ka mia ragazza la segue e ha messo like al suo finto video di pianto. Non so come reagire onestamente: mi manca il fiato</td>\n",
              "      <td>Neutrale</td>\n",
              "      <td>1</td>\n",
              "    </tr>\n",
              "    <tr>\n",
              "      <th>173</th>\n",
              "      <td>la faccia come il deretano.\\n\\nse non la sgamavano col piffero che donava i soldi\\n\\n&gt; «Sono sempre stata convinta che chi è più fortunato ha la responsabilità morale di fare del bene — scrive su Instagram insieme a un video nel quale appare provata, quasi alle lacrime —.  Questi sono i valori che hanno sempre spinto me e la mia famiglia.  Questo è quello che insegniamo ai nostri figli. Gli insegniamo anche che  si può sbagliare, e che quando capita bisogna ammettere, e se  possibile, rimedi...</td>\n",
              "      <td>Felice</td>\n",
              "      <td>2</td>\n",
              "    </tr>\n",
              "    <tr>\n",
              "      <th>177</th>\n",
              "      <td>[Zio Peppe MODE ON]\\nQuesta caca millioni di euro come bruscolini, io veramente boh.\\n[Zio Peppe MODE OFF]</td>\n",
              "      <td>Neutrale</td>\n",
              "      <td>2</td>\n",
              "    </tr>\n",
              "  </tbody>\n",
              "</table>\n",
              "</div>"
            ],
            "text/plain": [
              "                                                                                                                                                                                                                                                                                                                                                                                                                                                                                                                 Comment  \\\n",
              "116  Il tuo è un commento un po' fine a se stesso, Ferragni è prima di tutto imprenditrice, e in questo non si può dire non ci abbia messo del suo per fare carriera, il problema nasce quando un imprenditore ha anche una vita pubblica documentata 24h su 24h, prendi un qualsiasi dirigente di azienda e mettilo sotto la lente d'ingrandimento e vedrai quante magagne, il punto è che secondo me non doveva scusarsi, mi sarei limitato ad un \"siamo al corrente del problema e stiamo facendo di tutto per ris...   \n",
              "242                                                                                                                                                                                                                                                                                                                                                                              Trovo aberrante sfruttare la beneficenza per vendere un prodotto, anche fosse genuina. \\n\\nSe poi è pure farlocca sei proprio una merda   \n",
              "240                                                                                                                                                                                                                                                                                                Non c'è speranza, siamo un popolo di rincoglioniti.\\n\\n\\n> **La tuta che indossa Chiara Ferragni nel video di scuse è sold out** - https://www.open.online/2023/12/20/chiara-ferragni-tuta-scuse-video-capo-sold-out/   \n",
              "166                                                                                                                                                                                                                                                                                        Nel mulino che vorrei, basterebbe sta storia per sotterrarla definitivamente come influencer di qualunquecosa\\n\\nE invece tra una settimana nessuno si ricorderà più niente, come il compleanno all'Esselunga\\n\\nChe amarezza   \n",
              "60   Da quando si è iniziato a stigmatizzare una persona per un suo errore? A me di Chiara Ferragni non frega proprio nulla ma non è che dopo questo “scandalo” con la Balocco allora mi aspetto che venga ostracizzata dal mondo intero, vediamo di mettere le cose sul giusto piano. \\n\\nNon si è mica scoperto che rapisce i bambini per bere il loro sangue, non ha fatto del male nè molestato nessuno, nè tantomeno ha arrecato un danno economico a qualcuno, chi voleva comprava il Pandoro e chi non lo vole...   \n",
              "279                                                                                                                                                                                                                                                                                                                                                              Se scrivessi davvero cosa penso di questi \"influencer\" probabilmente verrei bannato.\\n\\nDico solo che siamo ai limiti della circonvenzione di incapace.   \n",
              "259                                                                                    Non vedo l'ora dell'ascesa degli influencer IA e mandare nell'oblio figure come queste. Non ho mai seguito/letto un post di questa donna ma il narcisismo e il finto buonismo che mostra nei media è aberrante, è vero che a volte i soldi rendono mostri le persone...\\n\\nLa domanda sorge spontanea: la Balocco aveva già fatto la donazione, quanto è responsabile per la società di Ferragni che si è messa i soldi in tasca?   \n",
              "113                                                                                                                                                                                                                                                                                                                                                                             Ho scoperto che ka mia ragazza la segue e ha messo like al suo finto video di pianto. Non so come reagire onestamente: mi manca il fiato   \n",
              "173  la faccia come il deretano.\\n\\nse non la sgamavano col piffero che donava i soldi\\n\\n> «Sono sempre stata convinta che chi è più fortunato ha la responsabilità morale di fare del bene — scrive su Instagram insieme a un video nel quale appare provata, quasi alle lacrime —.  Questi sono i valori che hanno sempre spinto me e la mia famiglia.  Questo è quello che insegniamo ai nostri figli. Gli insegniamo anche che  si può sbagliare, e che quando capita bisogna ammettere, e se  possibile, rimedi...   \n",
              "177                                                                                                                                                                                                                                                                                                                                                                                                           [Zio Peppe MODE ON]\\nQuesta caca millioni di euro come bruscolini, io veramente boh.\\n[Zio Peppe MODE OFF]   \n",
              "\n",
              "                  sentiment  Post  \n",
              "116                Neutrale     1  \n",
              "242                Neutrale     3  \n",
              "240                Neutrale     2  \n",
              "166                Neutrale     2  \n",
              "60                 Neutrale     1  \n",
              "279                Neutrale     3  \n",
              "259  Contro Chiara Ferragni     3  \n",
              "113                Neutrale     1  \n",
              "173                  Felice     2  \n",
              "177                Neutrale     2  "
            ]
          },
          "execution_count": 45,
          "metadata": {},
          "output_type": "execute_result"
        }
      ],
      "source": [
        "pd.set_option('display.max_colwidth', 500)\n",
        "reddit_comments.sample(10)"
      ]
    },
    {
      "cell_type": "code",
      "execution_count": null,
      "metadata": {
        "id": "f7GbxBEh7KG9",
        "outputId": "49c055ee-bf05-45df-f8a6-02f624a7bd3e"
      },
      "outputs": [
        {
          "name": "stderr",
          "output_type": "stream",
          "text": [
            "C:\\Users\\andre\\AppData\\Local\\Temp\\ipykernel_11240\\2536401392.py:7: FutureWarning: Styler.applymap has been deprecated. Use Styler.map instead.\n",
            "  sample_comments = sample_comments.style.set_properties(**{'text-align': 'center'}).set_table_styles([dict(selector='th', props=[('text-align', 'center')])]).applymap(color_sentiment, subset=['sentiment'])\n"
          ]
        },
        {
          "data": {
            "text/html": [
              "<style type=\"text/css\">\n",
              "#T_fc74b th {\n",
              "  text-align: center;\n",
              "}\n",
              "#T_fc74b_row0_col0, #T_fc74b_row0_col2, #T_fc74b_row1_col0, #T_fc74b_row1_col2, #T_fc74b_row2_col0, #T_fc74b_row2_col2, #T_fc74b_row3_col0, #T_fc74b_row3_col2, #T_fc74b_row4_col0, #T_fc74b_row4_col2, #T_fc74b_row5_col0, #T_fc74b_row5_col2, #T_fc74b_row6_col0, #T_fc74b_row6_col2, #T_fc74b_row7_col0, #T_fc74b_row7_col2, #T_fc74b_row8_col0, #T_fc74b_row8_col2, #T_fc74b_row9_col0, #T_fc74b_row9_col2 {\n",
              "  text-align: center;\n",
              "}\n",
              "#T_fc74b_row0_col1, #T_fc74b_row1_col1, #T_fc74b_row3_col1, #T_fc74b_row7_col1, #T_fc74b_row8_col1 {\n",
              "  text-align: center;\n",
              "  color: gray;\n",
              "}\n",
              "#T_fc74b_row2_col1, #T_fc74b_row4_col1, #T_fc74b_row5_col1, #T_fc74b_row6_col1, #T_fc74b_row9_col1 {\n",
              "  text-align: center;\n",
              "  color: red;\n",
              "}\n",
              "</style>\n",
              "<table id=\"T_fc74b\">\n",
              "  <thead>\n",
              "    <tr>\n",
              "      <th class=\"blank level0\" >&nbsp;</th>\n",
              "      <th id=\"T_fc74b_level0_col0\" class=\"col_heading level0 col0\" >Comment</th>\n",
              "      <th id=\"T_fc74b_level0_col1\" class=\"col_heading level0 col1\" >sentiment</th>\n",
              "      <th id=\"T_fc74b_level0_col2\" class=\"col_heading level0 col2\" >Post</th>\n",
              "    </tr>\n",
              "  </thead>\n",
              "  <tbody>\n",
              "    <tr>\n",
              "      <th id=\"T_fc74b_level0_row0\" class=\"row_heading level0 row0\" >230</th>\n",
              "      <td id=\"T_fc74b_row0_col0\" class=\"data row0 col0\" >solitamente quando si fa una donazione si preferisce restare anonimi!</td>\n",
              "      <td id=\"T_fc74b_row0_col1\" class=\"data row0 col1\" >Neutrale</td>\n",
              "      <td id=\"T_fc74b_row0_col2\" class=\"data row0 col2\" >2</td>\n",
              "    </tr>\n",
              "    <tr>\n",
              "      <th id=\"T_fc74b_level0_row1\" class=\"row_heading level0 row1\" >182</th>\n",
              "      <td id=\"T_fc74b_row1_col0\" class=\"data row1 col0\" >Essere poveri é uno stato economico, ma poveracci lo si é se nell'animo</td>\n",
              "      <td id=\"T_fc74b_row1_col1\" class=\"data row1 col1\" >Neutrale</td>\n",
              "      <td id=\"T_fc74b_row1_col2\" class=\"data row1 col2\" >2</td>\n",
              "    </tr>\n",
              "    <tr>\n",
              "      <th id=\"T_fc74b_level0_row2\" class=\"row_heading level0 row2\" >204</th>\n",
              "      <td id=\"T_fc74b_row2_col0\" class=\"data row2 col0\" >Ora che è stata scoperta...ignobile davvero.</td>\n",
              "      <td id=\"T_fc74b_row2_col1\" class=\"data row2 col1\" >Contro Chiara Ferragni</td>\n",
              "      <td id=\"T_fc74b_row2_col2\" class=\"data row2 col2\" >2</td>\n",
              "    </tr>\n",
              "    <tr>\n",
              "      <th id=\"T_fc74b_level0_row3\" class=\"row_heading level0 row3\" >140</th>\n",
              "      <td id=\"T_fc74b_row3_col0\" class=\"data row3 col0\" >Non so nemmeno chi sia</td>\n",
              "      <td id=\"T_fc74b_row3_col1\" class=\"data row3 col1\" >Neutrale</td>\n",
              "      <td id=\"T_fc74b_row3_col2\" class=\"data row3 col2\" >1</td>\n",
              "    </tr>\n",
              "    <tr>\n",
              "      <th id=\"T_fc74b_level0_row4\" class=\"row_heading level0 row4\" >190</th>\n",
              "      <td id=\"T_fc74b_row4_col0\" class=\"data row4 col0\" >Che personaggio vergognoso</td>\n",
              "      <td id=\"T_fc74b_row4_col1\" class=\"data row4 col1\" >Contro Chiara Ferragni</td>\n",
              "      <td id=\"T_fc74b_row4_col2\" class=\"data row4 col2\" >2</td>\n",
              "    </tr>\n",
              "    <tr>\n",
              "      <th id=\"T_fc74b_level0_row5\" class=\"row_heading level0 row5\" >269</th>\n",
              "      <td id=\"T_fc74b_row5_col0\" class=\"data row5 col0\" >Vabbè del resto lei è abituata a fare soldi sulle spalle dei bambini</td>\n",
              "      <td id=\"T_fc74b_row5_col1\" class=\"data row5 col1\" >Contro Chiara Ferragni</td>\n",
              "      <td id=\"T_fc74b_row5_col2\" class=\"data row5 col2\" >3</td>\n",
              "    </tr>\n",
              "    <tr>\n",
              "      <th id=\"T_fc74b_level0_row6\" class=\"row_heading level0 row6\" >276</th>\n",
              "      <td id=\"T_fc74b_row6_col0\" class=\"data row6 col0\" >Godo come un riccio.</td>\n",
              "      <td id=\"T_fc74b_row6_col1\" class=\"data row6 col1\" >Felice</td>\n",
              "      <td id=\"T_fc74b_row6_col2\" class=\"data row6 col2\" >3</td>\n",
              "    </tr>\n",
              "    <tr>\n",
              "      <th id=\"T_fc74b_level0_row7\" class=\"row_heading level0 row7\" >123</th>\n",
              "      <td id=\"T_fc74b_row7_col0\" class=\"data row7 col0\" >Ti dirò, domani mattina al bar prenderò cornetto alla Nutella e cappuccino</td>\n",
              "      <td id=\"T_fc74b_row7_col1\" class=\"data row7 col1\" >Neutrale</td>\n",
              "      <td id=\"T_fc74b_row7_col2\" class=\"data row7 col2\" >1</td>\n",
              "    </tr>\n",
              "    <tr>\n",
              "      <th id=\"T_fc74b_level0_row8\" class=\"row_heading level0 row8\" >189</th>\n",
              "      <td id=\"T_fc74b_row8_col0\" class=\"data row8 col0\" >Sì ma finché non vedo la contabile del bonifico effettuato non ci credo.</td>\n",
              "      <td id=\"T_fc74b_row8_col1\" class=\"data row8 col1\" >Neutrale</td>\n",
              "      <td id=\"T_fc74b_row8_col2\" class=\"data row8 col2\" >2</td>\n",
              "    </tr>\n",
              "    <tr>\n",
              "      <th id=\"T_fc74b_level0_row9\" class=\"row_heading level0 row9\" >215</th>\n",
              "      <td id=\"T_fc74b_row9_col0\" class=\"data row9 col0\" >Ricchi che cercano di comprare i fan coi soldi. Fanculo a loro.</td>\n",
              "      <td id=\"T_fc74b_row9_col1\" class=\"data row9 col1\" >Contro Chiara Ferragni</td>\n",
              "      <td id=\"T_fc74b_row9_col2\" class=\"data row9 col2\" >2</td>\n",
              "    </tr>\n",
              "  </tbody>\n",
              "</table>\n"
            ],
            "text/plain": [
              "<pandas.io.formats.style.Styler at 0x1aa66dfcdd0>"
            ]
          },
          "execution_count": 46,
          "metadata": {},
          "output_type": "execute_result"
        }
      ],
      "source": [
        "# restyling the dataframe by assigning colors to the sentiments and adjusting how comments are displayed\n",
        "def color_sentiment(val):\n",
        "    color = 'red' if val == 'Contro Chiara Ferragni' or val == 'Felice' else 'green' if val == 'Pro Chiara Ferragni' else 'gray'\n",
        "    return f'color: {color}'\n",
        "\n",
        "sample_comments = reddit_comments.loc[[230,182,204,140,190,269,276,123,189,215]]\n",
        "sample_comments = sample_comments.style.set_properties(**{'text-align': 'center'}).set_table_styles([dict(selector='th', props=[('text-align', 'center')])]).applymap(color_sentiment, subset=['sentiment'])\n",
        "\n",
        "sample_comments"
      ]
    },
    {
      "cell_type": "markdown",
      "metadata": {},
      "source": [
        "# Benchmarking our sentiment analysis model"
      ]
    },
    {
      "cell_type": "markdown",
      "metadata": {},
      "source": [
        "Evaluate sentiment analysis benchmarking of mistral apis through the use of labelled data on comments on Twitter.\n",
        "The dataset for the evaluation has been downloaded from kaggle: https://www.kaggle.com/datasets/yasserh/twitter-tweets-sentiment-dataset"
      ]
    },
    {
      "cell_type": "code",
      "execution_count": null,
      "metadata": {},
      "outputs": [
        {
          "data": {
            "text/html": [
              "<div>\n",
              "<style scoped>\n",
              "    .dataframe tbody tr th:only-of-type {\n",
              "        vertical-align: middle;\n",
              "    }\n",
              "\n",
              "    .dataframe tbody tr th {\n",
              "        vertical-align: top;\n",
              "    }\n",
              "\n",
              "    .dataframe thead th {\n",
              "        text-align: right;\n",
              "    }\n",
              "</style>\n",
              "<table border=\"1\" class=\"dataframe\">\n",
              "  <thead>\n",
              "    <tr style=\"text-align: right;\">\n",
              "      <th></th>\n",
              "      <th>text</th>\n",
              "      <th>sentiment</th>\n",
              "    </tr>\n",
              "  </thead>\n",
              "  <tbody>\n",
              "    <tr>\n",
              "      <th>0</th>\n",
              "      <td>I`d have responded, if I were going</td>\n",
              "      <td>neutral</td>\n",
              "    </tr>\n",
              "    <tr>\n",
              "      <th>1</th>\n",
              "      <td>Sooo SAD I will miss you here in San Diego!!!</td>\n",
              "      <td>negative</td>\n",
              "    </tr>\n",
              "    <tr>\n",
              "      <th>2</th>\n",
              "      <td>my boss is bullying me...</td>\n",
              "      <td>negative</td>\n",
              "    </tr>\n",
              "    <tr>\n",
              "      <th>3</th>\n",
              "      <td>what interview! leave me alone</td>\n",
              "      <td>negative</td>\n",
              "    </tr>\n",
              "    <tr>\n",
              "      <th>4</th>\n",
              "      <td>Sons of ****, why couldn`t they put them on the releases we already bought</td>\n",
              "      <td>negative</td>\n",
              "    </tr>\n",
              "  </tbody>\n",
              "</table>\n",
              "</div>"
            ],
            "text/plain": [
              "                                                                          text  \\\n",
              "0                                          I`d have responded, if I were going   \n",
              "1                                Sooo SAD I will miss you here in San Diego!!!   \n",
              "2                                                    my boss is bullying me...   \n",
              "3                                               what interview! leave me alone   \n",
              "4   Sons of ****, why couldn`t they put them on the releases we already bought   \n",
              "\n",
              "  sentiment  \n",
              "0   neutral  \n",
              "1  negative  \n",
              "2  negative  \n",
              "3  negative  \n",
              "4  negative  "
            ]
          },
          "execution_count": 50,
          "metadata": {},
          "output_type": "execute_result"
        }
      ],
      "source": [
        "# load data\n",
        "df = pd.read_csv('./Benchmark datasets/Tweets.csv')\n",
        "df = df[['text', 'sentiment']]\n",
        "df.head()"
      ]
    },
    {
      "cell_type": "code",
      "execution_count": null,
      "metadata": {},
      "outputs": [
        {
          "data": {
            "text/html": [
              "<div>\n",
              "<style scoped>\n",
              "    .dataframe tbody tr th:only-of-type {\n",
              "        vertical-align: middle;\n",
              "    }\n",
              "\n",
              "    .dataframe tbody tr th {\n",
              "        vertical-align: top;\n",
              "    }\n",
              "\n",
              "    .dataframe thead th {\n",
              "        text-align: right;\n",
              "    }\n",
              "</style>\n",
              "<table border=\"1\" class=\"dataframe\">\n",
              "  <thead>\n",
              "    <tr style=\"text-align: right;\">\n",
              "      <th></th>\n",
              "      <th>text</th>\n",
              "      <th>sentiment</th>\n",
              "    </tr>\n",
              "  </thead>\n",
              "  <tbody>\n",
              "    <tr>\n",
              "      <th>count</th>\n",
              "      <td>27480</td>\n",
              "      <td>27481</td>\n",
              "    </tr>\n",
              "    <tr>\n",
              "      <th>unique</th>\n",
              "      <td>27480</td>\n",
              "      <td>3</td>\n",
              "    </tr>\n",
              "    <tr>\n",
              "      <th>top</th>\n",
              "      <td>I`d have responded, if I were going</td>\n",
              "      <td>neutral</td>\n",
              "    </tr>\n",
              "    <tr>\n",
              "      <th>freq</th>\n",
              "      <td>1</td>\n",
              "      <td>11118</td>\n",
              "    </tr>\n",
              "  </tbody>\n",
              "</table>\n",
              "</div>"
            ],
            "text/plain": [
              "                                        text sentiment\n",
              "count                                  27480     27481\n",
              "unique                                 27480         3\n",
              "top      I`d have responded, if I were going   neutral\n",
              "freq                                       1     11118"
            ]
          },
          "execution_count": 51,
          "metadata": {},
          "output_type": "execute_result"
        }
      ],
      "source": [
        "df.describe()"
      ]
    },
    {
      "cell_type": "code",
      "execution_count": null,
      "metadata": {},
      "outputs": [],
      "source": [
        "# Take only 500 records to evaluate our sentiment analysis model\n",
        "df = df.sample(n=500, random_state=1)"
      ]
    },
    {
      "cell_type": "code",
      "execution_count": null,
      "metadata": {},
      "outputs": [],
      "source": [
        "# Replace 'your_api_key_here' with your actual Mistral API key\n",
        "api_key = \"XNjiqIP1IeZxKfbtXckwD5duNvCMyfyZ\"\n",
        "model = \"mistral-small-latest\" \n",
        "\n",
        "client = MistralClient(api_key=api_key)\n",
        "\n",
        "# Prepare your system message\n",
        "system_message = ChatMessage(role=\"system\", content=\"Classify the sentiment of the following Twitter comments as 'positive', 'neutral', or 'negative'.\")\n",
        "\n",
        "# Preparing the prompt for each comment and converting into ChatMessage objects\n",
        "prompt_format = \"Classify the content of this Twitter comment, replying only with 'positive', 'neutral', or 'negative': {}\"\n",
        "messages = [system_message] + [ChatMessage(role=\"user\", content=prompt_format.format(comment)) for comment in df['text']]\n",
        "\n",
        "# Perform sentiment analysis\n",
        "sentiments = []\n",
        "for message in messages:\n",
        "    try:\n",
        "        response = client.chat(model=model, messages=[message])\n",
        "        sentiment = response.choices[0].message.content  # Assuming each response has one sentiment\n",
        "        sentiments.append(sentiment)\n",
        "    except Exception as e:\n",
        "        print(f\"An error occurred with message '{message.content}': {e}\")\n",
        "        sentiments.append(\"Error\")"
      ]
    },
    {
      "cell_type": "code",
      "execution_count": null,
      "metadata": {},
      "outputs": [
        {
          "data": {
            "text/plain": [
              "['negative', 'negative', 'negative', 'positive', 'positive']"
            ]
          },
          "execution_count": 54,
          "metadata": {},
          "output_type": "execute_result"
        }
      ],
      "source": [
        "simplified_sentiments = [] \n",
        "for sentiment in sentiments[1:]: # Skip the system message\n",
        "    if 'positive' in sentiment.lower():\n",
        "        simplified_sentiments.append('positive')\n",
        "        pass\n",
        "    elif 'negative' in sentiment.lower():\n",
        "        simplified_sentiments.append('negative')\n",
        "        pass\n",
        "    else:\n",
        "        # Default to 'Neutral' if neither Positive nor Negative is found\n",
        "        simplified_sentiments.append('neutral')\n",
        "\n",
        "simplified_sentiments[:5]"
      ]
    },
    {
      "cell_type": "code",
      "execution_count": null,
      "metadata": {},
      "outputs": [],
      "source": [
        "df['predicted_sentiment'] = simplified_sentiments"
      ]
    },
    {
      "cell_type": "code",
      "execution_count": null,
      "metadata": {},
      "outputs": [],
      "source": [
        "# save the results\n",
        "'''df.to_csv('./Benchmark datasets/Tweets_with_sentiment5.csv', index=False)'''"
      ]
    },
    {
      "cell_type": "markdown",
      "metadata": {},
      "source": [
        "## Re-load the data"
      ]
    },
    {
      "cell_type": "code",
      "execution_count": null,
      "metadata": {},
      "outputs": [],
      "source": [
        "# reload the data\n",
        "df = pd.read_csv('./Benchmark datasets/Tweets_with_sentiment5.csv')"
      ]
    },
    {
      "cell_type": "code",
      "execution_count": null,
      "metadata": {},
      "outputs": [
        {
          "data": {
            "text/html": [
              "<div>\n",
              "<style scoped>\n",
              "    .dataframe tbody tr th:only-of-type {\n",
              "        vertical-align: middle;\n",
              "    }\n",
              "\n",
              "    .dataframe tbody tr th {\n",
              "        vertical-align: top;\n",
              "    }\n",
              "\n",
              "    .dataframe thead th {\n",
              "        text-align: right;\n",
              "    }\n",
              "</style>\n",
              "<table border=\"1\" class=\"dataframe\">\n",
              "  <thead>\n",
              "    <tr style=\"text-align: right;\">\n",
              "      <th></th>\n",
              "      <th>text</th>\n",
              "      <th>sentiment</th>\n",
              "      <th>predicted_sentiment</th>\n",
              "    </tr>\n",
              "  </thead>\n",
              "  <tbody>\n",
              "    <tr>\n",
              "      <th>0</th>\n",
              "      <td>: Aww, that sux!  _x3: Eeek for Airline charges!!! (****)</td>\n",
              "      <td>negative</td>\n",
              "      <td>negative</td>\n",
              "    </tr>\n",
              "    <tr>\n",
              "      <th>1</th>\n",
              "      <td>O dear! HE`S HERE! OMGOGMGO.. U didn`t see that I was going to **** u..?</td>\n",
              "      <td>neutral</td>\n",
              "      <td>negative</td>\n",
              "    </tr>\n",
              "    <tr>\n",
              "      <th>2</th>\n",
              "      <td>Um. Why can`t I write **** tonight? I like ****. I want to write ****. Yet, nothing. No ****.</td>\n",
              "      <td>positive</td>\n",
              "      <td>negative</td>\n",
              "    </tr>\n",
              "    <tr>\n",
              "      <th>3</th>\n",
              "      <td>Special mention for the new Mean Girl ... welcome her! &amp; if you`re not already, FOLLOW HER!! Night</td>\n",
              "      <td>neutral</td>\n",
              "      <td>positive</td>\n",
              "    </tr>\n",
              "    <tr>\n",
              "      <th>4</th>\n",
              "      <td>school for a bit. glad jake got the day off</td>\n",
              "      <td>positive</td>\n",
              "      <td>positive</td>\n",
              "    </tr>\n",
              "  </tbody>\n",
              "</table>\n",
              "</div>"
            ],
            "text/plain": [
              "                                                                                                 text  \\\n",
              "0                                           : Aww, that sux!  _x3: Eeek for Airline charges!!! (****)   \n",
              "1                            O dear! HE`S HERE! OMGOGMGO.. U didn`t see that I was going to **** u..?   \n",
              "2       Um. Why can`t I write **** tonight? I like ****. I want to write ****. Yet, nothing. No ****.   \n",
              "3  Special mention for the new Mean Girl ... welcome her! & if you`re not already, FOLLOW HER!! Night   \n",
              "4                                                         school for a bit. glad jake got the day off   \n",
              "\n",
              "  sentiment predicted_sentiment  \n",
              "0  negative            negative  \n",
              "1   neutral            negative  \n",
              "2  positive            negative  \n",
              "3   neutral            positive  \n",
              "4  positive            positive  "
            ]
          },
          "execution_count": 57,
          "metadata": {},
          "output_type": "execute_result"
        }
      ],
      "source": [
        "df.head()"
      ]
    },
    {
      "cell_type": "code",
      "execution_count": null,
      "metadata": {},
      "outputs": [
        {
          "name": "stdout",
          "output_type": "stream",
          "text": [
            "Accuracy: 0.56\n"
          ]
        }
      ],
      "source": [
        "# check the accuracy of the model\n",
        "df['correct'] = df['sentiment'] == df['predicted_sentiment']\n",
        "accuracy = df['correct'].sum() / len(df)\n",
        "print(f\"Accuracy: {accuracy:.2f}\")"
      ]
    },
    {
      "cell_type": "markdown",
      "metadata": {
        "id": "hqbOdaLRB_aT"
      },
      "source": [
        "# HOW FERRAGNI'S ECONOMY WAS IMPACTED"
      ]
    },
    {
      "cell_type": "markdown",
      "metadata": {
        "id": "I33hGoRECK9e"
      },
      "source": [
        "In order to answer to this question we have collecte the number of published posts, both normal and advertised, 2 months and a half before and after the scandal and plotting the results to get some insights."
      ]
    },
    {
      "cell_type": "markdown",
      "metadata": {
        "id": "6jJ6kNaHCgXr"
      },
      "source": [
        "**Published posts**\n",
        "\n",
        "• September: 65\n",
        "\n",
        "• October: 65\n",
        "\n",
        "• November: 70\n",
        "\n",
        "• 1/2 December: 33\n",
        "\n",
        "• 2/2 December: 1\n",
        "\n",
        "• January: 8\n",
        "\n",
        "• February: 14\n",
        "\n",
        "• March: 22\n",
        "\n",
        "**adv posts**\n",
        "\n",
        "September: 23\n",
        "\n",
        "October: 18\n",
        "\n",
        "November: 18\n",
        "\n",
        "1/2 December: 11\n",
        "\n",
        "2/2 December: 0\n",
        "\n",
        "January: 0\n",
        "\n",
        "February: 0\n",
        "\n",
        "March: 1"
      ]
    },
    {
      "cell_type": "code",
      "execution_count": null,
      "metadata": {
        "id": "i5xZbam8CFvs"
      },
      "outputs": [
        {
          "data": {
            "text/html": [
              "<div>\n",
              "<style scoped>\n",
              "    .dataframe tbody tr th:only-of-type {\n",
              "        vertical-align: middle;\n",
              "    }\n",
              "\n",
              "    .dataframe tbody tr th {\n",
              "        vertical-align: top;\n",
              "    }\n",
              "\n",
              "    .dataframe thead th {\n",
              "        text-align: right;\n",
              "    }\n",
              "</style>\n",
              "<table border=\"1\" class=\"dataframe\">\n",
              "  <thead>\n",
              "    <tr style=\"text-align: right;\">\n",
              "      <th></th>\n",
              "      <th>Months</th>\n",
              "      <th>num_post</th>\n",
              "      <th>num_adv_post</th>\n",
              "      <th>Gains in millions</th>\n",
              "    </tr>\n",
              "  </thead>\n",
              "  <tbody>\n",
              "    <tr>\n",
              "      <th>0</th>\n",
              "      <td>Septmeber</td>\n",
              "      <td>65</td>\n",
              "      <td>23</td>\n",
              "      <td>2.14</td>\n",
              "    </tr>\n",
              "    <tr>\n",
              "      <th>1</th>\n",
              "      <td>October</td>\n",
              "      <td>65</td>\n",
              "      <td>18</td>\n",
              "      <td>1.67</td>\n",
              "    </tr>\n",
              "    <tr>\n",
              "      <th>2</th>\n",
              "      <td>November</td>\n",
              "      <td>70</td>\n",
              "      <td>18</td>\n",
              "      <td>1.67</td>\n",
              "    </tr>\n",
              "    <tr>\n",
              "      <th>3</th>\n",
              "      <td>1/2 December</td>\n",
              "      <td>33</td>\n",
              "      <td>11</td>\n",
              "      <td>1.02</td>\n",
              "    </tr>\n",
              "    <tr>\n",
              "      <th>4</th>\n",
              "      <td>2/2 December</td>\n",
              "      <td>1</td>\n",
              "      <td>0</td>\n",
              "      <td>0.00</td>\n",
              "    </tr>\n",
              "    <tr>\n",
              "      <th>5</th>\n",
              "      <td>January</td>\n",
              "      <td>8</td>\n",
              "      <td>0</td>\n",
              "      <td>0.00</td>\n",
              "    </tr>\n",
              "    <tr>\n",
              "      <th>6</th>\n",
              "      <td>February</td>\n",
              "      <td>14</td>\n",
              "      <td>0</td>\n",
              "      <td>0.00</td>\n",
              "    </tr>\n",
              "    <tr>\n",
              "      <th>7</th>\n",
              "      <td>March</td>\n",
              "      <td>22</td>\n",
              "      <td>1</td>\n",
              "      <td>0.09</td>\n",
              "    </tr>\n",
              "  </tbody>\n",
              "</table>\n",
              "</div>"
            ],
            "text/plain": [
              "         Months  num_post  num_adv_post  Gains in millions\n",
              "0     Septmeber        65            23               2.14\n",
              "1       October        65            18               1.67\n",
              "2      November        70            18               1.67\n",
              "3  1/2 December        33            11               1.02\n",
              "4  2/2 December         1             0               0.00\n",
              "5       January         8             0               0.00\n",
              "6      February        14             0               0.00\n",
              "7         March        22             1               0.09"
            ]
          },
          "execution_count": 47,
          "metadata": {},
          "output_type": "execute_result"
        }
      ],
      "source": [
        "# creating a DataFrame with the collected data adding also a variable indicating the gains in millions based on the fact she\n",
        "# earns euros 93K for each adv post\n",
        "brand_loss=pd.DataFrame({\"Months\":[\"Septmeber\",\"October\",\"November\",\"1/2 December\",\"2/2 December\",\"January\",\"February\",\"March\"],\n",
        "                         \"num_post\":[65,65,70,33,1,8,14,22],'num_adv_post':[23,18,18,11,0,0,0,1],\"Gains in millions\":[2.14,1.67,1.67,1.02,0,0,0,0.09]})\n",
        "brand_loss"
      ]
    },
    {
      "cell_type": "code",
      "execution_count": null,
      "metadata": {
        "id": "Zkm5r6sHEl_O"
      },
      "outputs": [
        {
          "data": {
            "application/vnd.plotly.v1+json": {
              "config": {
                "plotlyServerURL": "https://plot.ly"
              },
              "data": [
                {
                  "marker": {
                    "color": "#C4D600"
                  },
                  "name": "Before",
                  "showlegend": false,
                  "type": "bar",
                  "x": [
                    "Septmeber",
                    "October",
                    "November",
                    "1/2 December"
                  ],
                  "y": [
                    65,
                    65,
                    70,
                    33
                  ]
                },
                {
                  "marker": {
                    "color": "#86BC25"
                  },
                  "name": "After",
                  "showlegend": false,
                  "type": "bar",
                  "x": [
                    "2/2 December",
                    "January",
                    "February",
                    "March"
                  ],
                  "y": [
                    1,
                    8,
                    14,
                    22
                  ]
                }
              ],
              "layout": {
                "annotations": [
                  {
                    "font": {
                      "color": "#000000",
                      "size": 12
                    },
                    "showarrow": false,
                    "text": "Before",
                    "x": 1.5,
                    "y": 73.5
                  },
                  {
                    "font": {
                      "color": "#000000",
                      "size": 12
                    },
                    "showarrow": false,
                    "text": "After",
                    "x": 5.5,
                    "y": 73.5
                  }
                ],
                "height": 600,
                "paper_bgcolor": "#F8F7EB",
                "plot_bgcolor": "#F8F7EB",
                "shapes": [
                  {
                    "line": {
                      "color": "gray",
                      "dash": "dashdot",
                      "width": 1
                    },
                    "type": "line",
                    "x0": 3.5,
                    "x1": 3.5,
                    "y0": 0,
                    "y1": 70
                  }
                ],
                "template": {
                  "data": {
                    "bar": [
                      {
                        "error_x": {
                          "color": "#2a3f5f"
                        },
                        "error_y": {
                          "color": "#2a3f5f"
                        },
                        "marker": {
                          "line": {
                            "color": "#E5ECF6",
                            "width": 0.5
                          },
                          "pattern": {
                            "fillmode": "overlay",
                            "size": 10,
                            "solidity": 0.2
                          }
                        },
                        "type": "bar"
                      }
                    ],
                    "barpolar": [
                      {
                        "marker": {
                          "line": {
                            "color": "#E5ECF6",
                            "width": 0.5
                          },
                          "pattern": {
                            "fillmode": "overlay",
                            "size": 10,
                            "solidity": 0.2
                          }
                        },
                        "type": "barpolar"
                      }
                    ],
                    "carpet": [
                      {
                        "aaxis": {
                          "endlinecolor": "#2a3f5f",
                          "gridcolor": "white",
                          "linecolor": "white",
                          "minorgridcolor": "white",
                          "startlinecolor": "#2a3f5f"
                        },
                        "baxis": {
                          "endlinecolor": "#2a3f5f",
                          "gridcolor": "white",
                          "linecolor": "white",
                          "minorgridcolor": "white",
                          "startlinecolor": "#2a3f5f"
                        },
                        "type": "carpet"
                      }
                    ],
                    "choropleth": [
                      {
                        "colorbar": {
                          "outlinewidth": 0,
                          "ticks": ""
                        },
                        "type": "choropleth"
                      }
                    ],
                    "contour": [
                      {
                        "colorbar": {
                          "outlinewidth": 0,
                          "ticks": ""
                        },
                        "colorscale": [
                          [
                            0,
                            "#0d0887"
                          ],
                          [
                            0.1111111111111111,
                            "#46039f"
                          ],
                          [
                            0.2222222222222222,
                            "#7201a8"
                          ],
                          [
                            0.3333333333333333,
                            "#9c179e"
                          ],
                          [
                            0.4444444444444444,
                            "#bd3786"
                          ],
                          [
                            0.5555555555555556,
                            "#d8576b"
                          ],
                          [
                            0.6666666666666666,
                            "#ed7953"
                          ],
                          [
                            0.7777777777777778,
                            "#fb9f3a"
                          ],
                          [
                            0.8888888888888888,
                            "#fdca26"
                          ],
                          [
                            1,
                            "#f0f921"
                          ]
                        ],
                        "type": "contour"
                      }
                    ],
                    "contourcarpet": [
                      {
                        "colorbar": {
                          "outlinewidth": 0,
                          "ticks": ""
                        },
                        "type": "contourcarpet"
                      }
                    ],
                    "heatmap": [
                      {
                        "colorbar": {
                          "outlinewidth": 0,
                          "ticks": ""
                        },
                        "colorscale": [
                          [
                            0,
                            "#0d0887"
                          ],
                          [
                            0.1111111111111111,
                            "#46039f"
                          ],
                          [
                            0.2222222222222222,
                            "#7201a8"
                          ],
                          [
                            0.3333333333333333,
                            "#9c179e"
                          ],
                          [
                            0.4444444444444444,
                            "#bd3786"
                          ],
                          [
                            0.5555555555555556,
                            "#d8576b"
                          ],
                          [
                            0.6666666666666666,
                            "#ed7953"
                          ],
                          [
                            0.7777777777777778,
                            "#fb9f3a"
                          ],
                          [
                            0.8888888888888888,
                            "#fdca26"
                          ],
                          [
                            1,
                            "#f0f921"
                          ]
                        ],
                        "type": "heatmap"
                      }
                    ],
                    "heatmapgl": [
                      {
                        "colorbar": {
                          "outlinewidth": 0,
                          "ticks": ""
                        },
                        "colorscale": [
                          [
                            0,
                            "#0d0887"
                          ],
                          [
                            0.1111111111111111,
                            "#46039f"
                          ],
                          [
                            0.2222222222222222,
                            "#7201a8"
                          ],
                          [
                            0.3333333333333333,
                            "#9c179e"
                          ],
                          [
                            0.4444444444444444,
                            "#bd3786"
                          ],
                          [
                            0.5555555555555556,
                            "#d8576b"
                          ],
                          [
                            0.6666666666666666,
                            "#ed7953"
                          ],
                          [
                            0.7777777777777778,
                            "#fb9f3a"
                          ],
                          [
                            0.8888888888888888,
                            "#fdca26"
                          ],
                          [
                            1,
                            "#f0f921"
                          ]
                        ],
                        "type": "heatmapgl"
                      }
                    ],
                    "histogram": [
                      {
                        "marker": {
                          "pattern": {
                            "fillmode": "overlay",
                            "size": 10,
                            "solidity": 0.2
                          }
                        },
                        "type": "histogram"
                      }
                    ],
                    "histogram2d": [
                      {
                        "colorbar": {
                          "outlinewidth": 0,
                          "ticks": ""
                        },
                        "colorscale": [
                          [
                            0,
                            "#0d0887"
                          ],
                          [
                            0.1111111111111111,
                            "#46039f"
                          ],
                          [
                            0.2222222222222222,
                            "#7201a8"
                          ],
                          [
                            0.3333333333333333,
                            "#9c179e"
                          ],
                          [
                            0.4444444444444444,
                            "#bd3786"
                          ],
                          [
                            0.5555555555555556,
                            "#d8576b"
                          ],
                          [
                            0.6666666666666666,
                            "#ed7953"
                          ],
                          [
                            0.7777777777777778,
                            "#fb9f3a"
                          ],
                          [
                            0.8888888888888888,
                            "#fdca26"
                          ],
                          [
                            1,
                            "#f0f921"
                          ]
                        ],
                        "type": "histogram2d"
                      }
                    ],
                    "histogram2dcontour": [
                      {
                        "colorbar": {
                          "outlinewidth": 0,
                          "ticks": ""
                        },
                        "colorscale": [
                          [
                            0,
                            "#0d0887"
                          ],
                          [
                            0.1111111111111111,
                            "#46039f"
                          ],
                          [
                            0.2222222222222222,
                            "#7201a8"
                          ],
                          [
                            0.3333333333333333,
                            "#9c179e"
                          ],
                          [
                            0.4444444444444444,
                            "#bd3786"
                          ],
                          [
                            0.5555555555555556,
                            "#d8576b"
                          ],
                          [
                            0.6666666666666666,
                            "#ed7953"
                          ],
                          [
                            0.7777777777777778,
                            "#fb9f3a"
                          ],
                          [
                            0.8888888888888888,
                            "#fdca26"
                          ],
                          [
                            1,
                            "#f0f921"
                          ]
                        ],
                        "type": "histogram2dcontour"
                      }
                    ],
                    "mesh3d": [
                      {
                        "colorbar": {
                          "outlinewidth": 0,
                          "ticks": ""
                        },
                        "type": "mesh3d"
                      }
                    ],
                    "parcoords": [
                      {
                        "line": {
                          "colorbar": {
                            "outlinewidth": 0,
                            "ticks": ""
                          }
                        },
                        "type": "parcoords"
                      }
                    ],
                    "pie": [
                      {
                        "automargin": true,
                        "type": "pie"
                      }
                    ],
                    "scatter": [
                      {
                        "fillpattern": {
                          "fillmode": "overlay",
                          "size": 10,
                          "solidity": 0.2
                        },
                        "type": "scatter"
                      }
                    ],
                    "scatter3d": [
                      {
                        "line": {
                          "colorbar": {
                            "outlinewidth": 0,
                            "ticks": ""
                          }
                        },
                        "marker": {
                          "colorbar": {
                            "outlinewidth": 0,
                            "ticks": ""
                          }
                        },
                        "type": "scatter3d"
                      }
                    ],
                    "scattercarpet": [
                      {
                        "marker": {
                          "colorbar": {
                            "outlinewidth": 0,
                            "ticks": ""
                          }
                        },
                        "type": "scattercarpet"
                      }
                    ],
                    "scattergeo": [
                      {
                        "marker": {
                          "colorbar": {
                            "outlinewidth": 0,
                            "ticks": ""
                          }
                        },
                        "type": "scattergeo"
                      }
                    ],
                    "scattergl": [
                      {
                        "marker": {
                          "colorbar": {
                            "outlinewidth": 0,
                            "ticks": ""
                          }
                        },
                        "type": "scattergl"
                      }
                    ],
                    "scattermapbox": [
                      {
                        "marker": {
                          "colorbar": {
                            "outlinewidth": 0,
                            "ticks": ""
                          }
                        },
                        "type": "scattermapbox"
                      }
                    ],
                    "scatterpolar": [
                      {
                        "marker": {
                          "colorbar": {
                            "outlinewidth": 0,
                            "ticks": ""
                          }
                        },
                        "type": "scatterpolar"
                      }
                    ],
                    "scatterpolargl": [
                      {
                        "marker": {
                          "colorbar": {
                            "outlinewidth": 0,
                            "ticks": ""
                          }
                        },
                        "type": "scatterpolargl"
                      }
                    ],
                    "scatterternary": [
                      {
                        "marker": {
                          "colorbar": {
                            "outlinewidth": 0,
                            "ticks": ""
                          }
                        },
                        "type": "scatterternary"
                      }
                    ],
                    "surface": [
                      {
                        "colorbar": {
                          "outlinewidth": 0,
                          "ticks": ""
                        },
                        "colorscale": [
                          [
                            0,
                            "#0d0887"
                          ],
                          [
                            0.1111111111111111,
                            "#46039f"
                          ],
                          [
                            0.2222222222222222,
                            "#7201a8"
                          ],
                          [
                            0.3333333333333333,
                            "#9c179e"
                          ],
                          [
                            0.4444444444444444,
                            "#bd3786"
                          ],
                          [
                            0.5555555555555556,
                            "#d8576b"
                          ],
                          [
                            0.6666666666666666,
                            "#ed7953"
                          ],
                          [
                            0.7777777777777778,
                            "#fb9f3a"
                          ],
                          [
                            0.8888888888888888,
                            "#fdca26"
                          ],
                          [
                            1,
                            "#f0f921"
                          ]
                        ],
                        "type": "surface"
                      }
                    ],
                    "table": [
                      {
                        "cells": {
                          "fill": {
                            "color": "#EBF0F8"
                          },
                          "line": {
                            "color": "white"
                          }
                        },
                        "header": {
                          "fill": {
                            "color": "#C8D4E3"
                          },
                          "line": {
                            "color": "white"
                          }
                        },
                        "type": "table"
                      }
                    ]
                  },
                  "layout": {
                    "annotationdefaults": {
                      "arrowcolor": "#2a3f5f",
                      "arrowhead": 0,
                      "arrowwidth": 1
                    },
                    "autotypenumbers": "strict",
                    "coloraxis": {
                      "colorbar": {
                        "outlinewidth": 0,
                        "ticks": ""
                      }
                    },
                    "colorscale": {
                      "diverging": [
                        [
                          0,
                          "#8e0152"
                        ],
                        [
                          0.1,
                          "#c51b7d"
                        ],
                        [
                          0.2,
                          "#de77ae"
                        ],
                        [
                          0.3,
                          "#f1b6da"
                        ],
                        [
                          0.4,
                          "#fde0ef"
                        ],
                        [
                          0.5,
                          "#f7f7f7"
                        ],
                        [
                          0.6,
                          "#e6f5d0"
                        ],
                        [
                          0.7,
                          "#b8e186"
                        ],
                        [
                          0.8,
                          "#7fbc41"
                        ],
                        [
                          0.9,
                          "#4d9221"
                        ],
                        [
                          1,
                          "#276419"
                        ]
                      ],
                      "sequential": [
                        [
                          0,
                          "#0d0887"
                        ],
                        [
                          0.1111111111111111,
                          "#46039f"
                        ],
                        [
                          0.2222222222222222,
                          "#7201a8"
                        ],
                        [
                          0.3333333333333333,
                          "#9c179e"
                        ],
                        [
                          0.4444444444444444,
                          "#bd3786"
                        ],
                        [
                          0.5555555555555556,
                          "#d8576b"
                        ],
                        [
                          0.6666666666666666,
                          "#ed7953"
                        ],
                        [
                          0.7777777777777778,
                          "#fb9f3a"
                        ],
                        [
                          0.8888888888888888,
                          "#fdca26"
                        ],
                        [
                          1,
                          "#f0f921"
                        ]
                      ],
                      "sequentialminus": [
                        [
                          0,
                          "#0d0887"
                        ],
                        [
                          0.1111111111111111,
                          "#46039f"
                        ],
                        [
                          0.2222222222222222,
                          "#7201a8"
                        ],
                        [
                          0.3333333333333333,
                          "#9c179e"
                        ],
                        [
                          0.4444444444444444,
                          "#bd3786"
                        ],
                        [
                          0.5555555555555556,
                          "#d8576b"
                        ],
                        [
                          0.6666666666666666,
                          "#ed7953"
                        ],
                        [
                          0.7777777777777778,
                          "#fb9f3a"
                        ],
                        [
                          0.8888888888888888,
                          "#fdca26"
                        ],
                        [
                          1,
                          "#f0f921"
                        ]
                      ]
                    },
                    "colorway": [
                      "#636efa",
                      "#EF553B",
                      "#00cc96",
                      "#ab63fa",
                      "#FFA15A",
                      "#19d3f3",
                      "#FF6692",
                      "#B6E880",
                      "#FF97FF",
                      "#FECB52"
                    ],
                    "font": {
                      "color": "#2a3f5f"
                    },
                    "geo": {
                      "bgcolor": "white",
                      "lakecolor": "white",
                      "landcolor": "#E5ECF6",
                      "showlakes": true,
                      "showland": true,
                      "subunitcolor": "white"
                    },
                    "hoverlabel": {
                      "align": "left"
                    },
                    "hovermode": "closest",
                    "mapbox": {
                      "style": "light"
                    },
                    "paper_bgcolor": "white",
                    "plot_bgcolor": "#E5ECF6",
                    "polar": {
                      "angularaxis": {
                        "gridcolor": "white",
                        "linecolor": "white",
                        "ticks": ""
                      },
                      "bgcolor": "#E5ECF6",
                      "radialaxis": {
                        "gridcolor": "white",
                        "linecolor": "white",
                        "ticks": ""
                      }
                    },
                    "scene": {
                      "xaxis": {
                        "backgroundcolor": "#E5ECF6",
                        "gridcolor": "white",
                        "gridwidth": 2,
                        "linecolor": "white",
                        "showbackground": true,
                        "ticks": "",
                        "zerolinecolor": "white"
                      },
                      "yaxis": {
                        "backgroundcolor": "#E5ECF6",
                        "gridcolor": "white",
                        "gridwidth": 2,
                        "linecolor": "white",
                        "showbackground": true,
                        "ticks": "",
                        "zerolinecolor": "white"
                      },
                      "zaxis": {
                        "backgroundcolor": "#E5ECF6",
                        "gridcolor": "white",
                        "gridwidth": 2,
                        "linecolor": "white",
                        "showbackground": true,
                        "ticks": "",
                        "zerolinecolor": "white"
                      }
                    },
                    "shapedefaults": {
                      "line": {
                        "color": "#2a3f5f"
                      }
                    },
                    "ternary": {
                      "aaxis": {
                        "gridcolor": "white",
                        "linecolor": "white",
                        "ticks": ""
                      },
                      "baxis": {
                        "gridcolor": "white",
                        "linecolor": "white",
                        "ticks": ""
                      },
                      "bgcolor": "#E5ECF6",
                      "caxis": {
                        "gridcolor": "white",
                        "linecolor": "white",
                        "ticks": ""
                      }
                    },
                    "title": {
                      "x": 0.05
                    },
                    "xaxis": {
                      "automargin": true,
                      "gridcolor": "white",
                      "linecolor": "white",
                      "ticks": "",
                      "title": {
                        "standoff": 15
                      },
                      "zerolinecolor": "white",
                      "zerolinewidth": 2
                    },
                    "yaxis": {
                      "automargin": true,
                      "gridcolor": "white",
                      "linecolor": "white",
                      "ticks": "",
                      "title": {
                        "standoff": 15
                      },
                      "zerolinecolor": "white",
                      "zerolinewidth": 2
                    }
                  }
                },
                "title": {
                  "text": "Number of Posts per Month"
                },
                "width": 880,
                "xaxis": {
                  "showgrid": false,
                  "tickangle": 0,
                  "title": {
                    "text": "Months"
                  }
                },
                "yaxis": {
                  "showgrid": false,
                  "title": {
                    "text": "Number of Posts"
                  }
                }
              }
            }
          },
          "metadata": {},
          "output_type": "display_data"
        }
      ],
      "source": [
        "# creating a plot to visualize how much her engagement on Instagram changed after the scandal\n",
        "\n",
        "# colors for the plot\n",
        "colors = ['#000000', '#86BC25', '#C4D600']\n",
        "\n",
        "# Before the scandal\n",
        "trace_before = go.Bar(\n",
        "    x=brand_loss['Months'][:4],\n",
        "    y=brand_loss['num_post'][:4],\n",
        "    name='Before',\n",
        "    marker_color=colors[2],\n",
        "    showlegend=False\n",
        ")\n",
        "\n",
        "# After the scandal\n",
        "trace_after = go.Bar(\n",
        "    x=brand_loss['Months'][4:],\n",
        "    y=brand_loss['num_post'][4:],\n",
        "    name='After',\n",
        "    marker_color=colors[1],\n",
        "    showlegend=False\n",
        ")\n",
        "\n",
        "fig = go.Figure(data=[trace_before, trace_after])\n",
        "\n",
        "# line to separate before and after\n",
        "fig.add_shape(\n",
        "    type=\"line\",\n",
        "    x0=3.5,\n",
        "    y0=0,\n",
        "    x1=3.5,\n",
        "    y1=max(brand_loss['num_post']),\n",
        "    line=dict(\n",
        "        color=\"gray\",\n",
        "        width=1,\n",
        "        dash=\"dashdot\",\n",
        "    )\n",
        ")\n",
        "\n",
        "fig.add_annotation(\n",
        "    x=1.5,\n",
        "    y=max(brand_loss['num_post']) * 1.05,\n",
        "    text=\"Before\",\n",
        "    font=dict(\n",
        "        color=colors[0],\n",
        "        size=12\n",
        "    ),\n",
        "    showarrow=False\n",
        ")\n",
        "\n",
        "fig.add_annotation(\n",
        "    x=5.5,\n",
        "    y=max(brand_loss['num_post']) * 1.05,\n",
        "    text=\"After\",\n",
        "    font=dict(\n",
        "        color=colors[0],\n",
        "        size=12\n",
        "    ),\n",
        "    showarrow=False\n",
        ")\n",
        "\n",
        "fig.update_layout(\n",
        "    title=\"Number of Posts per Month\",\n",
        "    xaxis=dict(\n",
        "        title=\"Months\",\n",
        "        tickangle=0\n",
        "    ),\n",
        "    yaxis=dict(\n",
        "        title=\"Number of Posts\"\n",
        "    ),\n",
        "    width=880,\n",
        "    height=600,\n",
        "    plot_bgcolor='#F8F7EB',\n",
        "    paper_bgcolor='#F8F7EB',\n",
        "    xaxis_showgrid=False,\n",
        "    yaxis_showgrid=False,\n",
        ")\n",
        "\n",
        "fig.show()"
      ]
    },
    {
      "cell_type": "markdown",
      "metadata": {
        "id": "dicyViwmFsrj"
      },
      "source": [
        "It is possible to notice a significant reduction of published posts after the scandal: silence strategy. But is this strategy suitable?\n",
        "Not in the long-term because of financial losses."
      ]
    },
    {
      "cell_type": "code",
      "execution_count": null,
      "metadata": {
        "id": "8GJhR5Y0GAty"
      },
      "outputs": [
        {
          "data": {
            "application/vnd.plotly.v1+json": {
              "config": {
                "plotlyServerURL": "https://plot.ly"
              },
              "data": [
                {
                  "marker": {
                    "color": "#C4D600"
                  },
                  "name": "Before",
                  "showlegend": false,
                  "type": "bar",
                  "x": [
                    "Septmeber",
                    "October",
                    "November",
                    "1/2 December"
                  ],
                  "y": [
                    2.14,
                    1.67,
                    1.67,
                    1.02
                  ]
                },
                {
                  "marker": {
                    "color": "#86BC25"
                  },
                  "name": "After",
                  "showlegend": false,
                  "type": "bar",
                  "x": [
                    "2/2 December",
                    "January",
                    "February",
                    "March"
                  ],
                  "y": [
                    0,
                    0,
                    0,
                    0.09
                  ]
                }
              ],
              "layout": {
                "annotations": [
                  {
                    "font": {
                      "color": "#000000",
                      "size": 12
                    },
                    "showarrow": false,
                    "text": "Before",
                    "x": 1.5,
                    "y": 2.2470000000000003
                  },
                  {
                    "font": {
                      "color": "#000000",
                      "size": 12
                    },
                    "showarrow": false,
                    "text": "After",
                    "x": 5.5,
                    "y": 2.2470000000000003
                  }
                ],
                "height": 600,
                "paper_bgcolor": "#F8F7EB",
                "plot_bgcolor": "#F8F7EB",
                "shapes": [
                  {
                    "line": {
                      "color": "gray",
                      "dash": "dashdot",
                      "width": 1
                    },
                    "type": "line",
                    "x0": 3.5,
                    "x1": 3.5,
                    "y0": 0,
                    "y1": 2.14
                  }
                ],
                "template": {
                  "data": {
                    "bar": [
                      {
                        "error_x": {
                          "color": "#2a3f5f"
                        },
                        "error_y": {
                          "color": "#2a3f5f"
                        },
                        "marker": {
                          "line": {
                            "color": "#E5ECF6",
                            "width": 0.5
                          },
                          "pattern": {
                            "fillmode": "overlay",
                            "size": 10,
                            "solidity": 0.2
                          }
                        },
                        "type": "bar"
                      }
                    ],
                    "barpolar": [
                      {
                        "marker": {
                          "line": {
                            "color": "#E5ECF6",
                            "width": 0.5
                          },
                          "pattern": {
                            "fillmode": "overlay",
                            "size": 10,
                            "solidity": 0.2
                          }
                        },
                        "type": "barpolar"
                      }
                    ],
                    "carpet": [
                      {
                        "aaxis": {
                          "endlinecolor": "#2a3f5f",
                          "gridcolor": "white",
                          "linecolor": "white",
                          "minorgridcolor": "white",
                          "startlinecolor": "#2a3f5f"
                        },
                        "baxis": {
                          "endlinecolor": "#2a3f5f",
                          "gridcolor": "white",
                          "linecolor": "white",
                          "minorgridcolor": "white",
                          "startlinecolor": "#2a3f5f"
                        },
                        "type": "carpet"
                      }
                    ],
                    "choropleth": [
                      {
                        "colorbar": {
                          "outlinewidth": 0,
                          "ticks": ""
                        },
                        "type": "choropleth"
                      }
                    ],
                    "contour": [
                      {
                        "colorbar": {
                          "outlinewidth": 0,
                          "ticks": ""
                        },
                        "colorscale": [
                          [
                            0,
                            "#0d0887"
                          ],
                          [
                            0.1111111111111111,
                            "#46039f"
                          ],
                          [
                            0.2222222222222222,
                            "#7201a8"
                          ],
                          [
                            0.3333333333333333,
                            "#9c179e"
                          ],
                          [
                            0.4444444444444444,
                            "#bd3786"
                          ],
                          [
                            0.5555555555555556,
                            "#d8576b"
                          ],
                          [
                            0.6666666666666666,
                            "#ed7953"
                          ],
                          [
                            0.7777777777777778,
                            "#fb9f3a"
                          ],
                          [
                            0.8888888888888888,
                            "#fdca26"
                          ],
                          [
                            1,
                            "#f0f921"
                          ]
                        ],
                        "type": "contour"
                      }
                    ],
                    "contourcarpet": [
                      {
                        "colorbar": {
                          "outlinewidth": 0,
                          "ticks": ""
                        },
                        "type": "contourcarpet"
                      }
                    ],
                    "heatmap": [
                      {
                        "colorbar": {
                          "outlinewidth": 0,
                          "ticks": ""
                        },
                        "colorscale": [
                          [
                            0,
                            "#0d0887"
                          ],
                          [
                            0.1111111111111111,
                            "#46039f"
                          ],
                          [
                            0.2222222222222222,
                            "#7201a8"
                          ],
                          [
                            0.3333333333333333,
                            "#9c179e"
                          ],
                          [
                            0.4444444444444444,
                            "#bd3786"
                          ],
                          [
                            0.5555555555555556,
                            "#d8576b"
                          ],
                          [
                            0.6666666666666666,
                            "#ed7953"
                          ],
                          [
                            0.7777777777777778,
                            "#fb9f3a"
                          ],
                          [
                            0.8888888888888888,
                            "#fdca26"
                          ],
                          [
                            1,
                            "#f0f921"
                          ]
                        ],
                        "type": "heatmap"
                      }
                    ],
                    "heatmapgl": [
                      {
                        "colorbar": {
                          "outlinewidth": 0,
                          "ticks": ""
                        },
                        "colorscale": [
                          [
                            0,
                            "#0d0887"
                          ],
                          [
                            0.1111111111111111,
                            "#46039f"
                          ],
                          [
                            0.2222222222222222,
                            "#7201a8"
                          ],
                          [
                            0.3333333333333333,
                            "#9c179e"
                          ],
                          [
                            0.4444444444444444,
                            "#bd3786"
                          ],
                          [
                            0.5555555555555556,
                            "#d8576b"
                          ],
                          [
                            0.6666666666666666,
                            "#ed7953"
                          ],
                          [
                            0.7777777777777778,
                            "#fb9f3a"
                          ],
                          [
                            0.8888888888888888,
                            "#fdca26"
                          ],
                          [
                            1,
                            "#f0f921"
                          ]
                        ],
                        "type": "heatmapgl"
                      }
                    ],
                    "histogram": [
                      {
                        "marker": {
                          "pattern": {
                            "fillmode": "overlay",
                            "size": 10,
                            "solidity": 0.2
                          }
                        },
                        "type": "histogram"
                      }
                    ],
                    "histogram2d": [
                      {
                        "colorbar": {
                          "outlinewidth": 0,
                          "ticks": ""
                        },
                        "colorscale": [
                          [
                            0,
                            "#0d0887"
                          ],
                          [
                            0.1111111111111111,
                            "#46039f"
                          ],
                          [
                            0.2222222222222222,
                            "#7201a8"
                          ],
                          [
                            0.3333333333333333,
                            "#9c179e"
                          ],
                          [
                            0.4444444444444444,
                            "#bd3786"
                          ],
                          [
                            0.5555555555555556,
                            "#d8576b"
                          ],
                          [
                            0.6666666666666666,
                            "#ed7953"
                          ],
                          [
                            0.7777777777777778,
                            "#fb9f3a"
                          ],
                          [
                            0.8888888888888888,
                            "#fdca26"
                          ],
                          [
                            1,
                            "#f0f921"
                          ]
                        ],
                        "type": "histogram2d"
                      }
                    ],
                    "histogram2dcontour": [
                      {
                        "colorbar": {
                          "outlinewidth": 0,
                          "ticks": ""
                        },
                        "colorscale": [
                          [
                            0,
                            "#0d0887"
                          ],
                          [
                            0.1111111111111111,
                            "#46039f"
                          ],
                          [
                            0.2222222222222222,
                            "#7201a8"
                          ],
                          [
                            0.3333333333333333,
                            "#9c179e"
                          ],
                          [
                            0.4444444444444444,
                            "#bd3786"
                          ],
                          [
                            0.5555555555555556,
                            "#d8576b"
                          ],
                          [
                            0.6666666666666666,
                            "#ed7953"
                          ],
                          [
                            0.7777777777777778,
                            "#fb9f3a"
                          ],
                          [
                            0.8888888888888888,
                            "#fdca26"
                          ],
                          [
                            1,
                            "#f0f921"
                          ]
                        ],
                        "type": "histogram2dcontour"
                      }
                    ],
                    "mesh3d": [
                      {
                        "colorbar": {
                          "outlinewidth": 0,
                          "ticks": ""
                        },
                        "type": "mesh3d"
                      }
                    ],
                    "parcoords": [
                      {
                        "line": {
                          "colorbar": {
                            "outlinewidth": 0,
                            "ticks": ""
                          }
                        },
                        "type": "parcoords"
                      }
                    ],
                    "pie": [
                      {
                        "automargin": true,
                        "type": "pie"
                      }
                    ],
                    "scatter": [
                      {
                        "fillpattern": {
                          "fillmode": "overlay",
                          "size": 10,
                          "solidity": 0.2
                        },
                        "type": "scatter"
                      }
                    ],
                    "scatter3d": [
                      {
                        "line": {
                          "colorbar": {
                            "outlinewidth": 0,
                            "ticks": ""
                          }
                        },
                        "marker": {
                          "colorbar": {
                            "outlinewidth": 0,
                            "ticks": ""
                          }
                        },
                        "type": "scatter3d"
                      }
                    ],
                    "scattercarpet": [
                      {
                        "marker": {
                          "colorbar": {
                            "outlinewidth": 0,
                            "ticks": ""
                          }
                        },
                        "type": "scattercarpet"
                      }
                    ],
                    "scattergeo": [
                      {
                        "marker": {
                          "colorbar": {
                            "outlinewidth": 0,
                            "ticks": ""
                          }
                        },
                        "type": "scattergeo"
                      }
                    ],
                    "scattergl": [
                      {
                        "marker": {
                          "colorbar": {
                            "outlinewidth": 0,
                            "ticks": ""
                          }
                        },
                        "type": "scattergl"
                      }
                    ],
                    "scattermapbox": [
                      {
                        "marker": {
                          "colorbar": {
                            "outlinewidth": 0,
                            "ticks": ""
                          }
                        },
                        "type": "scattermapbox"
                      }
                    ],
                    "scatterpolar": [
                      {
                        "marker": {
                          "colorbar": {
                            "outlinewidth": 0,
                            "ticks": ""
                          }
                        },
                        "type": "scatterpolar"
                      }
                    ],
                    "scatterpolargl": [
                      {
                        "marker": {
                          "colorbar": {
                            "outlinewidth": 0,
                            "ticks": ""
                          }
                        },
                        "type": "scatterpolargl"
                      }
                    ],
                    "scatterternary": [
                      {
                        "marker": {
                          "colorbar": {
                            "outlinewidth": 0,
                            "ticks": ""
                          }
                        },
                        "type": "scatterternary"
                      }
                    ],
                    "surface": [
                      {
                        "colorbar": {
                          "outlinewidth": 0,
                          "ticks": ""
                        },
                        "colorscale": [
                          [
                            0,
                            "#0d0887"
                          ],
                          [
                            0.1111111111111111,
                            "#46039f"
                          ],
                          [
                            0.2222222222222222,
                            "#7201a8"
                          ],
                          [
                            0.3333333333333333,
                            "#9c179e"
                          ],
                          [
                            0.4444444444444444,
                            "#bd3786"
                          ],
                          [
                            0.5555555555555556,
                            "#d8576b"
                          ],
                          [
                            0.6666666666666666,
                            "#ed7953"
                          ],
                          [
                            0.7777777777777778,
                            "#fb9f3a"
                          ],
                          [
                            0.8888888888888888,
                            "#fdca26"
                          ],
                          [
                            1,
                            "#f0f921"
                          ]
                        ],
                        "type": "surface"
                      }
                    ],
                    "table": [
                      {
                        "cells": {
                          "fill": {
                            "color": "#EBF0F8"
                          },
                          "line": {
                            "color": "white"
                          }
                        },
                        "header": {
                          "fill": {
                            "color": "#C8D4E3"
                          },
                          "line": {
                            "color": "white"
                          }
                        },
                        "type": "table"
                      }
                    ]
                  },
                  "layout": {
                    "annotationdefaults": {
                      "arrowcolor": "#2a3f5f",
                      "arrowhead": 0,
                      "arrowwidth": 1
                    },
                    "autotypenumbers": "strict",
                    "coloraxis": {
                      "colorbar": {
                        "outlinewidth": 0,
                        "ticks": ""
                      }
                    },
                    "colorscale": {
                      "diverging": [
                        [
                          0,
                          "#8e0152"
                        ],
                        [
                          0.1,
                          "#c51b7d"
                        ],
                        [
                          0.2,
                          "#de77ae"
                        ],
                        [
                          0.3,
                          "#f1b6da"
                        ],
                        [
                          0.4,
                          "#fde0ef"
                        ],
                        [
                          0.5,
                          "#f7f7f7"
                        ],
                        [
                          0.6,
                          "#e6f5d0"
                        ],
                        [
                          0.7,
                          "#b8e186"
                        ],
                        [
                          0.8,
                          "#7fbc41"
                        ],
                        [
                          0.9,
                          "#4d9221"
                        ],
                        [
                          1,
                          "#276419"
                        ]
                      ],
                      "sequential": [
                        [
                          0,
                          "#0d0887"
                        ],
                        [
                          0.1111111111111111,
                          "#46039f"
                        ],
                        [
                          0.2222222222222222,
                          "#7201a8"
                        ],
                        [
                          0.3333333333333333,
                          "#9c179e"
                        ],
                        [
                          0.4444444444444444,
                          "#bd3786"
                        ],
                        [
                          0.5555555555555556,
                          "#d8576b"
                        ],
                        [
                          0.6666666666666666,
                          "#ed7953"
                        ],
                        [
                          0.7777777777777778,
                          "#fb9f3a"
                        ],
                        [
                          0.8888888888888888,
                          "#fdca26"
                        ],
                        [
                          1,
                          "#f0f921"
                        ]
                      ],
                      "sequentialminus": [
                        [
                          0,
                          "#0d0887"
                        ],
                        [
                          0.1111111111111111,
                          "#46039f"
                        ],
                        [
                          0.2222222222222222,
                          "#7201a8"
                        ],
                        [
                          0.3333333333333333,
                          "#9c179e"
                        ],
                        [
                          0.4444444444444444,
                          "#bd3786"
                        ],
                        [
                          0.5555555555555556,
                          "#d8576b"
                        ],
                        [
                          0.6666666666666666,
                          "#ed7953"
                        ],
                        [
                          0.7777777777777778,
                          "#fb9f3a"
                        ],
                        [
                          0.8888888888888888,
                          "#fdca26"
                        ],
                        [
                          1,
                          "#f0f921"
                        ]
                      ]
                    },
                    "colorway": [
                      "#636efa",
                      "#EF553B",
                      "#00cc96",
                      "#ab63fa",
                      "#FFA15A",
                      "#19d3f3",
                      "#FF6692",
                      "#B6E880",
                      "#FF97FF",
                      "#FECB52"
                    ],
                    "font": {
                      "color": "#2a3f5f"
                    },
                    "geo": {
                      "bgcolor": "white",
                      "lakecolor": "white",
                      "landcolor": "#E5ECF6",
                      "showlakes": true,
                      "showland": true,
                      "subunitcolor": "white"
                    },
                    "hoverlabel": {
                      "align": "left"
                    },
                    "hovermode": "closest",
                    "mapbox": {
                      "style": "light"
                    },
                    "paper_bgcolor": "white",
                    "plot_bgcolor": "#E5ECF6",
                    "polar": {
                      "angularaxis": {
                        "gridcolor": "white",
                        "linecolor": "white",
                        "ticks": ""
                      },
                      "bgcolor": "#E5ECF6",
                      "radialaxis": {
                        "gridcolor": "white",
                        "linecolor": "white",
                        "ticks": ""
                      }
                    },
                    "scene": {
                      "xaxis": {
                        "backgroundcolor": "#E5ECF6",
                        "gridcolor": "white",
                        "gridwidth": 2,
                        "linecolor": "white",
                        "showbackground": true,
                        "ticks": "",
                        "zerolinecolor": "white"
                      },
                      "yaxis": {
                        "backgroundcolor": "#E5ECF6",
                        "gridcolor": "white",
                        "gridwidth": 2,
                        "linecolor": "white",
                        "showbackground": true,
                        "ticks": "",
                        "zerolinecolor": "white"
                      },
                      "zaxis": {
                        "backgroundcolor": "#E5ECF6",
                        "gridcolor": "white",
                        "gridwidth": 2,
                        "linecolor": "white",
                        "showbackground": true,
                        "ticks": "",
                        "zerolinecolor": "white"
                      }
                    },
                    "shapedefaults": {
                      "line": {
                        "color": "#2a3f5f"
                      }
                    },
                    "ternary": {
                      "aaxis": {
                        "gridcolor": "white",
                        "linecolor": "white",
                        "ticks": ""
                      },
                      "baxis": {
                        "gridcolor": "white",
                        "linecolor": "white",
                        "ticks": ""
                      },
                      "bgcolor": "#E5ECF6",
                      "caxis": {
                        "gridcolor": "white",
                        "linecolor": "white",
                        "ticks": ""
                      }
                    },
                    "title": {
                      "x": 0.05
                    },
                    "xaxis": {
                      "automargin": true,
                      "gridcolor": "white",
                      "linecolor": "white",
                      "ticks": "",
                      "title": {
                        "standoff": 15
                      },
                      "zerolinecolor": "white",
                      "zerolinewidth": 2
                    },
                    "yaxis": {
                      "automargin": true,
                      "gridcolor": "white",
                      "linecolor": "white",
                      "ticks": "",
                      "title": {
                        "standoff": 15
                      },
                      "zerolinecolor": "white",
                      "zerolinewidth": 2
                    }
                  }
                },
                "title": {
                  "text": "Money lost on adv posts"
                },
                "width": 880,
                "xaxis": {
                  "showgrid": false,
                  "tickangle": 0,
                  "title": {
                    "text": "Months"
                  }
                },
                "yaxis": {
                  "showgrid": false,
                  "title": {
                    "text": "Gains on adv posts"
                  }
                }
              }
            }
          },
          "metadata": {},
          "output_type": "display_data"
        }
      ],
      "source": [
        "# visualizing Chiara's financial losses based exclusively on the fact that she earns euros 93K per advertised post\n",
        "\n",
        "# colors for the plot\n",
        "colors = ['#000000', '#86BC25', '#C4D600']\n",
        "\n",
        "# Before the scandal\n",
        "trace_before = go.Bar(\n",
        "    x=brand_loss['Months'][:4],\n",
        "    y=brand_loss['Gains in millions'][:4],\n",
        "    name='Before',\n",
        "    marker_color=colors[2],\n",
        "    showlegend=False\n",
        ")\n",
        "\n",
        "# After the scandal\n",
        "trace_after = go.Bar(\n",
        "    x=brand_loss['Months'][4:],\n",
        "    y=brand_loss['Gains in millions'][4:],\n",
        "    name='After',\n",
        "    marker_color=colors[1],\n",
        "    showlegend=False\n",
        ")\n",
        "\n",
        "fig = go.Figure(data=[trace_before, trace_after])\n",
        "\n",
        "# line to separate before and after\n",
        "fig.add_shape(\n",
        "    type=\"line\",\n",
        "    x0=3.5,\n",
        "    y0=0,\n",
        "    x1=3.5,\n",
        "    y1=max(brand_loss['Gains in millions']),\n",
        "    line=dict(\n",
        "        color=\"gray\",\n",
        "        width=1,\n",
        "        dash=\"dashdot\",\n",
        "    )\n",
        ")\n",
        "\n",
        "fig.add_annotation(\n",
        "    x=1.5,\n",
        "    y=max(brand_loss['Gains in millions']) * 1.05,\n",
        "    text=\"Before\",\n",
        "    font=dict(\n",
        "        color=colors[0],\n",
        "        size=12\n",
        "    ),\n",
        "    showarrow=False\n",
        ")\n",
        "\n",
        "fig.add_annotation(\n",
        "    x=5.5,\n",
        "    y=max(brand_loss['Gains in millions']) * 1.05,\n",
        "    text=\"After\",\n",
        "    font=dict(\n",
        "        color=colors[0],\n",
        "        size=12\n",
        "    ),\n",
        "    showarrow=False\n",
        ")\n",
        "\n",
        "\n",
        "fig.update_layout(\n",
        "    title=\"Money lost on adv posts\",\n",
        "    xaxis=dict(\n",
        "        title=\"Months\",\n",
        "        tickangle=0\n",
        "    ),\n",
        "    yaxis=dict(\n",
        "        title=\"Gains on adv posts\"\n",
        "    ),\n",
        "    width=880,\n",
        "    height=600,\n",
        "    plot_bgcolor='#F8F7EB',\n",
        "    paper_bgcolor='#F8F7EB',\n",
        "    xaxis_showgrid=False,\n",
        "    yaxis_showgrid=False,\n",
        ")\n",
        "\n",
        "fig.show()"
      ]
    },
    {
      "cell_type": "markdown",
      "metadata": {
        "id": "Z8L9C0-yGpPv"
      },
      "source": [
        "Significant loss, from euros 2 millions per post before the scandal to euros 93K after the scandal --> only one published advertised post in the two months and a half after the scandal."
      ]
    },
    {
      "cell_type": "markdown",
      "metadata": {},
      "source": []
    }
  ],
  "metadata": {
    "accelerator": "GPU",
    "colab": {
      "gpuType": "T4",
      "provenance": []
    },
    "kernelspec": {
      "display_name": "Python 3",
      "name": "python3"
    },
    "language_info": {
      "codemirror_mode": {
        "name": "ipython",
        "version": 3
      },
      "file_extension": ".py",
      "mimetype": "text/x-python",
      "name": "python",
      "nbconvert_exporter": "python",
      "pygments_lexer": "ipython3",
      "version": "3.12.0"
    }
  },
  "nbformat": 4,
  "nbformat_minor": 0
}
